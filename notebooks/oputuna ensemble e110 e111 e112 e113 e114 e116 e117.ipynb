{
 "cells": [
  {
   "cell_type": "code",
   "execution_count": 1,
   "id": "4d825f0e",
   "metadata": {
    "scrolled": false
   },
   "outputs": [
    {
     "data": {
      "text/html": [
       "<style>.container { width:90% !important; }</style>"
      ],
      "text/plain": [
       "<IPython.core.display.HTML object>"
      ]
     },
     "metadata": {},
     "output_type": "display_data"
    }
   ],
   "source": [
    "import sys\n",
    "import pandas as pd\n",
    "import json\n",
    "import numpy as np\n",
    "import torch\n",
    "from torch import Tensor\n",
    "import pickle\n",
    "from tqdm.auto import tqdm\n",
    "\n",
    "from matplotlib import pyplot as plt\n",
    "\n",
    "sys.path.append(\"../\")\n",
    "from src.log import myLogger\n",
    "from src.repository.data_repository import DataRepository\n",
    "from src.checkpoint.checkpoint import Checkpoint\n",
    "from src.metrics.jaccard import jaccard, calc_jaccard_mean\n",
    "\n",
    "pd.set_option(\"display.max_columns\", 300)\n",
    "pd.set_option(\"display.max_rows\", 600)\n",
    "\n",
    "%load_ext autoreload\n",
    "%autoreload 2\n",
    "\n",
    "from IPython.core.display import display, HTML\n",
    "display(HTML(\"<style>.container { width:90% !important; }</style>\"))\n",
    "%config InlineBackend.figure_formats = {'png', 'retina'}"
   ]
  },
  {
   "cell_type": "code",
   "execution_count": 2,
   "id": "f0a8b773",
   "metadata": {},
   "outputs": [
    {
     "name": "stderr",
     "output_type": "stream",
     "text": [
      "2021-11-15 17:20:29,069 log.py               31   [INFO] [__init__] skip wandb init \n"
     ]
    }
   ],
   "source": [
    "logger = myLogger(\"../logs/temp.log\", exp_id=\"e000\", wdb_prj_id=\"temp\", exp_config=None, use_wdb=False) \n",
    "dr = DataRepository(logger=logger, local_root_path=\"..\")"
   ]
  },
  {
   "cell_type": "code",
   "execution_count": null,
   "id": "64165f5e",
   "metadata": {},
   "outputs": [],
   "source": []
  },
  {
   "cell_type": "markdown",
   "id": "4b00d42d",
   "metadata": {},
   "source": [
    "## optuna ensemble"
   ]
  },
  {
   "cell_type": "code",
   "execution_count": 3,
   "id": "18cc15e5",
   "metadata": {},
   "outputs": [],
   "source": [
    "import pickle\n",
    "\n",
    "with open(\"../data/dataset/optuna_ens/prep_dfs.pkl\", \"rb\") as fin:\n",
    "    prep_dfs = pickle.load(fin)"
   ]
  },
  {
   "cell_type": "code",
   "execution_count": 4,
   "id": "6dfdd2d8",
   "metadata": {},
   "outputs": [],
   "source": [
    "for k in prep_dfs:\n",
    "    prep_dfs[k] = prep_dfs[k][prep_dfs[k].start_logits.notnull()]"
   ]
  },
  {
   "cell_type": "code",
   "execution_count": 5,
   "id": "3da2f000",
   "metadata": {},
   "outputs": [],
   "source": [
    "optuna_exp_ids = [\"e048\", \"e049\", \"e051\", \"e053\", \"e054\", \"e073\", \"e074\"]"
   ]
  },
  {
   "cell_type": "code",
   "execution_count": 6,
   "id": "f4335357",
   "metadata": {},
   "outputs": [],
   "source": [
    "from src.postprocessor.factory import PostprocessorFactory\n",
    "\n",
    "postprocessor = PostprocessorFactory(\n",
    "    **{\n",
    "        \"postprocessor_type\": \"baseline_kernel\",\n",
    "        \"n_best_size\": 50,\n",
    "        \"max_answer_length\": 30,\n",
    "        \"use_chars_length\": False,\n",
    "        \"text_postprocess\": \"mypospro_ver1\",\n",
    "        \"use_multiprocess\": True,\n",
    "    },\n",
    "    logger=logger\n",
    ").create()"
   ]
  },
  {
   "cell_type": "code",
   "execution_count": 7,
   "id": "37f6edd5",
   "metadata": {},
   "outputs": [],
   "source": [
    "def objective(trial):\n",
    "    samples = [1./len(optuna_exp_ids)]*len(optuna_exp_ids)\n",
    "    for i in range(len(optuna_exp_ids)):\n",
    "        samples[i] = trial.suggest_uniform(optuna_exp_ids[i], 0, 1)\n",
    "    \n",
    "    w = [samples[i]/sum(samples) for i in range(len(samples))]\n",
    "    \n",
    "    ids = prep_dfs[optuna_exp_ids[0]][\"id\"]\n",
    "    contexts = prep_dfs[optuna_exp_ids[0]][\"context\"]\n",
    "    answer_texts = prep_dfs[optuna_exp_ids[0]][\"answer_text\"]\n",
    "    offset_mappings = prep_dfs[optuna_exp_ids[0]][\"offset_mapping\"]\n",
    "    \n",
    "    start_logits = w[0] * prep_dfs[optuna_exp_ids[0]][\"start_logits\"]\n",
    "    end_logits = w[0] * prep_dfs[optuna_exp_ids[0]][\"end_logits\"]\n",
    "    for i in range(1, len(optuna_exp_ids)):\n",
    "        start_logits += w[i] * prep_dfs[optuna_exp_ids[i]][\"start_logits\"]\n",
    "        end_logits += w[i] * prep_dfs[optuna_exp_ids[i]][\"end_logits\"]\n",
    "\n",
    "    pospro_ids, pospro_answer_texts, pospro_answer_preds = postprocessor(\n",
    "        ids=ids,\n",
    "        contexts=contexts,\n",
    "        answer_texts=answer_texts,\n",
    "        offset_mappings=offset_mappings,\n",
    "        start_logits=start_logits,\n",
    "        end_logits=end_logits,\n",
    "    )\n",
    "    val_jaccard = calc_jaccard_mean(\n",
    "        text_trues=pospro_answer_texts, text_preds=pospro_answer_preds\n",
    "    )\n",
    "    return val_jaccard"
   ]
  },
  {
   "cell_type": "code",
   "execution_count": 10,
   "id": "31535008",
   "metadata": {
    "scrolled": true
   },
   "outputs": [
    {
     "name": "stderr",
     "output_type": "stream",
     "text": [
      "\u001b[32m[I 2021-11-15 17:36:00,096]\u001b[0m A new study created in memory with name: no-name-ca7e2c83-dd99-45b0-8c96-3f2890b3850f\u001b[0m\n",
      "2021-11-15 17:36:01,030 postprocessor.py     58   [INFO] [__call__] start postprocessing \n"
     ]
    },
    {
     "data": {
      "application/vnd.jupyter.widget-view+json": {
       "model_id": "34e4de29ae814c76b84ba2cbe14ba64a",
       "version_major": 2,
       "version_minor": 0
      },
      "text/plain": [
       "  0%|          | 0/1114 [00:00<?, ?it/s]"
      ]
     },
     "metadata": {},
     "output_type": "display_data"
    },
    {
     "name": "stderr",
     "output_type": "stream",
     "text": [
      "\u001b[32m[I 2021-11-15 17:36:08,799]\u001b[0m Trial 0 finished with value: 0.7177427462324235 and parameters: {'e048': 0.8393150794282638, 'e049': 0.10851854699591046, 'e051': 0.9622121276728473, 'e053': 0.40489834405439806, 'e054': 0.33426326760165037, 'e073': 0.2674024049202862, 'e074': 0.24603048641822745}. Best is trial 0 with value: 0.7177427462324235.\u001b[0m\n",
      "2021-11-15 17:36:09,764 postprocessor.py     58   [INFO] [__call__] start postprocessing \n"
     ]
    },
    {
     "data": {
      "application/vnd.jupyter.widget-view+json": {
       "model_id": "57fb987837b848c7a551457ac1f10655",
       "version_major": 2,
       "version_minor": 0
      },
      "text/plain": [
       "  0%|          | 0/1114 [00:00<?, ?it/s]"
      ]
     },
     "metadata": {},
     "output_type": "display_data"
    },
    {
     "name": "stderr",
     "output_type": "stream",
     "text": [
      "\u001b[32m[I 2021-11-15 17:36:17,626]\u001b[0m Trial 1 finished with value: 0.7155598503331899 and parameters: {'e048': 0.07507078242189491, 'e049': 0.9763854072261603, 'e051': 0.2689735152526628, 'e053': 0.21468672588920823, 'e054': 0.16737477013055768, 'e073': 0.558163319233035, 'e074': 0.016935450298797616}. Best is trial 0 with value: 0.7177427462324235.\u001b[0m\n",
      "2021-11-15 17:36:18,570 postprocessor.py     58   [INFO] [__call__] start postprocessing \n"
     ]
    },
    {
     "data": {
      "application/vnd.jupyter.widget-view+json": {
       "model_id": "b8bcce4704e043c9a62d2ea36abba721",
       "version_major": 2,
       "version_minor": 0
      },
      "text/plain": [
       "  0%|          | 0/1114 [00:00<?, ?it/s]"
      ]
     },
     "metadata": {},
     "output_type": "display_data"
    },
    {
     "name": "stderr",
     "output_type": "stream",
     "text": [
      "\u001b[32m[I 2021-11-15 17:36:26,354]\u001b[0m Trial 2 finished with value: 0.7195333180185068 and parameters: {'e048': 0.07586037065400619, 'e049': 0.4240174227777528, 'e051': 0.9468970598960778, 'e053': 0.19190403280060897, 'e054': 0.5207409276887363, 'e073': 0.3587769472308229, 'e074': 0.12991954204068235}. Best is trial 2 with value: 0.7195333180185068.\u001b[0m\n",
      "2021-11-15 17:36:27,293 postprocessor.py     58   [INFO] [__call__] start postprocessing \n"
     ]
    },
    {
     "data": {
      "application/vnd.jupyter.widget-view+json": {
       "model_id": "2c6fde051c6a4c9d96e364b29b19b6ea",
       "version_major": 2,
       "version_minor": 0
      },
      "text/plain": [
       "  0%|          | 0/1114 [00:00<?, ?it/s]"
      ]
     },
     "metadata": {},
     "output_type": "display_data"
    },
    {
     "name": "stderr",
     "output_type": "stream",
     "text": [
      "\u001b[32m[I 2021-11-15 17:36:35,044]\u001b[0m Trial 3 finished with value: 0.7183465335283112 and parameters: {'e048': 0.1517710500560806, 'e049': 0.5395896944195318, 'e051': 0.5397769675462752, 'e053': 0.22392301821441452, 'e054': 0.8047016909301234, 'e073': 0.39378371069919504, 'e074': 0.16028958145615602}. Best is trial 2 with value: 0.7195333180185068.\u001b[0m\n",
      "2021-11-15 17:36:35,973 postprocessor.py     58   [INFO] [__call__] start postprocessing \n"
     ]
    },
    {
     "data": {
      "application/vnd.jupyter.widget-view+json": {
       "model_id": "2f7f8187364b4205a50508fb3eb78978",
       "version_major": 2,
       "version_minor": 0
      },
      "text/plain": [
       "  0%|          | 0/1114 [00:00<?, ?it/s]"
      ]
     },
     "metadata": {},
     "output_type": "display_data"
    },
    {
     "name": "stderr",
     "output_type": "stream",
     "text": [
      "\u001b[32m[I 2021-11-15 17:36:43,848]\u001b[0m Trial 4 finished with value: 0.7257268576725493 and parameters: {'e048': 0.17927166806519823, 'e049': 0.05253953306353931, 'e051': 0.05114737344124576, 'e053': 0.6353293380674951, 'e054': 0.741365047655413, 'e073': 0.460993692084698, 'e074': 0.9527908066650443}. Best is trial 4 with value: 0.7257268576725493.\u001b[0m\n",
      "2021-11-15 17:36:44,802 postprocessor.py     58   [INFO] [__call__] start postprocessing \n"
     ]
    },
    {
     "data": {
      "application/vnd.jupyter.widget-view+json": {
       "model_id": "0f1ff9f2b86040e083564d2adf8ca101",
       "version_major": 2,
       "version_minor": 0
      },
      "text/plain": [
       "  0%|          | 0/1114 [00:00<?, ?it/s]"
      ]
     },
     "metadata": {},
     "output_type": "display_data"
    },
    {
     "name": "stderr",
     "output_type": "stream",
     "text": [
      "\u001b[32m[I 2021-11-15 17:36:52,572]\u001b[0m Trial 5 finished with value: 0.7235968113773324 and parameters: {'e048': 0.5578008710130242, 'e049': 0.3237949937147381, 'e051': 0.6819428584461426, 'e053': 0.6287755825806456, 'e054': 0.5295143296192576, 'e073': 0.5622771352571359, 'e074': 0.6567290426065839}. Best is trial 4 with value: 0.7257268576725493.\u001b[0m\n",
      "2021-11-15 17:36:53,531 postprocessor.py     58   [INFO] [__call__] start postprocessing \n"
     ]
    },
    {
     "data": {
      "application/vnd.jupyter.widget-view+json": {
       "model_id": "1263010814494060a5ec557b9628970d",
       "version_major": 2,
       "version_minor": 0
      },
      "text/plain": [
       "  0%|          | 0/1114 [00:00<?, ?it/s]"
      ]
     },
     "metadata": {},
     "output_type": "display_data"
    },
    {
     "name": "stderr",
     "output_type": "stream",
     "text": [
      "\u001b[32m[I 2021-11-15 17:37:01,275]\u001b[0m Trial 6 finished with value: 0.7184053092827782 and parameters: {'e048': 0.9003859119207314, 'e049': 0.3071297369375925, 'e051': 0.14137029148087865, 'e053': 0.5709950416149941, 'e054': 0.6734991798339567, 'e073': 0.20405581538605244, 'e074': 0.032138091623845955}. Best is trial 4 with value: 0.7257268576725493.\u001b[0m\n",
      "2021-11-15 17:37:02,216 postprocessor.py     58   [INFO] [__call__] start postprocessing \n"
     ]
    },
    {
     "data": {
      "application/vnd.jupyter.widget-view+json": {
       "model_id": "a0ddbd2bdbed4911b4fb36d000778d1b",
       "version_major": 2,
       "version_minor": 0
      },
      "text/plain": [
       "  0%|          | 0/1114 [00:00<?, ?it/s]"
      ]
     },
     "metadata": {},
     "output_type": "display_data"
    },
    {
     "name": "stderr",
     "output_type": "stream",
     "text": [
      "\u001b[32m[I 2021-11-15 17:37:09,978]\u001b[0m Trial 7 finished with value: 0.7221306234659023 and parameters: {'e048': 0.8607200584073716, 'e049': 0.3204575832172295, 'e051': 0.7091662473157673, 'e053': 0.7382231747819477, 'e054': 0.41044086500582855, 'e073': 0.544952579614351, 'e074': 0.3975798324716431}. Best is trial 4 with value: 0.7257268576725493.\u001b[0m\n",
      "2021-11-15 17:37:10,920 postprocessor.py     58   [INFO] [__call__] start postprocessing \n"
     ]
    },
    {
     "data": {
      "application/vnd.jupyter.widget-view+json": {
       "model_id": "b2c085a4399a4c5ab37a0d80e0295847",
       "version_major": 2,
       "version_minor": 0
      },
      "text/plain": [
       "  0%|          | 0/1114 [00:00<?, ?it/s]"
      ]
     },
     "metadata": {},
     "output_type": "display_data"
    },
    {
     "name": "stderr",
     "output_type": "stream",
     "text": [
      "\u001b[32m[I 2021-11-15 17:37:18,783]\u001b[0m Trial 8 finished with value: 0.7159691433142963 and parameters: {'e048': 0.8409652375111788, 'e049': 0.9638188970456514, 'e051': 0.9305381975747327, 'e053': 0.5908656242301839, 'e054': 0.32854050422458214, 'e073': 0.36205900277661285, 'e074': 0.359714914915395}. Best is trial 4 with value: 0.7257268576725493.\u001b[0m\n",
      "2021-11-15 17:37:19,736 postprocessor.py     58   [INFO] [__call__] start postprocessing \n"
     ]
    },
    {
     "data": {
      "application/vnd.jupyter.widget-view+json": {
       "model_id": "a1c1b2915ccf4bbc9fa6e8e69088296c",
       "version_major": 2,
       "version_minor": 0
      },
      "text/plain": [
       "  0%|          | 0/1114 [00:00<?, ?it/s]"
      ]
     },
     "metadata": {},
     "output_type": "display_data"
    },
    {
     "name": "stderr",
     "output_type": "stream",
     "text": [
      "\u001b[32m[I 2021-11-15 17:37:27,599]\u001b[0m Trial 9 finished with value: 0.7237015390852919 and parameters: {'e048': 0.28760114698040884, 'e049': 0.2926444626055632, 'e051': 0.30900699967303724, 'e053': 0.5889279056507803, 'e054': 0.591734290149888, 'e073': 0.4469197466415661, 'e074': 0.38198993344689824}. Best is trial 4 with value: 0.7257268576725493.\u001b[0m\n",
      "2021-11-15 17:37:28,563 postprocessor.py     58   [INFO] [__call__] start postprocessing \n"
     ]
    },
    {
     "data": {
      "application/vnd.jupyter.widget-view+json": {
       "model_id": "6b8740e91ee74360be658de67eac69ca",
       "version_major": 2,
       "version_minor": 0
      },
      "text/plain": [
       "  0%|          | 0/1114 [00:00<?, ?it/s]"
      ]
     },
     "metadata": {},
     "output_type": "display_data"
    },
    {
     "name": "stderr",
     "output_type": "stream",
     "text": [
      "\u001b[32m[I 2021-11-15 17:37:36,326]\u001b[0m Trial 10 finished with value: 0.7245121587468988 and parameters: {'e048': 0.4442044943451169, 'e049': 0.04615994140205208, 'e051': 0.0005623672644774688, 'e053': 0.9595096249057257, 'e054': 0.9808791954563594, 'e073': 0.8663306160972581, 'e074': 0.8768899223400967}. Best is trial 4 with value: 0.7257268576725493.\u001b[0m\n",
      "2021-11-15 17:37:37,286 postprocessor.py     58   [INFO] [__call__] start postprocessing \n"
     ]
    },
    {
     "data": {
      "application/vnd.jupyter.widget-view+json": {
       "model_id": "2b61b6f3fe6141f9a3e37c0504bc1fd3",
       "version_major": 2,
       "version_minor": 0
      },
      "text/plain": [
       "  0%|          | 0/1114 [00:00<?, ?it/s]"
      ]
     },
     "metadata": {},
     "output_type": "display_data"
    },
    {
     "name": "stderr",
     "output_type": "stream",
     "text": [
      "\u001b[32m[I 2021-11-15 17:37:45,035]\u001b[0m Trial 11 finished with value: 0.724604775087271 and parameters: {'e048': 0.3806602151522271, 'e049': 0.012444232430100594, 'e051': 0.015363498654684782, 'e053': 0.8908405447337747, 'e054': 0.9439908331120096, 'e073': 0.8830738064101494, 'e074': 0.9992932616299823}. Best is trial 4 with value: 0.7257268576725493.\u001b[0m\n",
      "2021-11-15 17:37:46,016 postprocessor.py     58   [INFO] [__call__] start postprocessing \n"
     ]
    },
    {
     "data": {
      "application/vnd.jupyter.widget-view+json": {
       "model_id": "9bc0db3e2ced43a4b8f12d9e84ef21ae",
       "version_major": 2,
       "version_minor": 0
      },
      "text/plain": [
       "  0%|          | 0/1114 [00:00<?, ?it/s]"
      ]
     },
     "metadata": {},
     "output_type": "display_data"
    },
    {
     "name": "stderr",
     "output_type": "stream",
     "text": [
      "\u001b[32m[I 2021-11-15 17:37:53,878]\u001b[0m Trial 12 finished with value: 0.7244052937387772 and parameters: {'e048': 0.34796731112303336, 'e049': 0.0034740341760111787, 'e051': 0.0007988049052025659, 'e053': 0.9446225207771335, 'e054': 0.9902282220462448, 'e073': 0.8413249648049307, 'e074': 0.9721595199210775}. Best is trial 4 with value: 0.7257268576725493.\u001b[0m\n",
      "2021-11-15 17:37:54,853 postprocessor.py     58   [INFO] [__call__] start postprocessing \n"
     ]
    },
    {
     "data": {
      "application/vnd.jupyter.widget-view+json": {
       "model_id": "02dfb3ed775a4df0ad296ef18ed4f293",
       "version_major": 2,
       "version_minor": 0
      },
      "text/plain": [
       "  0%|          | 0/1114 [00:00<?, ?it/s]"
      ]
     },
     "metadata": {},
     "output_type": "display_data"
    },
    {
     "name": "stderr",
     "output_type": "stream",
     "text": [
      "\u001b[32m[I 2021-11-15 17:38:02,617]\u001b[0m Trial 13 finished with value: 0.7171884730569654 and parameters: {'e048': 0.6558158338101092, 'e049': 0.7174536827279021, 'e051': 0.22729421474367942, 'e053': 0.781207598248767, 'e054': 0.7957204263256783, 'e073': 0.7094005320139474, 'e074': 0.7298934517029708}. Best is trial 4 with value: 0.7257268576725493.\u001b[0m\n",
      "2021-11-15 17:38:03,605 postprocessor.py     58   [INFO] [__call__] start postprocessing \n"
     ]
    },
    {
     "data": {
      "application/vnd.jupyter.widget-view+json": {
       "model_id": "dedcbb11786c4ff3b4ad58da3f91bf66",
       "version_major": 2,
       "version_minor": 0
      },
      "text/plain": [
       "  0%|          | 0/1114 [00:00<?, ?it/s]"
      ]
     },
     "metadata": {},
     "output_type": "display_data"
    },
    {
     "name": "stderr",
     "output_type": "stream",
     "text": [
      "\u001b[32m[I 2021-11-15 17:38:11,231]\u001b[0m Trial 14 finished with value: 0.7271328449627374 and parameters: {'e048': 0.2273382536378124, 'e049': 0.14553420605233253, 'e051': 0.1473036897126121, 'e053': 0.3620707139327294, 'e054': 0.8245710049400639, 'e073': 0.08111354532092158, 'e074': 0.999120523928524}. Best is trial 14 with value: 0.7271328449627374.\u001b[0m\n",
      "2021-11-15 17:38:12,192 postprocessor.py     58   [INFO] [__call__] start postprocessing \n"
     ]
    },
    {
     "data": {
      "application/vnd.jupyter.widget-view+json": {
       "model_id": "70e61f8b37a548429dca5357b5bda24a",
       "version_major": 2,
       "version_minor": 0
      },
      "text/plain": [
       "  0%|          | 0/1114 [00:00<?, ?it/s]"
      ]
     },
     "metadata": {},
     "output_type": "display_data"
    },
    {
     "name": "stderr",
     "output_type": "stream",
     "text": [
      "\u001b[32m[I 2021-11-15 17:38:20,711]\u001b[0m Trial 15 finished with value: 0.7260529254806637 and parameters: {'e048': 0.2143552457716006, 'e049': 0.14747263599061516, 'e051': 0.38127178830731984, 'e053': 0.39937051387344213, 'e054': 0.7612746975787419, 'e073': 0.046844433882981706, 'e074': 0.7934594549862615}. Best is trial 14 with value: 0.7271328449627374.\u001b[0m\n",
      "2021-11-15 17:38:21,732 postprocessor.py     58   [INFO] [__call__] start postprocessing \n"
     ]
    },
    {
     "data": {
      "application/vnd.jupyter.widget-view+json": {
       "model_id": "6d8928f0ba4f46d7bea40331e6fad983",
       "version_major": 2,
       "version_minor": 0
      },
      "text/plain": [
       "  0%|          | 0/1114 [00:00<?, ?it/s]"
      ]
     },
     "metadata": {},
     "output_type": "display_data"
    },
    {
     "name": "stderr",
     "output_type": "stream",
     "text": [
      "\u001b[32m[I 2021-11-15 17:38:28,221]\u001b[0m Trial 16 finished with value: 0.7217890116566062 and parameters: {'e048': 0.25012501795113284, 'e049': 0.21652267656041613, 'e051': 0.37236937509964885, 'e053': 0.38918811914032087, 'e054': 0.8461853017954999, 'e073': 0.03955173215937383, 'e074': 0.7474278342341255}. Best is trial 14 with value: 0.7271328449627374.\u001b[0m\n",
      "2021-11-15 17:38:29,185 postprocessor.py     58   [INFO] [__call__] start postprocessing \n"
     ]
    },
    {
     "data": {
      "application/vnd.jupyter.widget-view+json": {
       "model_id": "9d85e62c289a41d8ad411db885f9d6d7",
       "version_major": 2,
       "version_minor": 0
      },
      "text/plain": [
       "  0%|          | 0/1114 [00:00<?, ?it/s]"
      ]
     },
     "metadata": {},
     "output_type": "display_data"
    },
    {
     "name": "stderr",
     "output_type": "stream",
     "text": [
      "\u001b[32m[I 2021-11-15 17:38:35,714]\u001b[0m Trial 17 finished with value: 0.7212952953190838 and parameters: {'e048': 0.5638321136889284, 'e049': 0.17139095958815248, 'e051': 0.4445919553950927, 'e053': 0.04044596301552805, 'e054': 0.639236787174556, 'e073': 0.044166602695116075, 'e074': 0.5772032643018038}. Best is trial 14 with value: 0.7271328449627374.\u001b[0m\n",
      "2021-11-15 17:38:36,681 postprocessor.py     58   [INFO] [__call__] start postprocessing \n"
     ]
    },
    {
     "data": {
      "application/vnd.jupyter.widget-view+json": {
       "model_id": "2ef1132fab4542019c67142c6177dc25",
       "version_major": 2,
       "version_minor": 0
      },
      "text/plain": [
       "  0%|          | 0/1114 [00:00<?, ?it/s]"
      ]
     },
     "metadata": {},
     "output_type": "display_data"
    },
    {
     "name": "stderr",
     "output_type": "stream",
     "text": [
      "\u001b[32m[I 2021-11-15 17:38:43,090]\u001b[0m Trial 18 finished with value: 0.718241843918394 and parameters: {'e048': 0.022884816464662006, 'e049': 0.565403228258236, 'e051': 0.1629653701586266, 'e053': 0.41170305245651073, 'e054': 0.015129026146497193, 'e073': 0.18186367016416438, 'e074': 0.8292463590532133}. Best is trial 14 with value: 0.7271328449627374.\u001b[0m\n",
      "2021-11-15 17:38:44,057 postprocessor.py     58   [INFO] [__call__] start postprocessing \n"
     ]
    },
    {
     "data": {
      "application/vnd.jupyter.widget-view+json": {
       "model_id": "b28c24d2596f48228c11fcb5af4b3934",
       "version_major": 2,
       "version_minor": 0
      },
      "text/plain": [
       "  0%|          | 0/1114 [00:00<?, ?it/s]"
      ]
     },
     "metadata": {},
     "output_type": "display_data"
    },
    {
     "name": "stderr",
     "output_type": "stream",
     "text": [
      "\u001b[32m[I 2021-11-15 17:38:50,431]\u001b[0m Trial 19 finished with value: 0.7217740505554691 and parameters: {'e048': 0.20142500679734923, 'e049': 0.6693396584249853, 'e051': 0.5792881681634505, 'e053': 0.2956427372583106, 'e054': 0.8785233184154713, 'e073': 0.12463735088536161, 'e074': 0.8388181130081453}. Best is trial 14 with value: 0.7271328449627374.\u001b[0m\n",
      "2021-11-15 17:38:51,386 postprocessor.py     58   [INFO] [__call__] start postprocessing \n"
     ]
    },
    {
     "data": {
      "application/vnd.jupyter.widget-view+json": {
       "model_id": "f7ce866e8d7949f792b1c51234364bd6",
       "version_major": 2,
       "version_minor": 0
      },
      "text/plain": [
       "  0%|          | 0/1114 [00:00<?, ?it/s]"
      ]
     },
     "metadata": {},
     "output_type": "display_data"
    },
    {
     "name": "stderr",
     "output_type": "stream",
     "text": [
      "\u001b[32m[I 2021-11-15 17:38:57,898]\u001b[0m Trial 20 finished with value: 0.7140466418181862 and parameters: {'e048': 0.7187675924193372, 'e049': 0.42105038457284255, 'e051': 0.3774052066812157, 'e053': 0.3215417277704459, 'e054': 0.7354909970816121, 'e073': 0.01002109746526364, 'e074': 0.5566962902610789}. Best is trial 14 with value: 0.7271328449627374.\u001b[0m\n",
      "2021-11-15 17:38:58,864 postprocessor.py     58   [INFO] [__call__] start postprocessing \n"
     ]
    },
    {
     "data": {
      "application/vnd.jupyter.widget-view+json": {
       "model_id": "1cacdab360b0495589217c0208710dd3",
       "version_major": 2,
       "version_minor": 0
      },
      "text/plain": [
       "  0%|          | 0/1114 [00:00<?, ?it/s]"
      ]
     },
     "metadata": {},
     "output_type": "display_data"
    },
    {
     "name": "stderr",
     "output_type": "stream",
     "text": [
      "\u001b[32m[I 2021-11-15 17:39:05,339]\u001b[0m Trial 21 finished with value: 0.7258116372456591 and parameters: {'e048': 0.14181980932312865, 'e049': 0.16286106222865188, 'e051': 0.10278276394287422, 'e053': 0.49313954605189003, 'e054': 0.7448803117463118, 'e073': 0.2630357285068795, 'e074': 0.9071897281270804}. Best is trial 14 with value: 0.7271328449627374.\u001b[0m\n",
      "2021-11-15 17:39:06,313 postprocessor.py     58   [INFO] [__call__] start postprocessing \n"
     ]
    },
    {
     "data": {
      "application/vnd.jupyter.widget-view+json": {
       "model_id": "33d0014fafaf4853bf86596957bdd124",
       "version_major": 2,
       "version_minor": 0
      },
      "text/plain": [
       "  0%|          | 0/1114 [00:00<?, ?it/s]"
      ]
     },
     "metadata": {},
     "output_type": "display_data"
    },
    {
     "name": "stderr",
     "output_type": "stream",
     "text": [
      "\u001b[32m[I 2021-11-15 17:39:12,815]\u001b[0m Trial 22 finished with value: 0.7259257561209989 and parameters: {'e048': 0.29988046430094517, 'e049': 0.17507812677403747, 'e051': 0.16561382217720866, 'e053': 0.48703735008359994, 'e054': 0.7179884308185994, 'e073': 0.12417548173626129, 'e074': 0.8654531272954977}. Best is trial 14 with value: 0.7271328449627374.\u001b[0m\n",
      "2021-11-15 17:39:13,785 postprocessor.py     58   [INFO] [__call__] start postprocessing \n"
     ]
    },
    {
     "data": {
      "application/vnd.jupyter.widget-view+json": {
       "model_id": "949e7512eb364a95ab71bfe79ee33f01",
       "version_major": 2,
       "version_minor": 0
      },
      "text/plain": [
       "  0%|          | 0/1114 [00:00<?, ?it/s]"
      ]
     },
     "metadata": {},
     "output_type": "display_data"
    },
    {
     "name": "stderr",
     "output_type": "stream",
     "text": [
      "\u001b[32m[I 2021-11-15 17:39:20,251]\u001b[0m Trial 23 finished with value: 0.7216319200946673 and parameters: {'e048': 0.3193391862157129, 'e049': 0.21162282768847684, 'e051': 0.20459428459002665, 'e053': 0.48116032880578014, 'e054': 0.8961511273342277, 'e073': 0.11853153459836291, 'e074': 0.7551792898544727}. Best is trial 14 with value: 0.7271328449627374.\u001b[0m\n",
      "2021-11-15 17:39:21,216 postprocessor.py     58   [INFO] [__call__] start postprocessing \n"
     ]
    },
    {
     "data": {
      "application/vnd.jupyter.widget-view+json": {
       "model_id": "9eb55b86bbf044719726658c58fef6d3",
       "version_major": 2,
       "version_minor": 0
      },
      "text/plain": [
       "  0%|          | 0/1114 [00:00<?, ?it/s]"
      ]
     },
     "metadata": {},
     "output_type": "display_data"
    },
    {
     "name": "stderr",
     "output_type": "stream",
     "text": [
      "\u001b[32m[I 2021-11-15 17:39:27,650]\u001b[0m Trial 24 finished with value: 0.7212653731168096 and parameters: {'e048': 0.39434097086851827, 'e049': 0.14775032984127057, 'e051': 0.3306872195678757, 'e053': 0.12340325408495839, 'e054': 0.5847411286701572, 'e073': 0.1117667604844118, 'e074': 0.6585914775000483}. Best is trial 14 with value: 0.7271328449627374.\u001b[0m\n",
      "2021-11-15 17:39:28,620 postprocessor.py     58   [INFO] [__call__] start postprocessing \n"
     ]
    },
    {
     "data": {
      "application/vnd.jupyter.widget-view+json": {
       "model_id": "8ba30903824c4cabb16981a38207f2c2",
       "version_major": 2,
       "version_minor": 0
      },
      "text/plain": [
       "  0%|          | 0/1114 [00:00<?, ?it/s]"
      ]
     },
     "metadata": {},
     "output_type": "display_data"
    },
    {
     "name": "stderr",
     "output_type": "stream",
     "text": [
      "\u001b[32m[I 2021-11-15 17:39:35,128]\u001b[0m Trial 25 finished with value: 0.7241995300231391 and parameters: {'e048': 0.47115486965387154, 'e049': 0.24381289877302662, 'e051': 0.45367705379819545, 'e053': 0.3111811637929183, 'e054': 0.680429558959911, 'e073': 0.9927442305996594, 'e074': 0.8370339118072209}. Best is trial 14 with value: 0.7271328449627374.\u001b[0m\n",
      "2021-11-15 17:39:36,092 postprocessor.py     58   [INFO] [__call__] start postprocessing \n"
     ]
    },
    {
     "data": {
      "application/vnd.jupyter.widget-view+json": {
       "model_id": "92ef8ab804284706860d09d73cfd55a4",
       "version_major": 2,
       "version_minor": 0
      },
      "text/plain": [
       "  0%|          | 0/1114 [00:00<?, ?it/s]"
      ]
     },
     "metadata": {},
     "output_type": "display_data"
    },
    {
     "name": "stderr",
     "output_type": "stream",
     "text": [
      "\u001b[32m[I 2021-11-15 17:39:42,521]\u001b[0m Trial 26 finished with value: 0.7267413628163183 and parameters: {'e048': 0.2320860154392087, 'e049': 0.10058741701898705, 'e051': 0.10865361134741874, 'e053': 0.4695899465016321, 'e054': 0.44542674624287504, 'e073': 0.270473151559962, 'e074': 0.914205998228174}. Best is trial 14 with value: 0.7271328449627374.\u001b[0m\n",
      "2021-11-15 17:39:43,495 postprocessor.py     58   [INFO] [__call__] start postprocessing \n"
     ]
    },
    {
     "data": {
      "application/vnd.jupyter.widget-view+json": {
       "model_id": "2bf6ccc1f59b4875a8d765183f89d233",
       "version_major": 2,
       "version_minor": 0
      },
      "text/plain": [
       "  0%|          | 0/1114 [00:00<?, ?it/s]"
      ]
     },
     "metadata": {},
     "output_type": "display_data"
    },
    {
     "name": "stderr",
     "output_type": "stream",
     "text": [
      "\u001b[32m[I 2021-11-15 17:39:49,973]\u001b[0m Trial 27 finished with value: 0.7247972997332752 and parameters: {'e048': 0.01925767448297297, 'e049': 0.40526673998927815, 'e051': 0.10793361946730136, 'e053': 0.36164536837762296, 'e054': 0.4282048434095725, 'e073': 0.27876107062398375, 'e074': 0.9241825704959619}. Best is trial 14 with value: 0.7271328449627374.\u001b[0m\n",
      "2021-11-15 17:39:50,959 postprocessor.py     58   [INFO] [__call__] start postprocessing \n"
     ]
    },
    {
     "data": {
      "application/vnd.jupyter.widget-view+json": {
       "model_id": "e75b523302c44f679d5d1d774fb07046",
       "version_major": 2,
       "version_minor": 0
      },
      "text/plain": [
       "  0%|          | 0/1114 [00:00<?, ?it/s]"
      ]
     },
     "metadata": {},
     "output_type": "display_data"
    },
    {
     "name": "stderr",
     "output_type": "stream",
     "text": [
      "\u001b[32m[I 2021-11-15 17:39:57,355]\u001b[0m Trial 28 finished with value: 0.7261950559414656 and parameters: {'e048': 0.2553584660133057, 'e049': 0.09558501361276088, 'e051': 0.2510256816963525, 'e053': 0.7331392732938443, 'e054': 0.4331458547430541, 'e073': 0.19653593000069314, 'e074': 0.7778211692133615}. Best is trial 14 with value: 0.7271328449627374.\u001b[0m\n",
      "2021-11-15 17:39:58,310 postprocessor.py     58   [INFO] [__call__] start postprocessing \n"
     ]
    },
    {
     "data": {
      "application/vnd.jupyter.widget-view+json": {
       "model_id": "6d4fa8cce891407984c8d665d7b1ecc0",
       "version_major": 2,
       "version_minor": 0
      },
      "text/plain": [
       "  0%|          | 0/1114 [00:00<?, ?it/s]"
      ]
     },
     "metadata": {},
     "output_type": "display_data"
    },
    {
     "name": "stderr",
     "output_type": "stream",
     "text": [
      "\u001b[32m[I 2021-11-15 17:40:04,829]\u001b[0m Trial 29 finished with value: 0.724579257018665 and parameters: {'e048': 0.43009927947123305, 'e049': 0.0839533781538552, 'e051': 0.2331241275909477, 'e053': 0.7128733467573041, 'e054': 0.282620750204574, 'e073': 0.26436825373154516, 'e074': 0.6828695011145081}. Best is trial 14 with value: 0.7271328449627374.\u001b[0m\n",
      "2021-11-15 17:40:05,788 postprocessor.py     58   [INFO] [__call__] start postprocessing \n"
     ]
    },
    {
     "data": {
      "application/vnd.jupyter.widget-view+json": {
       "model_id": "bf76b1b1d14b4cc6a6bdc049ecfd0b8a",
       "version_major": 2,
       "version_minor": 0
      },
      "text/plain": [
       "  0%|          | 0/1114 [00:00<?, ?it/s]"
      ]
     },
     "metadata": {},
     "output_type": "display_data"
    },
    {
     "name": "stderr",
     "output_type": "stream",
     "text": [
      "\u001b[32m[I 2021-11-15 17:40:12,308]\u001b[0m Trial 30 finished with value: 0.7204100968351421 and parameters: {'e048': 0.9758909480777913, 'e049': 0.11982532034059779, 'e051': 0.0757246190422753, 'e053': 0.8274030405341213, 'e054': 0.23290858062324526, 'e073': 0.21859948046601127, 'e074': 0.5943758092786815}. Best is trial 14 with value: 0.7271328449627374.\u001b[0m\n",
      "2021-11-15 17:40:13,332 postprocessor.py     58   [INFO] [__call__] start postprocessing \n"
     ]
    },
    {
     "data": {
      "application/vnd.jupyter.widget-view+json": {
       "model_id": "93e64027444e4db693afbaaf36bbe13c",
       "version_major": 2,
       "version_minor": 0
      },
      "text/plain": [
       "  0%|          | 0/1114 [00:00<?, ?it/s]"
      ]
     },
     "metadata": {},
     "output_type": "display_data"
    },
    {
     "name": "stderr",
     "output_type": "stream",
     "text": [
      "\u001b[32m[I 2021-11-15 17:40:19,893]\u001b[0m Trial 31 finished with value: 0.7267486166835363 and parameters: {'e048': 0.23982635816672176, 'e049': 0.0989111347314471, 'e051': 0.2753102380249543, 'e053': 0.4313496966325616, 'e054': 0.4205873226068332, 'e073': 0.07718335466916326, 'e074': 0.7932302002911518}. Best is trial 14 with value: 0.7271328449627374.\u001b[0m\n",
      "2021-11-15 17:40:20,868 postprocessor.py     58   [INFO] [__call__] start postprocessing \n"
     ]
    },
    {
     "data": {
      "application/vnd.jupyter.widget-view+json": {
       "model_id": "5aa12a54e6fd459599fdc90e37d8c9dd",
       "version_major": 2,
       "version_minor": 0
      },
      "text/plain": [
       "  0%|          | 0/1114 [00:00<?, ?it/s]"
      ]
     },
     "metadata": {},
     "output_type": "display_data"
    },
    {
     "name": "stderr",
     "output_type": "stream",
     "text": [
      "\u001b[32m[I 2021-11-15 17:40:27,356]\u001b[0m Trial 32 finished with value: 0.7248042564357648 and parameters: {'e048': 0.10381974480420417, 'e049': 0.08695267782197266, 'e051': 0.28285403882306465, 'e053': 0.4460758029112022, 'e054': 0.4535228334261098, 'e073': 0.17236290396170162, 'e074': 0.9364687685809094}. Best is trial 14 with value: 0.7271328449627374.\u001b[0m\n",
      "2021-11-15 17:40:28,344 postprocessor.py     58   [INFO] [__call__] start postprocessing \n"
     ]
    },
    {
     "data": {
      "application/vnd.jupyter.widget-view+json": {
       "model_id": "d92fe0523a6a4bcebba0f63f6ce54b44",
       "version_major": 2,
       "version_minor": 0
      },
      "text/plain": [
       "  0%|          | 0/1114 [00:00<?, ?it/s]"
      ]
     },
     "metadata": {},
     "output_type": "display_data"
    },
    {
     "name": "stderr",
     "output_type": "stream",
     "text": [
      "\u001b[32m[I 2021-11-15 17:40:34,764]\u001b[0m Trial 33 finished with value: 0.7238012797595387 and parameters: {'e048': 0.25516834915373665, 'e049': 0.2460335091475256, 'e051': 0.23096666208984684, 'e053': 0.5390153659092297, 'e054': 0.3696539837544561, 'e073': 0.2930656321742295, 'e074': 0.4651296492093702}. Best is trial 14 with value: 0.7271328449627374.\u001b[0m\n",
      "2021-11-15 17:40:35,735 postprocessor.py     58   [INFO] [__call__] start postprocessing \n"
     ]
    },
    {
     "data": {
      "application/vnd.jupyter.widget-view+json": {
       "model_id": "fc0a05ef61654e97a98450314c51cddb",
       "version_major": 2,
       "version_minor": 0
      },
      "text/plain": [
       "  0%|          | 0/1114 [00:00<?, ?it/s]"
      ]
     },
     "metadata": {},
     "output_type": "display_data"
    },
    {
     "name": "stderr",
     "output_type": "stream",
     "text": [
      "\u001b[32m[I 2021-11-15 17:40:42,154]\u001b[0m Trial 34 finished with value: 0.7244950603455993 and parameters: {'e048': 0.09691626959802696, 'e049': 0.07477141004187193, 'e051': 0.17216335511545594, 'e053': 0.263417415171982, 'e054': 0.5100726317705765, 'e073': 0.32930955125403727, 'e074': 0.9933841593948296}. Best is trial 14 with value: 0.7271328449627374.\u001b[0m\n",
      "2021-11-15 17:40:43,107 postprocessor.py     58   [INFO] [__call__] start postprocessing \n"
     ]
    },
    {
     "data": {
      "application/vnd.jupyter.widget-view+json": {
       "model_id": "fcd6920bcac54ef49dcd2c90d57a52d9",
       "version_major": 2,
       "version_minor": 0
      },
      "text/plain": [
       "  0%|          | 0/1114 [00:00<?, ?it/s]"
      ]
     },
     "metadata": {},
     "output_type": "display_data"
    },
    {
     "name": "stderr",
     "output_type": "stream",
     "text": [
      "\u001b[32m[I 2021-11-15 17:40:49,589]\u001b[0m Trial 35 finished with value: 0.7289955020542994 and parameters: {'e048': 0.2313834457691211, 'e049': 0.11249018719029451, 'e051': 0.07507869294169386, 'e053': 0.6581052748620801, 'e054': 0.1395320901732805, 'e073': 0.07892111360162661, 'e074': 0.7743293607405726}. Best is trial 35 with value: 0.7289955020542994.\u001b[0m\n",
      "2021-11-15 17:40:50,543 postprocessor.py     58   [INFO] [__call__] start postprocessing \n"
     ]
    },
    {
     "data": {
      "application/vnd.jupyter.widget-view+json": {
       "model_id": "1666c6f7fce54fb6a4842ac671b81025",
       "version_major": 2,
       "version_minor": 0
      },
      "text/plain": [
       "  0%|          | 0/1114 [00:00<?, ?it/s]"
      ]
     },
     "metadata": {},
     "output_type": "display_data"
    },
    {
     "name": "stderr",
     "output_type": "stream",
     "text": [
      "\u001b[32m[I 2021-11-15 17:40:57,062]\u001b[0m Trial 36 finished with value: 0.7218341216433679 and parameters: {'e048': 0.17083738872306475, 'e049': 0.37031211492568317, 'e051': 0.06843633941134032, 'e053': 0.6613799343882086, 'e054': 0.09752593223083761, 'e073': 0.07453637777513046, 'e074': 0.9080610345954381}. Best is trial 35 with value: 0.7289955020542994.\u001b[0m\n",
      "2021-11-15 17:40:58,024 postprocessor.py     58   [INFO] [__call__] start postprocessing \n"
     ]
    },
    {
     "data": {
      "application/vnd.jupyter.widget-view+json": {
       "model_id": "e2e84bb981cb4fd38f69193bb8337a4e",
       "version_major": 2,
       "version_minor": 0
      },
      "text/plain": [
       "  0%|          | 0/1114 [00:00<?, ?it/s]"
      ]
     },
     "metadata": {},
     "output_type": "display_data"
    },
    {
     "name": "stderr",
     "output_type": "stream",
     "text": [
      "\u001b[32m[I 2021-11-15 17:41:04,464]\u001b[0m Trial 37 finished with value: 0.7217740505554693 and parameters: {'e048': 0.13057927513248274, 'e049': 0.0049642051489411365, 'e051': 0.08359489592458384, 'e053': 0.15805780415536702, 'e054': 0.22509198487481452, 'e073': 0.006643137826760806, 'e074': 0.23109319078958462}. Best is trial 35 with value: 0.7289955020542994.\u001b[0m\n",
      "2021-11-15 17:41:05,440 postprocessor.py     58   [INFO] [__call__] start postprocessing \n"
     ]
    },
    {
     "data": {
      "application/vnd.jupyter.widget-view+json": {
       "model_id": "8ad20ff97ce1455fa9be1019d5dfe620",
       "version_major": 2,
       "version_minor": 0
      },
      "text/plain": [
       "  0%|          | 0/1114 [00:00<?, ?it/s]"
      ]
     },
     "metadata": {},
     "output_type": "display_data"
    },
    {
     "name": "stderr",
     "output_type": "stream",
     "text": [
      "\u001b[32m[I 2021-11-15 17:41:11,973]\u001b[0m Trial 38 finished with value: 0.7159693699976467 and parameters: {'e048': 0.5473145250727506, 'e049': 0.4733675291292188, 'e051': 0.11855513235413218, 'e053': 0.5420795101709479, 'e054': 0.14845073230062572, 'e073': 0.09321962786325927, 'e074': 0.8213957126733149}. Best is trial 35 with value: 0.7289955020542994.\u001b[0m\n",
      "2021-11-15 17:41:12,941 postprocessor.py     58   [INFO] [__call__] start postprocessing \n"
     ]
    },
    {
     "data": {
      "application/vnd.jupyter.widget-view+json": {
       "model_id": "92e148dee63340ab95deda489d7f7d02",
       "version_major": 2,
       "version_minor": 0
      },
      "text/plain": [
       "  0%|          | 0/1114 [00:00<?, ?it/s]"
      ]
     },
     "metadata": {},
     "output_type": "display_data"
    },
    {
     "name": "stderr",
     "output_type": "stream",
     "text": [
      "\u001b[32m[I 2021-11-15 17:41:19,439]\u001b[0m Trial 39 finished with value: 0.7253029598069998 and parameters: {'e048': 0.04529882427216922, 'e049': 0.26946562739930274, 'e051': 0.18141553852421938, 'e053': 0.6631111806396561, 'e054': 0.5538346015305763, 'e073': 0.4291043735292576, 'e074': 0.719587279495123}. Best is trial 35 with value: 0.7289955020542994.\u001b[0m\n",
      "2021-11-15 17:41:20,391 postprocessor.py     58   [INFO] [__call__] start postprocessing \n"
     ]
    },
    {
     "data": {
      "application/vnd.jupyter.widget-view+json": {
       "model_id": "da401867fe8c442f851540b6c67e9b86",
       "version_major": 2,
       "version_minor": 0
      },
      "text/plain": [
       "  0%|          | 0/1114 [00:00<?, ?it/s]"
      ]
     },
     "metadata": {},
     "output_type": "display_data"
    },
    {
     "name": "stderr",
     "output_type": "stream",
     "text": [
      "\u001b[32m[I 2021-11-15 17:41:26,849]\u001b[0m Trial 40 finished with value: 0.7181985740670663 and parameters: {'e048': 0.3427530736686375, 'e049': 0.3532768893469191, 'e051': 0.056060995976729866, 'e053': 0.21112319627278137, 'e054': 0.3552415180112104, 'e073': 0.15748560424581393, 'e074': 0.6246391425230355}. Best is trial 35 with value: 0.7289955020542994.\u001b[0m\n",
      "2021-11-15 17:41:27,835 postprocessor.py     58   [INFO] [__call__] start postprocessing \n"
     ]
    },
    {
     "data": {
      "application/vnd.jupyter.widget-view+json": {
       "model_id": "65004226a7e04ceca706e589a9aceb79",
       "version_major": 2,
       "version_minor": 0
      },
      "text/plain": [
       "  0%|          | 0/1114 [00:00<?, ?it/s]"
      ]
     },
     "metadata": {},
     "output_type": "display_data"
    },
    {
     "name": "stderr",
     "output_type": "stream",
     "text": [
      "\u001b[32m[I 2021-11-15 17:41:34,376]\u001b[0m Trial 41 finished with value: 0.7261950559414656 and parameters: {'e048': 0.23231644903274062, 'e049': 0.11342171872821316, 'e051': 0.2660315492706857, 'e053': 0.74605775128014, 'e054': 0.46314542541652537, 'e073': 0.22489928742303208, 'e074': 0.7853250717247673}. Best is trial 35 with value: 0.7289955020542994.\u001b[0m\n",
      "2021-11-15 17:41:35,348 postprocessor.py     58   [INFO] [__call__] start postprocessing \n"
     ]
    },
    {
     "data": {
      "application/vnd.jupyter.widget-view+json": {
       "model_id": "ff4e77f49cdb458ab0e28becceb22b44",
       "version_major": 2,
       "version_minor": 0
      },
      "text/plain": [
       "  0%|          | 0/1114 [00:00<?, ?it/s]"
      ]
     },
     "metadata": {},
     "output_type": "display_data"
    },
    {
     "name": "stderr",
     "output_type": "stream",
     "text": [
      "\u001b[32m[I 2021-11-15 17:41:41,922]\u001b[0m Trial 42 finished with value: 0.7271531493142808 and parameters: {'e048': 0.27484445681396696, 'e049': 0.0580397859376214, 'e051': 0.12766902318426449, 'e053': 0.8255077524139072, 'e054': 0.30885429830029465, 'e073': 0.16171133380883873, 'e074': 0.8814229372040489}. Best is trial 35 with value: 0.7289955020542994.\u001b[0m\n",
      "2021-11-15 17:41:42,908 postprocessor.py     58   [INFO] [__call__] start postprocessing \n"
     ]
    },
    {
     "data": {
      "application/vnd.jupyter.widget-view+json": {
       "model_id": "b4ad7402d4294665a1e8b10b6b532b94",
       "version_major": 2,
       "version_minor": 0
      },
      "text/plain": [
       "  0%|          | 0/1114 [00:00<?, ?it/s]"
      ]
     },
     "metadata": {},
     "output_type": "display_data"
    },
    {
     "name": "stderr",
     "output_type": "stream",
     "text": [
      "\u001b[32m[I 2021-11-15 17:41:49,413]\u001b[0m Trial 43 finished with value: 0.72487906194145 and parameters: {'e048': 0.15950769220095978, 'e049': 0.04149244933816057, 'e051': 0.12090888172680433, 'e053': 0.8516371789095357, 'e054': 0.30666511743085645, 'e073': 0.06995520917673675, 'e074': 0.8822676509712308}. Best is trial 35 with value: 0.7289955020542994.\u001b[0m\n",
      "2021-11-15 17:41:50,377 postprocessor.py     58   [INFO] [__call__] start postprocessing \n"
     ]
    },
    {
     "data": {
      "application/vnd.jupyter.widget-view+json": {
       "model_id": "fc7af3833cfc4c859e0e88ff1dd81010",
       "version_major": 2,
       "version_minor": 0
      },
      "text/plain": [
       "  0%|          | 0/1114 [00:00<?, ?it/s]"
      ]
     },
     "metadata": {},
     "output_type": "display_data"
    },
    {
     "name": "stderr",
     "output_type": "stream",
     "text": [
      "\u001b[32m[I 2021-11-15 17:41:56,772]\u001b[0m Trial 44 finished with value: 0.7249168209109865 and parameters: {'e048': 0.28515315415375997, 'e049': 0.20832306252630253, 'e051': 0.0439033270026659, 'e053': 0.4383632415874893, 'e054': 0.23279202901104312, 'e073': 0.6268702375339128, 'e074': 0.9690470224293122}. Best is trial 35 with value: 0.7289955020542994.\u001b[0m\n",
      "2021-11-15 17:41:57,728 postprocessor.py     58   [INFO] [__call__] start postprocessing \n"
     ]
    },
    {
     "data": {
      "application/vnd.jupyter.widget-view+json": {
       "model_id": "cf60795ca07c4a6abbeb9beac3733aca",
       "version_major": 2,
       "version_minor": 0
      },
      "text/plain": [
       "  0%|          | 0/1114 [00:00<?, ?it/s]"
      ]
     },
     "metadata": {},
     "output_type": "display_data"
    },
    {
     "name": "stderr",
     "output_type": "stream",
     "text": [
      "\u001b[32m[I 2021-11-15 17:42:04,137]\u001b[0m Trial 45 finished with value: 0.7214748285327283 and parameters: {'e048': 0.38836813970502826, 'e049': 0.9130764805911566, 'e051': 0.8501009661565202, 'e053': 0.3480448413159725, 'e054': 0.3861432134033795, 'e073': 0.33954822674828977, 'e074': 0.9351503424979496}. Best is trial 35 with value: 0.7289955020542994.\u001b[0m\n",
      "2021-11-15 17:42:05,113 postprocessor.py     58   [INFO] [__call__] start postprocessing \n"
     ]
    },
    {
     "data": {
      "application/vnd.jupyter.widget-view+json": {
       "model_id": "88ae2adcb0c94df281700cb5c92231c2",
       "version_major": 2,
       "version_minor": 0
      },
      "text/plain": [
       "  0%|          | 0/1114 [00:00<?, ?it/s]"
      ]
     },
     "metadata": {},
     "output_type": "display_data"
    },
    {
     "name": "stderr",
     "output_type": "stream",
     "text": [
      "\u001b[32m[I 2021-11-15 17:42:11,519]\u001b[0m Trial 46 finished with value: 0.7249987507505465 and parameters: {'e048': 0.18470964021309283, 'e049': 0.05226300943765281, 'e051': 0.1358600839537512, 'e053': 0.6177591480875428, 'e054': 0.07848279340667463, 'e073': 0.14203945506532517, 'e074': 0.5154547732078898}. Best is trial 35 with value: 0.7289955020542994.\u001b[0m\n",
      "2021-11-15 17:42:12,552 postprocessor.py     58   [INFO] [__call__] start postprocessing \n"
     ]
    },
    {
     "data": {
      "application/vnd.jupyter.widget-view+json": {
       "model_id": "531191fa8be94bb9a03cfa52c93f07d2",
       "version_major": 2,
       "version_minor": 0
      },
      "text/plain": [
       "  0%|          | 0/1114 [00:00<?, ?it/s]"
      ]
     },
     "metadata": {},
     "output_type": "display_data"
    },
    {
     "name": "stderr",
     "output_type": "stream",
     "text": [
      "\u001b[32m[I 2021-11-15 17:42:19,060]\u001b[0m Trial 47 finished with value: 0.7271054162773197 and parameters: {'e048': 0.2817159123903655, 'e049': 0.1178962464967019, 'e051': 0.03235253680840851, 'e053': 0.5329339601977338, 'e054': 0.4937307361973752, 'e073': 0.5015457537739785, 'e074': 0.7006522069070562}. Best is trial 35 with value: 0.7289955020542994.\u001b[0m\n",
      "2021-11-15 17:42:20,039 postprocessor.py     58   [INFO] [__call__] start postprocessing \n"
     ]
    },
    {
     "data": {
      "application/vnd.jupyter.widget-view+json": {
       "model_id": "7b5e289e75bf4b9c9263002d77c17b72",
       "version_major": 2,
       "version_minor": 0
      },
      "text/plain": [
       "  0%|          | 0/1114 [00:00<?, ?it/s]"
      ]
     },
     "metadata": {},
     "output_type": "display_data"
    },
    {
     "name": "stderr",
     "output_type": "stream",
     "text": [
      "\u001b[32m[I 2021-11-15 17:42:26,471]\u001b[0m Trial 48 finished with value: 0.7231043903732417 and parameters: {'e048': 0.30557063119219713, 'e049': 0.191557340841575, 'e051': 0.023882964804071524, 'e053': 0.537430922721322, 'e054': 0.1849114105209756, 'e073': 0.5032470072589559, 'e074': 0.6953819627300222}. Best is trial 35 with value: 0.7289955020542994.\u001b[0m\n",
      "2021-11-15 17:42:27,449 postprocessor.py     58   [INFO] [__call__] start postprocessing \n"
     ]
    },
    {
     "data": {
      "application/vnd.jupyter.widget-view+json": {
       "model_id": "e4955bfdfa4743e2b8e6fd46225cc186",
       "version_major": 2,
       "version_minor": 0
      },
      "text/plain": [
       "  0%|          | 0/1114 [00:00<?, ?it/s]"
      ]
     },
     "metadata": {},
     "output_type": "display_data"
    },
    {
     "name": "stderr",
     "output_type": "stream",
     "text": [
      "\u001b[32m[I 2021-11-15 17:42:33,846]\u001b[0m Trial 49 finished with value: 0.7244537392091255 and parameters: {'e048': 0.07360274933763475, 'e049': 0.1392303107334572, 'e051': 0.30215442589625496, 'e053': 0.9103036985140192, 'e054': 0.2764861517901912, 'e073': 0.5929269900030334, 'e074': 0.8683405881246583}. Best is trial 35 with value: 0.7289955020542994.\u001b[0m\n",
      "2021-11-15 17:42:34,804 postprocessor.py     58   [INFO] [__call__] start postprocessing \n"
     ]
    },
    {
     "data": {
      "application/vnd.jupyter.widget-view+json": {
       "model_id": "06d9843f91624c59a8d5c497edf62e2f",
       "version_major": 2,
       "version_minor": 0
      },
      "text/plain": [
       "  0%|          | 0/1114 [00:00<?, ?it/s]"
      ]
     },
     "metadata": {},
     "output_type": "display_data"
    },
    {
     "name": "stderr",
     "output_type": "stream",
     "text": [
      "\u001b[32m[I 2021-11-15 17:42:41,321]\u001b[0m Trial 50 finished with value: 0.7205233737437511 and parameters: {'e048': 0.3371906073704757, 'e049': 0.2805129251593144, 'e051': 0.5770222779796401, 'e053': 0.7924112429903549, 'e054': 0.4963962774102867, 'e073': 0.5099509471834809, 'e074': 0.08471352153144251}. Best is trial 35 with value: 0.7289955020542994.\u001b[0m\n",
      "2021-11-15 17:42:42,299 postprocessor.py     58   [INFO] [__call__] start postprocessing \n"
     ]
    },
    {
     "data": {
      "application/vnd.jupyter.widget-view+json": {
       "model_id": "228f2d873893486cb74630d32a1e7514",
       "version_major": 2,
       "version_minor": 0
      },
      "text/plain": [
       "  0%|          | 0/1114 [00:00<?, ?it/s]"
      ]
     },
     "metadata": {},
     "output_type": "display_data"
    },
    {
     "name": "stderr",
     "output_type": "stream",
     "text": [
      "\u001b[32m[I 2021-11-15 17:42:48,801]\u001b[0m Trial 51 finished with value: 0.726325301718031 and parameters: {'e048': 0.20970031962967728, 'e049': 0.03941351339131914, 'e051': 0.03714642289373282, 'e053': 0.4473509490679344, 'e054': 0.6299678491599073, 'e073': 0.38964766825918906, 'e074': 0.7940947506400464}. Best is trial 35 with value: 0.7289955020542994.\u001b[0m\n",
      "2021-11-15 17:42:49,773 postprocessor.py     58   [INFO] [__call__] start postprocessing \n"
     ]
    },
    {
     "data": {
      "application/vnd.jupyter.widget-view+json": {
       "model_id": "586c89e453d44cd19656481680353916",
       "version_major": 2,
       "version_minor": 0
      },
      "text/plain": [
       "  0%|          | 0/1114 [00:00<?, ?it/s]"
      ]
     },
     "metadata": {},
     "output_type": "display_data"
    },
    {
     "name": "stderr",
     "output_type": "stream",
     "text": [
      "\u001b[32m[I 2021-11-15 17:42:56,269]\u001b[0m Trial 52 finished with value: 0.7283372136042696 and parameters: {'e048': 0.2564542762213813, 'e049': 0.12093688888925516, 'e051': 0.2011164264235143, 'e053': 0.586619144054225, 'e054': 0.475894533032474, 'e073': 0.080877130230302, 'e074': 0.9994151236436332}. Best is trial 35 with value: 0.7289955020542994.\u001b[0m\n",
      "2021-11-15 17:42:57,239 postprocessor.py     58   [INFO] [__call__] start postprocessing \n"
     ]
    },
    {
     "data": {
      "application/vnd.jupyter.widget-view+json": {
       "model_id": "b085eec3d4474e91ad4031c9d7230a46",
       "version_major": 2,
       "version_minor": 0
      },
      "text/plain": [
       "  0%|          | 0/1114 [00:00<?, ?it/s]"
      ]
     },
     "metadata": {},
     "output_type": "display_data"
    },
    {
     "name": "stderr",
     "output_type": "stream",
     "text": [
      "\u001b[32m[I 2021-11-15 17:43:03,743]\u001b[0m Trial 53 finished with value: 0.7273761409645614 and parameters: {'e048': 0.27861597543841227, 'e049': 0.003845608650082058, 'e051': 0.18971286249985064, 'e053': 0.6905827024882679, 'e054': 0.5379093968786489, 'e073': 0.6807798930531759, 'e074': 0.9998138381631811}. Best is trial 35 with value: 0.7289955020542994.\u001b[0m\n",
      "2021-11-15 17:43:04,717 postprocessor.py     58   [INFO] [__call__] start postprocessing \n"
     ]
    },
    {
     "data": {
      "application/vnd.jupyter.widget-view+json": {
       "model_id": "3a91ebb249964c3fafb526c68e4f1344",
       "version_major": 2,
       "version_minor": 0
      },
      "text/plain": [
       "  0%|          | 0/1114 [00:00<?, ?it/s]"
      ]
     },
     "metadata": {},
     "output_type": "display_data"
    },
    {
     "name": "stderr",
     "output_type": "stream",
     "text": [
      "\u001b[32m[I 2021-11-15 17:43:11,149]\u001b[0m Trial 54 finished with value: 0.7266665573106331 and parameters: {'e048': 0.41884015179942546, 'e049': 0.007174648611865855, 'e051': 0.19573969419973328, 'e053': 0.665670200013493, 'e054': 0.5766847668741109, 'e073': 0.600021671425145, 'e074': 0.9590283761915842}. Best is trial 35 with value: 0.7289955020542994.\u001b[0m\n",
      "2021-11-15 17:43:12,118 postprocessor.py     58   [INFO] [__call__] start postprocessing \n"
     ]
    },
    {
     "data": {
      "application/vnd.jupyter.widget-view+json": {
       "model_id": "1331c4b7a2d843648aebac486eb99ec0",
       "version_major": 2,
       "version_minor": 0
      },
      "text/plain": [
       "  0%|          | 0/1114 [00:00<?, ?it/s]"
      ]
     },
     "metadata": {},
     "output_type": "display_data"
    },
    {
     "name": "stderr",
     "output_type": "stream",
     "text": [
      "\u001b[32m[I 2021-11-15 17:43:18,636]\u001b[0m Trial 55 finished with value: 0.725421223749321 and parameters: {'e048': 0.2766444353336377, 'e049': 0.053203474887973994, 'e051': 0.14946931801019914, 'e053': 0.6987484136358539, 'e054': 0.6351147297642927, 'e073': 0.7205822938918693, 'e074': 0.9909738881321076}. Best is trial 35 with value: 0.7289955020542994.\u001b[0m\n",
      "2021-11-15 17:43:19,624 postprocessor.py     58   [INFO] [__call__] start postprocessing \n"
     ]
    },
    {
     "data": {
      "application/vnd.jupyter.widget-view+json": {
       "model_id": "631ca6ec19534b8fa186e6be8f5fe5ea",
       "version_major": 2,
       "version_minor": 0
      },
      "text/plain": [
       "  0%|          | 0/1114 [00:00<?, ?it/s]"
      ]
     },
     "metadata": {},
     "output_type": "display_data"
    },
    {
     "name": "stderr",
     "output_type": "stream",
     "text": [
      "\u001b[32m[I 2021-11-15 17:43:26,022]\u001b[0m Trial 56 finished with value: 0.7240050357083574 and parameters: {'e048': 0.37654679377723754, 'e049': 0.14079270054336776, 'e051': 0.6743835541600303, 'e053': 0.5844449432924065, 'e054': 0.026358679978126798, 'e073': 0.6788091371860514, 'e074': 0.8847438870931862}. Best is trial 35 with value: 0.7289955020542994.\u001b[0m\n",
      "2021-11-15 17:43:26,984 postprocessor.py     58   [INFO] [__call__] start postprocessing \n"
     ]
    },
    {
     "data": {
      "application/vnd.jupyter.widget-view+json": {
       "model_id": "7d72d23fa6ac45fd8d71be9f9785fb05",
       "version_major": 2,
       "version_minor": 0
      },
      "text/plain": [
       "  0%|          | 0/1114 [00:00<?, ?it/s]"
      ]
     },
     "metadata": {},
     "output_type": "display_data"
    },
    {
     "name": "stderr",
     "output_type": "stream",
     "text": [
      "\u001b[32m[I 2021-11-15 17:43:33,413]\u001b[0m Trial 57 finished with value: 0.7264629308951575 and parameters: {'e048': 0.50840464470266, 'e049': 0.2334017400209778, 'e051': 0.3479216162377201, 'e053': 0.9871984300522785, 'e054': 0.4881295213872292, 'e073': 0.7692272322751936, 'e074': 0.9535830828449985}. Best is trial 35 with value: 0.7289955020542994.\u001b[0m\n",
      "2021-11-15 17:43:34,383 postprocessor.py     58   [INFO] [__call__] start postprocessing \n"
     ]
    },
    {
     "data": {
      "application/vnd.jupyter.widget-view+json": {
       "model_id": "abe590c335f84d92af53313bb6118c96",
       "version_major": 2,
       "version_minor": 0
      },
      "text/plain": [
       "  0%|          | 0/1114 [00:00<?, ?it/s]"
      ]
     },
     "metadata": {},
     "output_type": "display_data"
    },
    {
     "name": "stderr",
     "output_type": "stream",
     "text": [
      "\u001b[32m[I 2021-11-15 17:43:40,893]\u001b[0m Trial 58 finished with value: 0.7179725440979271 and parameters: {'e048': 0.11886944681355732, 'e049': 0.8168821384650168, 'e051': 0.005693769792551404, 'e053': 0.6238177023601044, 'e054': 0.13758161938634766, 'e073': 0.028044197141472743, 'e074': 0.9984839757464194}. Best is trial 35 with value: 0.7289955020542994.\u001b[0m\n",
      "2021-11-15 17:43:41,868 postprocessor.py     58   [INFO] [__call__] start postprocessing \n"
     ]
    },
    {
     "data": {
      "application/vnd.jupyter.widget-view+json": {
       "model_id": "9c8e1bcbe4dd4056b66bcb56c2d8c6da",
       "version_major": 2,
       "version_minor": 0
      },
      "text/plain": [
       "  0%|          | 0/1114 [00:00<?, ?it/s]"
      ]
     },
     "metadata": {},
     "output_type": "display_data"
    },
    {
     "name": "stderr",
     "output_type": "stream",
     "text": [
      "\u001b[32m[I 2021-11-15 17:43:48,271]\u001b[0m Trial 59 finished with value: 0.7255081406225934 and parameters: {'e048': 0.6304659423226792, 'e049': 0.17047507315188354, 'e051': 0.21848636312293856, 'e053': 0.7763616413365326, 'e054': 0.5382997814881452, 'e073': 0.8373492051357638, 'e074': 0.8447423527250397}. Best is trial 35 with value: 0.7289955020542994.\u001b[0m\n",
      "2021-11-15 17:43:49,249 postprocessor.py     58   [INFO] [__call__] start postprocessing \n"
     ]
    },
    {
     "data": {
      "application/vnd.jupyter.widget-view+json": {
       "model_id": "a068c296e9d74659805120cd1e052d7e",
       "version_major": 2,
       "version_minor": 0
      },
      "text/plain": [
       "  0%|          | 0/1114 [00:00<?, ?it/s]"
      ]
     },
     "metadata": {},
     "output_type": "display_data"
    },
    {
     "name": "stderr",
     "output_type": "stream",
     "text": [
      "\u001b[32m[I 2021-11-15 17:43:55,760]\u001b[0m Trial 60 finished with value: 0.720755082226067 and parameters: {'e048': 0.3645515070996962, 'e049': 0.562938615578481, 'e051': 0.15270267240843236, 'e053': 0.522666626982858, 'e054': 0.8049459227769192, 'e073': 0.6489820944005416, 'e074': 0.8989834983273879}. Best is trial 35 with value: 0.7289955020542994.\u001b[0m\n",
      "2021-11-15 17:43:56,737 postprocessor.py     58   [INFO] [__call__] start postprocessing \n"
     ]
    },
    {
     "data": {
      "application/vnd.jupyter.widget-view+json": {
       "model_id": "d1de76fcadb74742ba676f1e51caf975",
       "version_major": 2,
       "version_minor": 0
      },
      "text/plain": [
       "  0%|          | 0/1114 [00:00<?, ?it/s]"
      ]
     },
     "metadata": {},
     "output_type": "display_data"
    },
    {
     "name": "stderr",
     "output_type": "stream",
     "text": [
      "\u001b[32m[I 2021-11-15 17:44:03,224]\u001b[0m Trial 61 finished with value: 0.7292620816745594 and parameters: {'e048': 0.21056065333636087, 'e049': 0.12256900266408005, 'e051': 0.42450356296225644, 'e053': 0.5830336157223188, 'e054': 0.4105621080175618, 'e073': 0.06675658369855005, 'e074': 0.8076950954294185}. Best is trial 61 with value: 0.7292620816745594.\u001b[0m\n",
      "2021-11-15 17:44:04,199 postprocessor.py     58   [INFO] [__call__] start postprocessing \n"
     ]
    },
    {
     "data": {
      "application/vnd.jupyter.widget-view+json": {
       "model_id": "08b917d1a2f54a0f86fe11b4ac7fd5de",
       "version_major": 2,
       "version_minor": 0
      },
      "text/plain": [
       "  0%|          | 0/1114 [00:00<?, ?it/s]"
      ]
     },
     "metadata": {},
     "output_type": "display_data"
    },
    {
     "name": "stderr",
     "output_type": "stream",
     "text": [
      "\u001b[32m[I 2021-11-15 17:44:10,716]\u001b[0m Trial 62 finished with value: 0.7299652534280007 and parameters: {'e048': 0.178415431127399, 'e049': 0.03249178543060002, 'e051': 0.4509217419602011, 'e053': 0.6069325257940701, 'e054': 0.3947422437269569, 'e073': 0.042357542251523245, 'e074': 0.9561578854341755}. Best is trial 62 with value: 0.7299652534280007.\u001b[0m\n",
      "2021-11-15 17:44:11,687 postprocessor.py     58   [INFO] [__call__] start postprocessing \n"
     ]
    },
    {
     "data": {
      "application/vnd.jupyter.widget-view+json": {
       "model_id": "a444428848ff4f14a2813294777d7d09",
       "version_major": 2,
       "version_minor": 0
      },
      "text/plain": [
       "  0%|          | 0/1114 [00:00<?, ?it/s]"
      ]
     },
     "metadata": {},
     "output_type": "display_data"
    },
    {
     "name": "stderr",
     "output_type": "stream",
     "text": [
      "\u001b[32m[I 2021-11-15 17:44:18,189]\u001b[0m Trial 63 finished with value: 0.7290675873597781 and parameters: {'e048': 0.18981263868471282, 'e049': 0.033881921194259576, 'e051': 0.42565653212410626, 'e053': 0.5808559032116627, 'e054': 0.3305834883378419, 'e073': 3.028776024235208e-05, 'e074': 0.9580081168494047}. Best is trial 62 with value: 0.7299652534280007.\u001b[0m\n",
      "2021-11-15 17:44:19,162 postprocessor.py     58   [INFO] [__call__] start postprocessing \n"
     ]
    },
    {
     "data": {
      "application/vnd.jupyter.widget-view+json": {
       "model_id": "3e1f0c26654d4428821d754464e38645",
       "version_major": 2,
       "version_minor": 0
      },
      "text/plain": [
       "  0%|          | 0/1114 [00:00<?, ?it/s]"
      ]
     },
     "metadata": {},
     "output_type": "display_data"
    },
    {
     "name": "stderr",
     "output_type": "stream",
     "text": [
      "\u001b[32m[I 2021-11-15 17:44:25,646]\u001b[0m Trial 64 finished with value: 0.7298605257200412 and parameters: {'e048': 0.18939429015803283, 'e049': 0.03196974623310751, 'e051': 0.4462435169092046, 'e053': 0.5712241164369889, 'e054': 0.33399094372664484, 'e073': 0.053617750680310314, 'e074': 0.9506997889810382}. Best is trial 62 with value: 0.7299652534280007.\u001b[0m\n",
      "2021-11-15 17:44:26,636 postprocessor.py     58   [INFO] [__call__] start postprocessing \n"
     ]
    },
    {
     "data": {
      "application/vnd.jupyter.widget-view+json": {
       "model_id": "bb92dc2854504d2986a028f24b59bbf3",
       "version_major": 2,
       "version_minor": 0
      },
      "text/plain": [
       "  0%|          | 0/1114 [00:00<?, ?it/s]"
      ]
     },
     "metadata": {},
     "output_type": "display_data"
    },
    {
     "name": "stderr",
     "output_type": "stream",
     "text": [
      "\u001b[32m[I 2021-11-15 17:44:33,149]\u001b[0m Trial 65 finished with value: 0.7281699212915554 and parameters: {'e048': 0.1734409603221035, 'e049': 0.029432294203867573, 'e051': 0.45973152773570164, 'e053': 0.6013595599715567, 'e054': 0.3893245990021195, 'e073': 0.0027208020226657456, 'e074': 0.9573642978044705}. Best is trial 62 with value: 0.7299652534280007.\u001b[0m\n",
      "2021-11-15 17:44:34,157 postprocessor.py     58   [INFO] [__call__] start postprocessing \n"
     ]
    },
    {
     "data": {
      "application/vnd.jupyter.widget-view+json": {
       "model_id": "63ef68f8adf14e3ebe614b6896026803",
       "version_major": 2,
       "version_minor": 0
      },
      "text/plain": [
       "  0%|          | 0/1114 [00:00<?, ?it/s]"
      ]
     },
     "metadata": {},
     "output_type": "display_data"
    },
    {
     "name": "stderr",
     "output_type": "stream",
     "text": [
      "\u001b[32m[I 2021-11-15 17:44:40,678]\u001b[0m Trial 66 finished with value: 0.7273000401254444 and parameters: {'e048': 0.07142313915685962, 'e049': 0.03083944178312466, 'e051': 0.4275294330661407, 'e053': 0.573537146700883, 'e054': 0.39648299568760664, 'e073': 0.05215074660786821, 'e074': 0.9360031245157614}. Best is trial 62 with value: 0.7299652534280007.\u001b[0m\n",
      "2021-11-15 17:44:41,660 postprocessor.py     58   [INFO] [__call__] start postprocessing \n"
     ]
    },
    {
     "data": {
      "application/vnd.jupyter.widget-view+json": {
       "model_id": "7cb2cdb571e34520a79e85abe9e6135c",
       "version_major": 2,
       "version_minor": 0
      },
      "text/plain": [
       "  0%|          | 0/1114 [00:00<?, ?it/s]"
      ]
     },
     "metadata": {},
     "output_type": "display_data"
    },
    {
     "name": "stderr",
     "output_type": "stream",
     "text": [
      "\u001b[32m[I 2021-11-15 17:44:48,161]\u001b[0m Trial 67 finished with value: 0.7286636376290778 and parameters: {'e048': 0.18958535868511933, 'e049': 0.07250615029477911, 'e051': 0.41378103611437256, 'e053': 0.6103866515252322, 'e054': 0.3667748623729753, 'e073': 0.00799807200518126, 'e074': 0.9403330960910516}. Best is trial 62 with value: 0.7299652534280007.\u001b[0m\n",
      "2021-11-15 17:44:49,137 postprocessor.py     58   [INFO] [__call__] start postprocessing \n"
     ]
    },
    {
     "data": {
      "application/vnd.jupyter.widget-view+json": {
       "model_id": "82634ea3532445d4972ce916e6e2b779",
       "version_major": 2,
       "version_minor": 0
      },
      "text/plain": [
       "  0%|          | 0/1114 [00:00<?, ?it/s]"
      ]
     },
     "metadata": {},
     "output_type": "display_data"
    },
    {
     "name": "stderr",
     "output_type": "stream",
     "text": [
      "\u001b[32m[I 2021-11-15 17:44:55,564]\u001b[0m Trial 68 finished with value: 0.7279732896766112 and parameters: {'e048': 0.0008807856332675723, 'e049': 0.07507600524149306, 'e051': 0.5302859624333882, 'e053': 0.6375629696863491, 'e054': 0.3339238146062877, 'e073': 0.10577622629869915, 'e074': 0.8138098871659504}. Best is trial 62 with value: 0.7299652534280007.\u001b[0m\n",
      "2021-11-15 17:44:56,557 postprocessor.py     58   [INFO] [__call__] start postprocessing \n"
     ]
    },
    {
     "data": {
      "application/vnd.jupyter.widget-view+json": {
       "model_id": "36bd7712a313486e9a55a5149b47b5b9",
       "version_major": 2,
       "version_minor": 0
      },
      "text/plain": [
       "  0%|          | 0/1114 [00:00<?, ?it/s]"
      ]
     },
     "metadata": {},
     "output_type": "display_data"
    },
    {
     "name": "stderr",
     "output_type": "stream",
     "text": [
      "\u001b[32m[I 2021-11-15 17:45:03,126]\u001b[0m Trial 69 finished with value: 0.7290376651575038 and parameters: {'e048': 0.1447998861892323, 'e049': 0.18553826689695802, 'e051': 0.49760752764343524, 'e053': 0.5739626941399631, 'e054': 0.26646297956282117, 'e073': 0.046855983340607074, 'e074': 0.7504712174533712}. Best is trial 62 with value: 0.7299652534280007.\u001b[0m\n",
      "2021-11-15 17:45:04,141 postprocessor.py     58   [INFO] [__call__] start postprocessing \n"
     ]
    },
    {
     "data": {
      "application/vnd.jupyter.widget-view+json": {
       "model_id": "d0d2220209204d5a8c81c0c83f1a0054",
       "version_major": 2,
       "version_minor": 0
      },
      "text/plain": [
       "  0%|          | 0/1114 [00:00<?, ?it/s]"
      ]
     },
     "metadata": {},
     "output_type": "display_data"
    },
    {
     "name": "stderr",
     "output_type": "stream",
     "text": [
      "\u001b[32m[I 2021-11-15 17:45:10,682]\u001b[0m Trial 70 finished with value: 0.7285888321233925 and parameters: {'e048': 0.14245325640027579, 'e049': 0.1830567537592716, 'e051': 0.474211768426476, 'e053': 0.5086398254290571, 'e054': 0.2603617175686346, 'e073': 0.030926848934609806, 'e074': 0.7358689243421442}. Best is trial 62 with value: 0.7299652534280007.\u001b[0m\n",
      "2021-11-15 17:45:11,647 postprocessor.py     58   [INFO] [__call__] start postprocessing \n"
     ]
    },
    {
     "data": {
      "application/vnd.jupyter.widget-view+json": {
       "model_id": "2c90b8c00f6a48739f4fbc8368785a2d",
       "version_major": 2,
       "version_minor": 0
      },
      "text/plain": [
       "  0%|          | 0/1114 [00:00<?, ?it/s]"
      ]
     },
     "metadata": {},
     "output_type": "display_data"
    },
    {
     "name": "stderr",
     "output_type": "stream",
     "text": [
      "\u001b[32m[I 2021-11-15 17:45:18,106]\u001b[0m Trial 71 finished with value: 0.730084942237097 and parameters: {'e048': 0.1435466462626227, 'e049': 0.18158645903811205, 'e051': 0.49841511930398497, 'e053': 0.5586140064526616, 'e054': 0.2620095978488544, 'e073': 0.037192030269042387, 'e074': 0.7428792839507401}. Best is trial 71 with value: 0.730084942237097.\u001b[0m\n",
      "2021-11-15 17:45:19,080 postprocessor.py     58   [INFO] [__call__] start postprocessing \n"
     ]
    },
    {
     "data": {
      "application/vnd.jupyter.widget-view+json": {
       "model_id": "80180ab503744b31aa4ec2e24e12c363",
       "version_major": 2,
       "version_minor": 0
      },
      "text/plain": [
       "  0%|          | 0/1114 [00:00<?, ?it/s]"
      ]
     },
     "metadata": {},
     "output_type": "display_data"
    },
    {
     "name": "stderr",
     "output_type": "stream",
     "text": [
      "\u001b[32m[I 2021-11-15 17:45:25,467]\u001b[0m Trial 72 finished with value: 0.730458969765523 and parameters: {'e048': 0.1940392814501654, 'e049': 0.0637928909847687, 'e051': 0.42699472290587726, 'e053': 0.5509491422088679, 'e054': 0.20448634288337655, 'e073': 0.048299208237459194, 'e074': 0.8423853555818454}. Best is trial 72 with value: 0.730458969765523.\u001b[0m\n",
      "2021-11-15 17:45:26,434 postprocessor.py     58   [INFO] [__call__] start postprocessing \n"
     ]
    },
    {
     "data": {
      "application/vnd.jupyter.widget-view+json": {
       "model_id": "1efa18338aee447bbdfe307cf8c1ab25",
       "version_major": 2,
       "version_minor": 0
      },
      "text/plain": [
       "  0%|          | 0/1114 [00:00<?, ?it/s]"
      ]
     },
     "metadata": {},
     "output_type": "display_data"
    },
    {
     "name": "stderr",
     "output_type": "stream",
     "text": [
      "\u001b[32m[I 2021-11-15 17:45:32,988]\u001b[0m Trial 73 finished with value: 0.7282148045949665 and parameters: {'e048': 0.10474701663647028, 'e049': 0.14050434815500987, 'e051': 0.5103927769786447, 'e053': 0.5633061590142409, 'e054': 0.21427802401098, 'e073': 0.052832232463324504, 'e074': 0.7610158492994729}. Best is trial 72 with value: 0.730458969765523.\u001b[0m\n",
      "2021-11-15 17:45:33,957 postprocessor.py     58   [INFO] [__call__] start postprocessing \n"
     ]
    },
    {
     "data": {
      "application/vnd.jupyter.widget-view+json": {
       "model_id": "a486adba7bf24d82ae5893b4256bdb5d",
       "version_major": 2,
       "version_minor": 0
      },
      "text/plain": [
       "  0%|          | 0/1114 [00:00<?, ?it/s]"
      ]
     },
     "metadata": {},
     "output_type": "display_data"
    },
    {
     "name": "stderr",
     "output_type": "stream",
     "text": [
      "\u001b[32m[I 2021-11-15 17:45:40,386]\u001b[0m Trial 74 finished with value: 0.7285140266177073 and parameters: {'e048': 0.20861970786891737, 'e049': 0.0952919092894696, 'e051': 0.5838763603489862, 'e053': 0.5602107116019812, 'e054': 0.32164542219905984, 'e073': 0.10833595943092336, 'e074': 0.8314048544317822}. Best is trial 72 with value: 0.730458969765523.\u001b[0m\n",
      "2021-11-15 17:45:41,354 postprocessor.py     58   [INFO] [__call__] start postprocessing \n"
     ]
    },
    {
     "data": {
      "application/vnd.jupyter.widget-view+json": {
       "model_id": "b5cc0cd704a44e43925190ac98343c36",
       "version_major": 2,
       "version_minor": 0
      },
      "text/plain": [
       "  0%|          | 0/1114 [00:00<?, ?it/s]"
      ]
     },
     "metadata": {},
     "output_type": "display_data"
    },
    {
     "name": "stderr",
     "output_type": "stream",
     "text": [
      "\u001b[32m[I 2021-11-15 17:45:47,723]\u001b[0m Trial 75 finished with value: 0.7266688241441386 and parameters: {'e048': 0.04992213438968848, 'e049': 0.18610361814922033, 'e051': 0.4841647113582635, 'e053': 0.6417099945777525, 'e054': 0.18677913678635874, 'e073': 0.14318198309617233, 'e074': 0.6496916836962939}. Best is trial 72 with value: 0.730458969765523.\u001b[0m\n",
      "2021-11-15 17:45:48,692 postprocessor.py     58   [INFO] [__call__] start postprocessing \n"
     ]
    },
    {
     "data": {
      "application/vnd.jupyter.widget-view+json": {
       "model_id": "0b4b6308df6b4295944499dac92e3620",
       "version_major": 2,
       "version_minor": 0
      },
      "text/plain": [
       "  0%|          | 0/1114 [00:00<?, ?it/s]"
      ]
     },
     "metadata": {},
     "output_type": "display_data"
    },
    {
     "name": "stderr",
     "output_type": "stream",
     "text": [
      "\u001b[32m[I 2021-11-15 17:45:55,218]\u001b[0m Trial 76 finished with value: 0.721355139723632 and parameters: {'e048': 0.15094363459444193, 'e049': 0.6662433470596693, 'e051': 0.4144197824593208, 'e053': 0.501744434147377, 'e054': 0.2660334982178598, 'e073': 0.04014348992099748, 'e074': 0.7644251130353003}. Best is trial 72 with value: 0.730458969765523.\u001b[0m\n",
      "2021-11-15 17:45:56,184 postprocessor.py     58   [INFO] [__call__] start postprocessing \n"
     ]
    },
    {
     "data": {
      "application/vnd.jupyter.widget-view+json": {
       "model_id": "b04509b5e10b44b0bb973ab586612dd3",
       "version_major": 2,
       "version_minor": 0
      },
      "text/plain": [
       "  0%|          | 0/1114 [00:00<?, ?it/s]"
      ]
     },
     "metadata": {},
     "output_type": "display_data"
    },
    {
     "name": "stderr",
     "output_type": "stream",
     "text": [
      "\u001b[32m[I 2021-11-15 17:46:02,604]\u001b[0m Trial 77 finished with value: 0.7282547008646653 and parameters: {'e048': 0.12412684114399444, 'e049': 0.02651712197262096, 'e051': 0.5539349667247179, 'e053': 0.4701170160654323, 'e054': 0.11344202081017127, 'e073': 0.05691287288689888, 'e074': 0.8618487262139359}. Best is trial 72 with value: 0.730458969765523.\u001b[0m\n",
      "2021-11-15 17:46:03,655 postprocessor.py     58   [INFO] [__call__] start postprocessing \n"
     ]
    },
    {
     "data": {
      "application/vnd.jupyter.widget-view+json": {
       "model_id": "c36b849fa1ec45779ddc1e914bb42085",
       "version_major": 2,
       "version_minor": 0
      },
      "text/plain": [
       "  0%|          | 0/1114 [00:00<?, ?it/s]"
      ]
     },
     "metadata": {},
     "output_type": "display_data"
    },
    {
     "name": "stderr",
     "output_type": "stream",
     "text": [
      "\u001b[32m[I 2021-11-15 17:46:10,185]\u001b[0m Trial 78 finished with value: 0.725327312075517 and parameters: {'e048': 0.7616579398433323, 'e049': 0.3290738656653545, 'e051': 0.6306651312919341, 'e053': 0.6419697045730539, 'e054': 0.29249804123258705, 'e073': 0.19163276075595895, 'e074': 0.8538361782965044}. Best is trial 72 with value: 0.730458969765523.\u001b[0m\n",
      "2021-11-15 17:46:11,158 postprocessor.py     58   [INFO] [__call__] start postprocessing \n"
     ]
    },
    {
     "data": {
      "application/vnd.jupyter.widget-view+json": {
       "model_id": "1a474188c7a340a281f6ff00dd71e896",
       "version_major": 2,
       "version_minor": 0
      },
      "text/plain": [
       "  0%|          | 0/1114 [00:00<?, ?it/s]"
      ]
     },
     "metadata": {},
     "output_type": "display_data"
    },
    {
     "name": "stderr",
     "output_type": "stream",
     "text": [
      "\u001b[32m[I 2021-11-15 17:46:17,662]\u001b[0m Trial 79 finished with value: 0.7214723350158722 and parameters: {'e048': 0.09191730170470548, 'e049': 0.0645580690371354, 'e051': 0.37718508058726924, 'e053': 0.5595829429153967, 'e054': 0.34689810022437867, 'e073': 0.09557050985737463, 'e074': 0.30032781187463825}. Best is trial 72 with value: 0.730458969765523.\u001b[0m\n",
      "2021-11-15 17:46:18,636 postprocessor.py     58   [INFO] [__call__] start postprocessing \n"
     ]
    },
    {
     "data": {
      "application/vnd.jupyter.widget-view+json": {
       "model_id": "16a10b2b5aed483ab49bc52161620fda",
       "version_major": 2,
       "version_minor": 0
      },
      "text/plain": [
       "  0%|          | 0/1114 [00:00<?, ?it/s]"
      ]
     },
     "metadata": {},
     "output_type": "display_data"
    },
    {
     "name": "stderr",
     "output_type": "stream",
     "text": [
      "\u001b[32m[I 2021-11-15 17:46:25,053]\u001b[0m Trial 80 finished with value: 0.7266289278744398 and parameters: {'e048': 0.21536809954450165, 'e049': 0.264960413198957, 'e051': 0.49624305254245865, 'e053': 0.6696267376042809, 'e054': 0.19626177839060566, 'e073': 0.12993675090789603, 'e074': 0.8052202614699746}. Best is trial 72 with value: 0.730458969765523.\u001b[0m\n",
      "2021-11-15 17:46:26,025 postprocessor.py     58   [INFO] [__call__] start postprocessing \n"
     ]
    },
    {
     "data": {
      "application/vnd.jupyter.widget-view+json": {
       "model_id": "1f0afec1609f4213a6cccd80f6b1196b",
       "version_major": 2,
       "version_minor": 0
      },
      "text/plain": [
       "  0%|          | 0/1114 [00:00<?, ?it/s]"
      ]
     },
     "metadata": {},
     "output_type": "display_data"
    },
    {
     "name": "stderr",
     "output_type": "stream",
     "text": [
      "\u001b[32m[I 2021-11-15 17:46:32,417]\u001b[0m Trial 81 finished with value: 0.7286636376290778 and parameters: {'e048': 0.19230323503006208, 'e049': 0.07190947051715643, 'e051': 0.4054609550301667, 'e053': 0.6070929107266979, 'e054': 0.36514220694314126, 'e073': 0.0004995112812993807, 'e074': 0.9117295024434968}. Best is trial 72 with value: 0.730458969765523.\u001b[0m\n",
      "2021-11-15 17:46:33,388 postprocessor.py     58   [INFO] [__call__] start postprocessing \n"
     ]
    },
    {
     "data": {
      "application/vnd.jupyter.widget-view+json": {
       "model_id": "88f7b7d6ad9743b1a404da157c557822",
       "version_major": 2,
       "version_minor": 0
      },
      "text/plain": [
       "  0%|          | 0/1114 [00:00<?, ?it/s]"
      ]
     },
     "metadata": {},
     "output_type": "display_data"
    },
    {
     "name": "stderr",
     "output_type": "stream",
     "text": [
      "\u001b[32m[I 2021-11-15 17:46:39,875]\u001b[0m Trial 82 finished with value: 0.7275265939426625 and parameters: {'e048': 0.1653909547640497, 'e049': 0.09482886110663287, 'e051': 0.39915156136666957, 'e053': 0.7198071758809739, 'e054': 0.24941491343530764, 'e073': 0.025919286612021288, 'e074': 0.9104640482620979}. Best is trial 72 with value: 0.730458969765523.\u001b[0m\n",
      "2021-11-15 17:46:40,859 postprocessor.py     58   [INFO] [__call__] start postprocessing \n"
     ]
    },
    {
     "data": {
      "application/vnd.jupyter.widget-view+json": {
       "model_id": "b8fc21e1a5694881a047d16aebbd9bfa",
       "version_major": 2,
       "version_minor": 0
      },
      "text/plain": [
       "  0%|          | 0/1114 [00:00<?, ?it/s]"
      ]
     },
     "metadata": {},
     "output_type": "display_data"
    },
    {
     "name": "stderr",
     "output_type": "stream",
     "text": [
      "\u001b[32m[I 2021-11-15 17:46:47,368]\u001b[0m Trial 83 finished with value: 0.7246091792209389 and parameters: {'e048': 0.19352045382261404, 'e049': 0.1596611201786254, 'e051': 0.3429293867955203, 'e053': 0.6122755428402414, 'e054': 0.40434662185509296, 'e073': 0.003667020755403219, 'e074': 0.7160416242883597}. Best is trial 72 with value: 0.730458969765523.\u001b[0m\n",
      "2021-11-15 17:46:48,342 postprocessor.py     58   [INFO] [__call__] start postprocessing \n"
     ]
    },
    {
     "data": {
      "application/vnd.jupyter.widget-view+json": {
       "model_id": "97ef87a5fffb479c9aa7154ce0e9c9ca",
       "version_major": 2,
       "version_minor": 0
      },
      "text/plain": [
       "  0%|          | 0/1114 [00:00<?, ?it/s]"
      ]
     },
     "metadata": {},
     "output_type": "display_data"
    },
    {
     "name": "stderr",
     "output_type": "stream",
     "text": [
      "\u001b[32m[I 2021-11-15 17:46:54,781]\u001b[0m Trial 84 finished with value: 0.7291124706631892 and parameters: {'e048': 0.13700232681616245, 'e049': 0.1240019910394218, 'e051': 0.4464246401755401, 'e053': 0.5129389174169487, 'e054': 0.3314886418729121, 'e073': 0.06746588064208336, 'e074': 0.9363934500695261}. Best is trial 72 with value: 0.730458969765523.\u001b[0m\n",
      "2021-11-15 17:46:55,754 postprocessor.py     58   [INFO] [__call__] start postprocessing \n"
     ]
    },
    {
     "data": {
      "application/vnd.jupyter.widget-view+json": {
       "model_id": "39f2426aa633412a9d926210688e887b",
       "version_major": 2,
       "version_minor": 0
      },
      "text/plain": [
       "  0%|          | 0/1114 [00:00<?, ?it/s]"
      ]
     },
     "metadata": {},
     "output_type": "display_data"
    },
    {
     "name": "stderr",
     "output_type": "stream",
     "text": [
      "\u001b[32m[I 2021-11-15 17:47:02,094]\u001b[0m Trial 85 finished with value: 0.7301447866416451 and parameters: {'e048': 0.14186494917859147, 'e049': 0.12323073434638324, 'e051': 0.4405264957117548, 'e053': 0.5119630242940985, 'e054': 0.15156652070123652, 'e073': 0.08058350112257748, 'e074': 0.7511188102758904}. Best is trial 72 with value: 0.730458969765523.\u001b[0m\n",
      "2021-11-15 17:47:03,098 postprocessor.py     58   [INFO] [__call__] start postprocessing \n"
     ]
    },
    {
     "data": {
      "application/vnd.jupyter.widget-view+json": {
       "model_id": "3e36d2f546b24581a529f60eca58439c",
       "version_major": 2,
       "version_minor": 0
      },
      "text/plain": [
       "  0%|          | 0/1114 [00:00<?, ?it/s]"
      ]
     },
     "metadata": {},
     "output_type": "display_data"
    },
    {
     "name": "stderr",
     "output_type": "stream",
     "text": [
      "\u001b[32m[I 2021-11-15 17:47:09,504]\u001b[0m Trial 86 finished with value: 0.7257462229073544 and parameters: {'e048': 0.13938916809734164, 'e049': 0.21015269253406538, 'e051': 0.4498067065416487, 'e053': 0.40264486131670907, 'e054': 0.28779241700112035, 'e073': 0.23968115131730738, 'e074': 0.7392440864823532}. Best is trial 72 with value: 0.730458969765523.\u001b[0m\n",
      "2021-11-15 17:47:10,522 postprocessor.py     58   [INFO] [__call__] start postprocessing \n"
     ]
    },
    {
     "data": {
      "application/vnd.jupyter.widget-view+json": {
       "model_id": "e6e90025c64141f7a8b495096bff0c26",
       "version_major": 2,
       "version_minor": 0
      },
      "text/plain": [
       "  0%|          | 0/1114 [00:00<?, ?it/s]"
      ]
     },
     "metadata": {},
     "output_type": "display_data"
    },
    {
     "name": "stderr",
     "output_type": "stream",
     "text": [
      "\u001b[32m[I 2021-11-15 17:47:17,019]\u001b[0m Trial 87 finished with value: 0.7285140266177074 and parameters: {'e048': 0.05292507043520747, 'e049': 0.12774123231727996, 'e051': 0.4373249592683284, 'e053': 0.507893291724288, 'e054': 0.1605763113600614, 'e073': 0.05955215005336051, 'e074': 0.6574048449638837}. Best is trial 72 with value: 0.730458969765523.\u001b[0m\n",
      "2021-11-15 17:47:17,984 postprocessor.py     58   [INFO] [__call__] start postprocessing \n"
     ]
    },
    {
     "data": {
      "application/vnd.jupyter.widget-view+json": {
       "model_id": "50e549bb482e42df97e282a587ef4f5f",
       "version_major": 2,
       "version_minor": 0
      },
      "text/plain": [
       "  0%|          | 0/1114 [00:00<?, ?it/s]"
      ]
     },
     "metadata": {},
     "output_type": "display_data"
    },
    {
     "name": "stderr",
     "output_type": "stream",
     "text": [
      "\u001b[32m[I 2021-11-15 17:47:24,504]\u001b[0m Trial 88 finished with value: 0.7239733324226145 and parameters: {'e048': 0.09560148508318671, 'e049': 0.4695949211667653, 'e051': 0.36064600640267186, 'e053': 0.5326008740200981, 'e054': 0.3267073309273365, 'e073': 0.10510026985094185, 'e074': 0.8216434103647638}. Best is trial 72 with value: 0.730458969765523.\u001b[0m\n",
      "2021-11-15 17:47:25,474 postprocessor.py     58   [INFO] [__call__] start postprocessing \n"
     ]
    },
    {
     "data": {
      "application/vnd.jupyter.widget-view+json": {
       "model_id": "9ba0b671324e47578bd99d277a8f0acb",
       "version_major": 2,
       "version_minor": 0
      },
      "text/plain": [
       "  0%|          | 0/1114 [00:00<?, ?it/s]"
      ]
     },
     "metadata": {},
     "output_type": "display_data"
    },
    {
     "name": "stderr",
     "output_type": "stream",
     "text": [
      "\u001b[32m[I 2021-11-15 17:47:31,881]\u001b[0m Trial 89 finished with value: 0.724309957198198 and parameters: {'e048': 0.1283467783403598, 'e049': 0.2290543148331432, 'e051': 0.524072150675859, 'e053': 0.4765848067158748, 'e054': 0.4360605284332398, 'e073': 0.16425483112698266, 'e074': 0.9755449201710334}. Best is trial 72 with value: 0.730458969765523.\u001b[0m\n",
      "2021-11-15 17:47:32,882 postprocessor.py     58   [INFO] [__call__] start postprocessing \n"
     ]
    },
    {
     "data": {
      "application/vnd.jupyter.widget-view+json": {
       "model_id": "e1d51c69955c42d6a4a3f3c63592d547",
       "version_major": 2,
       "version_minor": 0
      },
      "text/plain": [
       "  0%|          | 0/1114 [00:00<?, ?it/s]"
      ]
     },
     "metadata": {},
     "output_type": "display_data"
    },
    {
     "name": "stderr",
     "output_type": "stream",
     "text": [
      "\u001b[32m[I 2021-11-15 17:47:39,280]\u001b[0m Trial 90 finished with value: 0.7208090595321298 and parameters: {'e048': 0.16914735005807313, 'e049': 0.024810094400938607, 'e051': 0.5493215336385142, 'e053': 0.4519824243542042, 'e054': 0.2519114626607452, 'e073': 0.03142636834132191, 'e074': 0.45071292546676306}. Best is trial 72 with value: 0.730458969765523.\u001b[0m\n",
      "2021-11-15 17:47:40,253 postprocessor.py     58   [INFO] [__call__] start postprocessing \n"
     ]
    },
    {
     "data": {
      "application/vnd.jupyter.widget-view+json": {
       "model_id": "8166396350f34797b9740e9ccf34020b",
       "version_major": 2,
       "version_minor": 0
      },
      "text/plain": [
       "  0%|          | 0/1114 [00:00<?, ?it/s]"
      ]
     },
     "metadata": {},
     "output_type": "display_data"
    },
    {
     "name": "stderr",
     "output_type": "stream",
     "text": [
      "\u001b[32m[I 2021-11-15 17:47:46,772]\u001b[0m Trial 91 finished with value: 0.724364814569034 and parameters: {'e048': 0.253369486399645, 'e049': 0.10950481449226586, 'e051': 0.7822755148823883, 'e053': 0.5558554675199626, 'e054': 0.06559882024508853, 'e073': 0.07968489412682209, 'e074': 0.6813521627172674}. Best is trial 72 with value: 0.730458969765523.\u001b[0m\n",
      "2021-11-15 17:47:47,745 postprocessor.py     58   [INFO] [__call__] start postprocessing \n"
     ]
    },
    {
     "data": {
      "application/vnd.jupyter.widget-view+json": {
       "model_id": "ee1f536f6a4b43858e0e02b5dd9b94da",
       "version_major": 2,
       "version_minor": 0
      },
      "text/plain": [
       "  0%|          | 0/1114 [00:00<?, ?it/s]"
      ]
     },
     "metadata": {},
     "output_type": "display_data"
    },
    {
     "name": "stderr",
     "output_type": "stream",
     "text": [
      "\u001b[32m[I 2021-11-15 17:47:54,278]\u001b[0m Trial 92 finished with value: 0.7296660314052597 and parameters: {'e048': 0.22825932417779615, 'e049': 0.1590886339507876, 'e051': 0.4717789275915795, 'e053': 0.582810785558485, 'e054': 0.1320170036507411, 'e073': 0.0782551753667461, 'e074': 0.772698855580052}. Best is trial 72 with value: 0.730458969765523.\u001b[0m\n",
      "2021-11-15 17:47:55,283 postprocessor.py     58   [INFO] [__call__] start postprocessing \n"
     ]
    },
    {
     "data": {
      "application/vnd.jupyter.widget-view+json": {
       "model_id": "fd5c929390b5455faf4e69889c110559",
       "version_major": 2,
       "version_minor": 0
      },
      "text/plain": [
       "  0%|          | 0/1114 [00:00<?, ?it/s]"
      ]
     },
     "metadata": {},
     "output_type": "display_data"
    },
    {
     "name": "stderr",
     "output_type": "stream",
     "text": [
      "\u001b[32m[I 2021-11-15 17:48:01,651]\u001b[0m Trial 93 finished with value: 0.7294715370904781 and parameters: {'e048': 0.22457697219286554, 'e049': 0.15493363408439176, 'e051': 0.4677781216253634, 'e053': 0.595205455773482, 'e054': 0.20556809528918277, 'e073': 0.1272770956498196, 'e074': 0.8892447904475707}. Best is trial 72 with value: 0.730458969765523.\u001b[0m\n",
      "2021-11-15 17:48:02,649 postprocessor.py     58   [INFO] [__call__] start postprocessing \n"
     ]
    },
    {
     "data": {
      "application/vnd.jupyter.widget-view+json": {
       "model_id": "e7214b19ef194da686ba4e4a331fa91a",
       "version_major": 2,
       "version_minor": 0
      },
      "text/plain": [
       "  0%|          | 0/1114 [00:00<?, ?it/s]"
      ]
     },
     "metadata": {},
     "output_type": "display_data"
    },
    {
     "name": "stderr",
     "output_type": "stream",
     "text": [
      "\u001b[32m[I 2021-11-15 17:48:09,065]\u001b[0m Trial 94 finished with value: 0.728723482033626 and parameters: {'e048': 0.32604669589316454, 'e049': 0.15582366720299728, 'e051': 0.46655888702779424, 'e053': 0.5106902087163873, 'e054': 0.21094647781007397, 'e073': 0.13144363545751758, 'e074': 0.8854118474734777}. Best is trial 72 with value: 0.730458969765523.\u001b[0m\n",
      "2021-11-15 17:48:10,038 postprocessor.py     58   [INFO] [__call__] start postprocessing \n"
     ]
    },
    {
     "data": {
      "application/vnd.jupyter.widget-view+json": {
       "model_id": "7114315b53c14f7f8a42e8189895683d",
       "version_major": 2,
       "version_minor": 0
      },
      "text/plain": [
       "  0%|          | 0/1114 [00:00<?, ?it/s]"
      ]
     },
     "metadata": {},
     "output_type": "display_data"
    },
    {
     "name": "stderr",
     "output_type": "stream",
     "text": [
      "\u001b[32m[I 2021-11-15 17:48:16,532]\u001b[0m Trial 95 finished with value: 0.7288758132452031 and parameters: {'e048': 0.22552926638298987, 'e049': 0.04694415887950185, 'e051': 0.3164581061652657, 'e053': 0.5861945752901153, 'e054': 0.1770778627866794, 'e073': 0.09215295031439852, 'e074': 0.9203923234765385}. Best is trial 72 with value: 0.730458969765523.\u001b[0m\n",
      "2021-11-15 17:48:17,517 postprocessor.py     58   [INFO] [__call__] start postprocessing \n"
     ]
    },
    {
     "data": {
      "application/vnd.jupyter.widget-view+json": {
       "model_id": "271edb5e669e4067a32e82eeacda604a",
       "version_major": 2,
       "version_minor": 0
      },
      "text/plain": [
       "  0%|          | 0/1114 [00:00<?, ?it/s]"
      ]
     },
     "metadata": {},
     "output_type": "display_data"
    },
    {
     "name": "stderr",
     "output_type": "stream",
     "text": [
      "\u001b[32m[I 2021-11-15 17:48:23,950]\u001b[0m Trial 96 finished with value: 0.7266615702769208 and parameters: {'e048': 0.3094341592435501, 'e049': 0.08678961103014825, 'e051': 0.39555426599467347, 'e053': 0.4223735972314697, 'e054': 0.13243811720854728, 'e073': 0.06997444223101942, 'e074': 0.8537159924264649}. Best is trial 72 with value: 0.730458969765523.\u001b[0m\n",
      "2021-11-15 17:48:24,939 postprocessor.py     58   [INFO] [__call__] start postprocessing \n"
     ]
    },
    {
     "data": {
      "application/vnd.jupyter.widget-view+json": {
       "model_id": "757e9a6c71c347419ecea05f0cfe7308",
       "version_major": 2,
       "version_minor": 0
      },
      "text/plain": [
       "  0%|          | 0/1114 [00:00<?, ?it/s]"
      ]
     },
     "metadata": {},
     "output_type": "display_data"
    },
    {
     "name": "stderr",
     "output_type": "stream",
     "text": [
      "\u001b[32m[I 2021-11-15 17:48:31,440]\u001b[0m Trial 97 finished with value: 0.7291872761688744 and parameters: {'e048': 0.11257638387219801, 'e049': 0.12082065582184219, 'e051': 0.4372356987566384, 'e053': 0.5435511024894096, 'e054': 0.3067379128046348, 'e073': 0.14776191672678207, 'e074': 0.8929333043228167}. Best is trial 72 with value: 0.730458969765523.\u001b[0m\n",
      "2021-11-15 17:48:32,431 postprocessor.py     58   [INFO] [__call__] start postprocessing \n"
     ]
    },
    {
     "data": {
      "application/vnd.jupyter.widget-view+json": {
       "model_id": "70862ce1cd99426892d5b5c4a0e7bd25",
       "version_major": 2,
       "version_minor": 0
      },
      "text/plain": [
       "  0%|          | 0/1114 [00:00<?, ?it/s]"
      ]
     },
     "metadata": {},
     "output_type": "display_data"
    },
    {
     "name": "stderr",
     "output_type": "stream",
     "text": [
      "\u001b[32m[I 2021-11-15 17:48:38,838]\u001b[0m Trial 98 finished with value: 0.7257312618062172 and parameters: {'e048': 0.03178607623644386, 'e049': 0.20586454488299963, 'e051': 0.4797305358087542, 'e053': 0.4851763433327164, 'e054': 0.30658895234605343, 'e073': 0.14474419287045762, 'e074': 0.7968552845646355}. Best is trial 72 with value: 0.730458969765523.\u001b[0m\n",
      "2021-11-15 17:48:39,824 postprocessor.py     58   [INFO] [__call__] start postprocessing \n"
     ]
    },
    {
     "data": {
      "application/vnd.jupyter.widget-view+json": {
       "model_id": "7127406fdd6345079b5d5a16985a3fba",
       "version_major": 2,
       "version_minor": 0
      },
      "text/plain": [
       "  0%|          | 0/1114 [00:00<?, ?it/s]"
      ]
     },
     "metadata": {},
     "output_type": "display_data"
    },
    {
     "name": "stderr",
     "output_type": "stream",
     "text": [
      "\u001b[32m[I 2021-11-15 17:48:46,242]\u001b[0m Trial 99 finished with value: 0.7320026833828452 and parameters: {'e048': 0.11564797851833304, 'e049': 0.12944013885571104, 'e051': 0.44727985926495023, 'e053': 0.5508725369566504, 'e054': 0.046024691261880746, 'e073': 0.1761450136227768, 'e074': 0.89243590478673}. Best is trial 99 with value: 0.7320026833828452.\u001b[0m\n"
     ]
    }
   ],
   "source": [
    "import optuna\n",
    "study = optuna.create_study(direction='maximize')\n",
    "study.optimize(objective, n_trials=100)"
   ]
  },
  {
   "cell_type": "code",
   "execution_count": 11,
   "id": "9f7dcd4b",
   "metadata": {},
   "outputs": [
    {
     "name": "stdout",
     "output_type": "stream",
     "text": [
      "0.7320026833828452 {'e048': 0.11564797851833304, 'e049': 0.12944013885571104, 'e051': 0.44727985926495023, 'e053': 0.5508725369566504, 'e054': 0.046024691261880746, 'e073': 0.1761450136227768, 'e074': 0.89243590478673}\n"
     ]
    }
   ],
   "source": [
    "d=study.best_params \n",
    "v=study.best_value\n",
    "print(v, d)"
   ]
  }
 ],
 "metadata": {
  "kernelspec": {
   "display_name": "Python 3 (ipykernel)",
   "language": "python",
   "name": "python3"
  },
  "language_info": {
   "codemirror_mode": {
    "name": "ipython",
    "version": 3
   },
   "file_extension": ".py",
   "mimetype": "text/x-python",
   "name": "python",
   "nbconvert_exporter": "python",
   "pygments_lexer": "ipython3",
   "version": "3.7.10"
  }
 },
 "nbformat": 4,
 "nbformat_minor": 5
}
