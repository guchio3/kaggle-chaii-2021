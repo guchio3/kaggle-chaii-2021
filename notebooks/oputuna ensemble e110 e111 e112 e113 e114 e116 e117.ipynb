{
 "cells": [
  {
   "cell_type": "code",
   "execution_count": 1,
   "id": "4d825f0e",
   "metadata": {
    "scrolled": false
   },
   "outputs": [
    {
     "data": {
      "text/html": [
       "<style>.container { width:90% !important; }</style>"
      ],
      "text/plain": [
       "<IPython.core.display.HTML object>"
      ]
     },
     "metadata": {},
     "output_type": "display_data"
    }
   ],
   "source": [
    "import sys\n",
    "import pandas as pd\n",
    "import json\n",
    "import numpy as np\n",
    "import torch\n",
    "from torch import Tensor\n",
    "import pickle\n",
    "from tqdm.auto import tqdm\n",
    "\n",
    "from matplotlib import pyplot as plt\n",
    "\n",
    "sys.path.append(\"../\")\n",
    "from src.log import myLogger\n",
    "from src.repository.data_repository import DataRepository\n",
    "from src.checkpoint.checkpoint import Checkpoint\n",
    "from src.metrics.jaccard import jaccard, calc_jaccard_mean\n",
    "\n",
    "pd.set_option(\"display.max_columns\", 300)\n",
    "pd.set_option(\"display.max_rows\", 600)\n",
    "\n",
    "%load_ext autoreload\n",
    "%autoreload 2\n",
    "\n",
    "from IPython.core.display import display, HTML\n",
    "display(HTML(\"<style>.container { width:90% !important; }</style>\"))\n",
    "%config InlineBackend.figure_formats = {'png', 'retina'}"
   ]
  },
  {
   "cell_type": "code",
   "execution_count": 2,
   "id": "f0a8b773",
   "metadata": {},
   "outputs": [
    {
     "name": "stderr",
     "output_type": "stream",
     "text": [
      "2021-11-15 17:20:29,069 log.py               31   [INFO] [__init__] skip wandb init \n"
     ]
    }
   ],
   "source": [
    "logger = myLogger(\"../logs/temp.log\", exp_id=\"e000\", wdb_prj_id=\"temp\", exp_config=None, use_wdb=False) \n",
    "dr = DataRepository(logger=logger, local_root_path=\"..\")"
   ]
  },
  {
   "cell_type": "code",
   "execution_count": null,
   "id": "64165f5e",
   "metadata": {},
   "outputs": [],
   "source": []
  },
  {
   "cell_type": "markdown",
   "id": "4b00d42d",
   "metadata": {},
   "source": [
    "## optuna ensemble"
   ]
  },
  {
   "cell_type": "code",
   "execution_count": 3,
   "id": "18cc15e5",
   "metadata": {},
   "outputs": [],
   "source": [
    "import pickle\n",
    "\n",
    "with open(\"../data/dataset/optuna_ens/prep_dfs.pkl\", \"rb\") as fin:\n",
    "    prep_dfs = pickle.load(fin)"
   ]
  },
  {
   "cell_type": "code",
   "execution_count": 4,
   "id": "6dfdd2d8",
   "metadata": {},
   "outputs": [],
   "source": [
    "for k in prep_dfs:\n",
    "    prep_dfs[k] = prep_dfs[k][prep_dfs[k].start_logits.notnull()]"
   ]
  },
  {
   "cell_type": "code",
   "execution_count": 5,
   "id": "3da2f000",
   "metadata": {},
   "outputs": [],
   "source": [
    "optuna_exp_ids = [\"e048\", \"e049\", \"e051\", \"e053\", \"e054\", \"e073\", \"e074\"]"
   ]
  },
  {
   "cell_type": "code",
   "execution_count": 6,
   "id": "f4335357",
   "metadata": {},
   "outputs": [],
   "source": [
    "from src.postprocessor.factory import PostprocessorFactory\n",
    "\n",
    "postprocessor = PostprocessorFactory(\n",
    "    **{\n",
    "        \"postprocessor_type\": \"baseline_kernel\",\n",
    "        \"n_best_size\": 50,\n",
    "        \"max_answer_length\": 30,\n",
    "        \"use_chars_length\": False,\n",
    "        \"text_postprocess\": \"mypospro_ver1\",\n",
    "        \"use_multiprocess\": True,\n",
    "    },\n",
    "    logger=logger\n",
    ").create()"
   ]
  },
  {
   "cell_type": "code",
   "execution_count": 7,
   "id": "37f6edd5",
   "metadata": {},
   "outputs": [],
   "source": [
    "def objective(trial):\n",
    "    samples = [1./len(optuna_exp_ids)]*len(optuna_exp_ids)\n",
    "    for i in range(len(optuna_exp_ids)):\n",
    "        samples[i] = trial.suggest_uniform(optuna_exp_ids[i], 0, 1)\n",
    "    \n",
    "    w = [samples[i]/sum(samples) for i in range(len(samples))]\n",
    "    \n",
    "    ids = prep_dfs[optuna_exp_ids[0]][\"id\"]\n",
    "    contexts = prep_dfs[optuna_exp_ids[0]][\"context\"]\n",
    "    answer_texts = prep_dfs[optuna_exp_ids[0]][\"answer_text\"]\n",
    "    offset_mappings = prep_dfs[optuna_exp_ids[0]][\"offset_mapping\"]\n",
    "    \n",
    "    start_logits = w[0] * prep_dfs[optuna_exp_ids[0]][\"start_logits\"]\n",
    "    end_logits = w[0] * prep_dfs[optuna_exp_ids[0]][\"end_logits\"]\n",
    "    for i in range(1, len(optuna_exp_ids)):\n",
    "        start_logits += w[i] * prep_dfs[optuna_exp_ids[i]][\"start_logits\"]\n",
    "        end_logits += w[i] * prep_dfs[optuna_exp_ids[i]][\"end_logits\"]\n",
    "\n",
    "    pospro_ids, pospro_answer_texts, pospro_answer_preds = postprocessor(\n",
    "        ids=ids,\n",
    "        contexts=contexts,\n",
    "        answer_texts=answer_texts,\n",
    "        offset_mappings=offset_mappings,\n",
    "        start_logits=start_logits,\n",
    "        end_logits=end_logits,\n",
    "    )\n",
    "    val_jaccard = calc_jaccard_mean(\n",
    "        text_trues=pospro_answer_texts, text_preds=pospro_answer_preds\n",
    "    )\n",
    "    return val_jaccard"
   ]
  },
  {
   "cell_type": "code",
   "execution_count": null,
   "id": "31535008",
   "metadata": {
    "scrolled": false
   },
   "outputs": [
    {
     "name": "stderr",
     "output_type": "stream",
     "text": [
      "\u001b[32m[I 2021-11-15 17:20:59,744]\u001b[0m A new study created in memory with name: no-name-2cf9ba04-12f2-4ff6-be6a-5798ddfe075c\u001b[0m\n",
      "2021-11-15 17:21:00,792 postprocessor.py     58   [INFO] [__call__] start postprocessing \n"
     ]
    },
    {
     "data": {
      "application/vnd.jupyter.widget-view+json": {
       "model_id": "a07ea7216c694cd39fe9d08e2abfe258",
       "version_major": 2,
       "version_minor": 0
      },
      "text/plain": [
       "  0%|          | 0/1114 [00:00<?, ?it/s]"
      ]
     },
     "metadata": {},
     "output_type": "display_data"
    },
    {
     "name": "stderr",
     "output_type": "stream",
     "text": [
      "\u001b[32m[I 2021-11-15 17:21:07,638]\u001b[0m Trial 0 finished with value: 0.7177803756686166 and parameters: {'e048': 0.938660232344256, 'e049': 0.2704948954722023, 'e051': 0.014850868289734143, 'e053': 0.1905745051280272, 'e054': 0.05489197235059218, 'e073': 0.4333540782964327, 'e074': 0.9235486602538849}. Best is trial 0 with value: 0.7177803756686166.\u001b[0m\n",
      "2021-11-15 17:21:08,626 postprocessor.py     58   [INFO] [__call__] start postprocessing \n"
     ]
    },
    {
     "data": {
      "application/vnd.jupyter.widget-view+json": {
       "model_id": "ce6ff13c9a3341d0b9d8467198f068d5",
       "version_major": 2,
       "version_minor": 0
      },
      "text/plain": [
       "  0%|          | 0/1114 [00:00<?, ?it/s]"
      ]
     },
     "metadata": {},
     "output_type": "display_data"
    },
    {
     "name": "stderr",
     "output_type": "stream",
     "text": [
      "\u001b[32m[I 2021-11-15 17:21:15,593]\u001b[0m Trial 1 finished with value: 0.716782029809409 and parameters: {'e048': 0.49024049506639855, 'e049': 0.554188711431312, 'e051': 0.46751614538933695, 'e053': 0.4634478330621994, 'e054': 0.6628962939206945, 'e073': 0.2904774779832594, 'e074': 0.1952091936191912}. Best is trial 0 with value: 0.7177803756686166.\u001b[0m\n",
      "2021-11-15 17:21:16,597 postprocessor.py     58   [INFO] [__call__] start postprocessing \n"
     ]
    },
    {
     "data": {
      "application/vnd.jupyter.widget-view+json": {
       "model_id": "3115822789894e2eada466f4b7c46f73",
       "version_major": 2,
       "version_minor": 0
      },
      "text/plain": [
       "  0%|          | 0/1114 [00:00<?, ?it/s]"
      ]
     },
     "metadata": {},
     "output_type": "display_data"
    },
    {
     "name": "stderr",
     "output_type": "stream",
     "text": [
      "\u001b[32m[I 2021-11-15 17:21:23,586]\u001b[0m Trial 2 finished with value: 0.718670728817656 and parameters: {'e048': 0.19654018177398846, 'e049': 0.9965577329445877, 'e051': 0.0045414701140020775, 'e053': 0.023294975797878648, 'e054': 0.37524842073619036, 'e073': 0.46405893714260216, 'e074': 0.7170521468523369}. Best is trial 2 with value: 0.718670728817656.\u001b[0m\n",
      "2021-11-15 17:21:24,528 postprocessor.py     58   [INFO] [__call__] start postprocessing \n"
     ]
    },
    {
     "data": {
      "application/vnd.jupyter.widget-view+json": {
       "model_id": "1e0e0eb2339547b4b865d9d01d22d634",
       "version_major": 2,
       "version_minor": 0
      },
      "text/plain": [
       "  0%|          | 0/1114 [00:00<?, ?it/s]"
      ]
     },
     "metadata": {},
     "output_type": "display_data"
    },
    {
     "name": "stderr",
     "output_type": "stream",
     "text": [
      "\u001b[32m[I 2021-11-15 17:21:31,385]\u001b[0m Trial 3 finished with value: 0.7130716767274223 and parameters: {'e048': 0.6166763313824691, 'e049': 0.592347474791439, 'e051': 0.30593832453961567, 'e053': 0.2919039825400338, 'e054': 0.4626231471149467, 'e073': 0.30961444879692424, 'e074': 0.16454297701982645}. Best is trial 2 with value: 0.718670728817656.\u001b[0m\n",
      "2021-11-15 17:21:32,337 postprocessor.py     58   [INFO] [__call__] start postprocessing \n"
     ]
    },
    {
     "data": {
      "application/vnd.jupyter.widget-view+json": {
       "model_id": "a538fecbe05d4144be71c07fbaa00c3d",
       "version_major": 2,
       "version_minor": 0
      },
      "text/plain": [
       "  0%|          | 0/1114 [00:00<?, ?it/s]"
      ]
     },
     "metadata": {},
     "output_type": "display_data"
    },
    {
     "name": "stderr",
     "output_type": "stream",
     "text": [
      "\u001b[32m[I 2021-11-15 17:21:39,013]\u001b[0m Trial 4 finished with value: 0.7168568353150941 and parameters: {'e048': 0.701148826578106, 'e049': 0.5418278726157677, 'e051': 0.7272003397351298, 'e053': 0.5846343648685585, 'e054': 0.9944672505744772, 'e073': 0.28271816472270817, 'e074': 0.19796482082432376}. Best is trial 2 with value: 0.718670728817656.\u001b[0m\n",
      "2021-11-15 17:21:40,037 postprocessor.py     58   [INFO] [__call__] start postprocessing \n"
     ]
    },
    {
     "data": {
      "application/vnd.jupyter.widget-view+json": {
       "model_id": "25fea34352f14460b373b4cb7a2c2b1e",
       "version_major": 2,
       "version_minor": 0
      },
      "text/plain": [
       "  0%|          | 0/1114 [00:00<?, ?it/s]"
      ]
     },
     "metadata": {},
     "output_type": "display_data"
    },
    {
     "name": "stderr",
     "output_type": "stream",
     "text": [
      "\u001b[32m[I 2021-11-15 17:21:46,673]\u001b[0m Trial 5 finished with value: 0.7180945587924946 and parameters: {'e048': 0.9477314210653061, 'e049': 0.413169297462467, 'e051': 0.09462161674673875, 'e053': 0.24581604905270193, 'e054': 0.0720683524630813, 'e073': 0.8480725354992847, 'e074': 0.451613824609277}. Best is trial 2 with value: 0.718670728817656.\u001b[0m\n",
      "2021-11-15 17:21:47,623 postprocessor.py     58   [INFO] [__call__] start postprocessing \n"
     ]
    },
    {
     "data": {
      "application/vnd.jupyter.widget-view+json": {
       "model_id": "01c52816d0704341927bfd09aa09ea32",
       "version_major": 2,
       "version_minor": 0
      },
      "text/plain": [
       "  0%|          | 0/1114 [00:00<?, ?it/s]"
      ]
     },
     "metadata": {},
     "output_type": "display_data"
    },
    {
     "name": "stderr",
     "output_type": "stream",
     "text": [
      "\u001b[32m[I 2021-11-15 17:21:54,227]\u001b[0m Trial 6 finished with value: 0.7206676415047156 and parameters: {'e048': 0.8071977268360688, 'e049': 0.9356109272444161, 'e051': 0.8856626417255018, 'e053': 0.4479833373809544, 'e054': 0.42939185770355937, 'e073': 0.932927054867931, 'e074': 0.7161692222148102}. Best is trial 6 with value: 0.7206676415047156.\u001b[0m\n",
      "2021-11-15 17:21:55,191 postprocessor.py     58   [INFO] [__call__] start postprocessing \n"
     ]
    },
    {
     "data": {
      "application/vnd.jupyter.widget-view+json": {
       "model_id": "f49ae41d472242188f709b115abed6c9",
       "version_major": 2,
       "version_minor": 0
      },
      "text/plain": [
       "  0%|          | 0/1114 [00:00<?, ?it/s]"
      ]
     },
     "metadata": {},
     "output_type": "display_data"
    },
    {
     "name": "stderr",
     "output_type": "stream",
     "text": [
      "\u001b[32m[I 2021-11-15 17:22:01,779]\u001b[0m Trial 7 finished with value: 0.7210534241840351 and parameters: {'e048': 0.44387237167977633, 'e049': 0.5236932984509779, 'e051': 0.11721153930383565, 'e053': 0.8995738970882803, 'e054': 0.7021559500528963, 'e073': 0.7293319145219651, 'e074': 0.5372643466960246}. Best is trial 7 with value: 0.7210534241840351.\u001b[0m\n",
      "2021-11-15 17:22:02,760 postprocessor.py     58   [INFO] [__call__] start postprocessing \n"
     ]
    },
    {
     "data": {
      "application/vnd.jupyter.widget-view+json": {
       "model_id": "347685b7e18f4ee2998582eb997af222",
       "version_major": 2,
       "version_minor": 0
      },
      "text/plain": [
       "  0%|          | 0/1114 [00:00<?, ?it/s]"
      ]
     },
     "metadata": {},
     "output_type": "display_data"
    },
    {
     "name": "stderr",
     "output_type": "stream",
     "text": [
      "\u001b[32m[I 2021-11-15 17:22:09,486]\u001b[0m Trial 8 finished with value: 0.720617771167592 and parameters: {'e048': 0.7214199147143803, 'e049': 0.30103907732228974, 'e051': 0.841239298945867, 'e053': 0.25548346363990404, 'e054': 0.02218756537133626, 'e073': 0.3399346753655873, 'e074': 0.8196855917360869}. Best is trial 7 with value: 0.7210534241840351.\u001b[0m\n",
      "2021-11-15 17:22:10,459 postprocessor.py     58   [INFO] [__call__] start postprocessing \n"
     ]
    },
    {
     "data": {
      "application/vnd.jupyter.widget-view+json": {
       "model_id": "8bf88743d7374ac681590e94b3482e3b",
       "version_major": 2,
       "version_minor": 0
      },
      "text/plain": [
       "  0%|          | 0/1114 [00:00<?, ?it/s]"
      ]
     },
     "metadata": {},
     "output_type": "display_data"
    },
    {
     "name": "stderr",
     "output_type": "stream",
     "text": [
      "\u001b[32m[I 2021-11-15 17:22:17,452]\u001b[0m Trial 9 finished with value: 0.7214979826178215 and parameters: {'e048': 0.6492772302490234, 'e049': 0.45414812549600236, 'e051': 0.6752364370524445, 'e053': 0.7669118122873401, 'e054': 0.2929070014704732, 'e073': 0.6594556525863636, 'e074': 0.6458624519716298}. Best is trial 9 with value: 0.7214979826178215.\u001b[0m\n",
      "2021-11-15 17:22:18,433 postprocessor.py     58   [INFO] [__call__] start postprocessing \n"
     ]
    },
    {
     "data": {
      "application/vnd.jupyter.widget-view+json": {
       "model_id": "d37212cd08e74caba25c2e1b1c524c99",
       "version_major": 2,
       "version_minor": 0
      },
      "text/plain": [
       "  0%|          | 0/1114 [00:00<?, ?it/s]"
      ]
     },
     "metadata": {},
     "output_type": "display_data"
    },
    {
     "name": "stderr",
     "output_type": "stream",
     "text": [
      "\u001b[32m[I 2021-11-15 17:22:25,429]\u001b[0m Trial 10 finished with value: 0.7196271325423035 and parameters: {'e048': 0.2519848406040563, 'e049': 0.0015222994868667739, 'e051': 0.5805963529896571, 'e053': 0.9942370778373405, 'e054': 0.28191381164597723, 'e073': 0.014827299349084222, 'e074': 0.5100350105725386}. Best is trial 9 with value: 0.7214979826178215.\u001b[0m\n",
      "2021-11-15 17:22:26,416 postprocessor.py     58   [INFO] [__call__] start postprocessing \n"
     ]
    },
    {
     "data": {
      "application/vnd.jupyter.widget-view+json": {
       "model_id": "e4c3dde0811b4f10a395898057ff456e",
       "version_major": 2,
       "version_minor": 0
      },
      "text/plain": [
       "  0%|          | 0/1114 [00:00<?, ?it/s]"
      ]
     },
     "metadata": {},
     "output_type": "display_data"
    },
    {
     "name": "stderr",
     "output_type": "stream",
     "text": [
      "\u001b[32m[I 2021-11-15 17:22:33,207]\u001b[0m Trial 11 finished with value: 0.7186097776649846 and parameters: {'e048': 0.423266843398994, 'e049': 0.7437130716941707, 'e051': 0.3132726023513293, 'e053': 0.8641893391986023, 'e054': 0.7733671492490468, 'e073': 0.6852388279020565, 'e074': 0.5164936536845487}. Best is trial 9 with value: 0.7214979826178215.\u001b[0m\n",
      "2021-11-15 17:22:34,190 postprocessor.py     58   [INFO] [__call__] start postprocessing \n"
     ]
    },
    {
     "data": {
      "application/vnd.jupyter.widget-view+json": {
       "model_id": "60418b05de724a8db4687885add54009",
       "version_major": 2,
       "version_minor": 0
      },
      "text/plain": [
       "  0%|          | 0/1114 [00:00<?, ?it/s]"
      ]
     },
     "metadata": {},
     "output_type": "display_data"
    },
    {
     "name": "stderr",
     "output_type": "stream",
     "text": [
      "\u001b[32m[I 2021-11-15 17:22:40,665]\u001b[0m Trial 12 finished with value: 0.717754501383317 and parameters: {'e048': 0.36481593719171024, 'e049': 0.7367049001734411, 'e051': 0.6248322911056683, 'e053': 0.7051332481414034, 'e054': 0.6592439185925785, 'e073': 0.6812365978876014, 'e074': 0.3803612639295755}. Best is trial 9 with value: 0.7214979826178215.\u001b[0m\n",
      "2021-11-15 17:22:41,648 postprocessor.py     58   [INFO] [__call__] start postprocessing \n"
     ]
    },
    {
     "data": {
      "application/vnd.jupyter.widget-view+json": {
       "model_id": "2cc02054b2bd4421bf8d735b0f258e04",
       "version_major": 2,
       "version_minor": 0
      },
      "text/plain": [
       "  0%|          | 0/1114 [00:00<?, ?it/s]"
      ]
     },
     "metadata": {},
     "output_type": "display_data"
    },
    {
     "name": "stderr",
     "output_type": "stream",
     "text": [
      "\u001b[32m[I 2021-11-15 17:22:48,343]\u001b[0m Trial 13 finished with value: 0.7266210911071777 and parameters: {'e048': 0.09880570830898816, 'e049': 0.16435108752755123, 'e051': 0.3751516980560929, 'e053': 0.7817485167060277, 'e054': 0.2787520574360738, 'e073': 0.6834368162369896, 'e074': 0.6757902929799293}. Best is trial 13 with value: 0.7266210911071777.\u001b[0m\n",
      "2021-11-15 17:22:49,348 postprocessor.py     58   [INFO] [__call__] start postprocessing \n"
     ]
    },
    {
     "data": {
      "application/vnd.jupyter.widget-view+json": {
       "model_id": "bf1cb9ee1b9748f3b4f7e7d12215095a",
       "version_major": 2,
       "version_minor": 0
      },
      "text/plain": [
       "  0%|          | 0/1114 [00:00<?, ?it/s]"
      ]
     },
     "metadata": {},
     "output_type": "display_data"
    },
    {
     "name": "stderr",
     "output_type": "stream",
     "text": [
      "\u001b[32m[I 2021-11-15 17:22:55,924]\u001b[0m Trial 14 finished with value: 0.7239280929025098 and parameters: {'e048': 0.0052768819670341305, 'e049': 0.06180397107974808, 'e051': 0.4157258201500001, 'e053': 0.7294760022113511, 'e054': 0.24688824099336326, 'e073': 0.5883092281428, 'e074': 0.6919486084836569}. Best is trial 13 with value: 0.7266210911071777.\u001b[0m\n",
      "2021-11-15 17:22:56,914 postprocessor.py     58   [INFO] [__call__] start postprocessing \n"
     ]
    },
    {
     "data": {
      "application/vnd.jupyter.widget-view+json": {
       "model_id": "8e74891f155546b99a2b119e0438d0d8",
       "version_major": 2,
       "version_minor": 0
      },
      "text/plain": [
       "  0%|          | 0/1114 [00:00<?, ?it/s]"
      ]
     },
     "metadata": {},
     "output_type": "display_data"
    },
    {
     "name": "stderr",
     "output_type": "stream",
     "text": [
      "\u001b[32m[I 2021-11-15 17:23:03,465]\u001b[0m Trial 15 finished with value: 0.7265589798691237 and parameters: {'e048': 0.011318873379041694, 'e049': 0.06598051192141645, 'e051': 0.3987669966514853, 'e053': 0.6258025983714742, 'e054': 0.19405872788760548, 'e073': 0.5642724235077301, 'e074': 0.9545772294203838}. Best is trial 13 with value: 0.7266210911071777.\u001b[0m\n",
      "2021-11-15 17:23:04,451 postprocessor.py     58   [INFO] [__call__] start postprocessing \n"
     ]
    },
    {
     "data": {
      "application/vnd.jupyter.widget-view+json": {
       "model_id": "f80d09b0abff4a94ac6cec68beb2f5e0",
       "version_major": 2,
       "version_minor": 0
      },
      "text/plain": [
       "  0%|          | 0/1114 [00:00<?, ?it/s]"
      ]
     },
     "metadata": {},
     "output_type": "display_data"
    },
    {
     "name": "stderr",
     "output_type": "stream",
     "text": [
      "\u001b[32m[I 2021-11-15 17:23:11,023]\u001b[0m Trial 16 finished with value: 0.723039014132979 and parameters: {'e048': 0.10803166889039972, 'e049': 0.16810668471784257, 'e051': 0.28180023668697096, 'e053': 0.5862118244778969, 'e054': 0.17272605429886403, 'e073': 0.8067042409594166, 'e074': 0.9584372382281319}. Best is trial 13 with value: 0.7266210911071777.\u001b[0m\n",
      "2021-11-15 17:23:12,004 postprocessor.py     58   [INFO] [__call__] start postprocessing \n"
     ]
    },
    {
     "data": {
      "application/vnd.jupyter.widget-view+json": {
       "model_id": "91d7276241424e63b467a49f73888877",
       "version_major": 2,
       "version_minor": 0
      },
      "text/plain": [
       "  0%|          | 0/1114 [00:00<?, ?it/s]"
      ]
     },
     "metadata": {},
     "output_type": "display_data"
    },
    {
     "name": "stderr",
     "output_type": "stream",
     "text": [
      "\u001b[32m[I 2021-11-15 17:23:18,890]\u001b[0m Trial 17 finished with value: 0.7237314993856078 and parameters: {'e048': 0.00592889351667079, 'e049': 0.15099789074789122, 'e051': 0.22398758615156855, 'e053': 0.6055440622859012, 'e054': 0.1942351499461389, 'e073': 0.5508129029659263, 'e074': 0.8472918683312137}. Best is trial 13 with value: 0.7266210911071777.\u001b[0m\n",
      "2021-11-15 17:23:19,870 postprocessor.py     58   [INFO] [__call__] start postprocessing \n"
     ]
    },
    {
     "data": {
      "application/vnd.jupyter.widget-view+json": {
       "model_id": "5a7121ff19f442c386ebee8dff7768e0",
       "version_major": 2,
       "version_minor": 0
      },
      "text/plain": [
       "  0%|          | 0/1114 [00:00<?, ?it/s]"
      ]
     },
     "metadata": {},
     "output_type": "display_data"
    },
    {
     "name": "stderr",
     "output_type": "stream",
     "text": [
      "\u001b[32m[I 2021-11-15 17:23:26,926]\u001b[0m Trial 18 finished with value: 0.7230233025004124 and parameters: {'e048': 0.29221200863375996, 'e049': 0.29683874760723944, 'e051': 0.4430438876600642, 'e053': 0.855081716932182, 'e054': 0.5669409560629173, 'e073': 0.13572780448445765, 'e074': 0.835606545322736}. Best is trial 13 with value: 0.7266210911071777.\u001b[0m\n",
      "2021-11-15 17:23:27,897 postprocessor.py     58   [INFO] [__call__] start postprocessing \n"
     ]
    },
    {
     "data": {
      "application/vnd.jupyter.widget-view+json": {
       "model_id": "85f68c2808e94bcb9ef38451196a346d",
       "version_major": 2,
       "version_minor": 0
      },
      "text/plain": [
       "  0%|          | 0/1114 [00:00<?, ?it/s]"
      ]
     },
     "metadata": {},
     "output_type": "display_data"
    },
    {
     "name": "stderr",
     "output_type": "stream",
     "text": [
      "\u001b[32m[I 2021-11-15 17:23:34,946]\u001b[0m Trial 19 finished with value: 0.7242820427627432 and parameters: {'e048': 0.14602879262115598, 'e049': 0.13512816902386754, 'e051': 0.511608488544657, 'e053': 0.3931041872129512, 'e054': 0.1511404640868027, 'e073': 0.9408926937318447, 'e074': 0.9967764607569538}. Best is trial 13 with value: 0.7266210911071777.\u001b[0m\n",
      "2021-11-15 17:23:35,918 postprocessor.py     58   [INFO] [__call__] start postprocessing \n"
     ]
    },
    {
     "data": {
      "application/vnd.jupyter.widget-view+json": {
       "model_id": "21a60c45cc1948148af5751d027230ff",
       "version_major": 2,
       "version_minor": 0
      },
      "text/plain": [
       "  0%|          | 0/1114 [00:00<?, ?it/s]"
      ]
     },
     "metadata": {},
     "output_type": "display_data"
    },
    {
     "name": "stderr",
     "output_type": "stream",
     "text": [
      "\u001b[32m[I 2021-11-15 17:23:42,705]\u001b[0m Trial 20 finished with value: 0.7227461659126834 and parameters: {'e048': 0.08948949540430196, 'e049': 0.22311122472985812, 'e051': 0.3886506969195634, 'e053': 0.6646072066876968, 'e054': 0.3635573374482666, 'e073': 0.8089471193469193, 'e074': 0.01929613608762243}. Best is trial 13 with value: 0.7266210911071777.\u001b[0m\n",
      "2021-11-15 17:23:43,680 postprocessor.py     58   [INFO] [__call__] start postprocessing \n"
     ]
    },
    {
     "data": {
      "application/vnd.jupyter.widget-view+json": {
       "model_id": "5e6b347f97de4fc78d87c6d6a164a621",
       "version_major": 2,
       "version_minor": 0
      },
      "text/plain": [
       "  0%|          | 0/1114 [00:00<?, ?it/s]"
      ]
     },
     "metadata": {},
     "output_type": "display_data"
    },
    {
     "name": "stderr",
     "output_type": "stream",
     "text": [
      "\u001b[32m[I 2021-11-15 17:23:50,095]\u001b[0m Trial 21 finished with value: 0.7227859326490389 and parameters: {'e048': 0.15121186381831467, 'e049': 0.09178757133886584, 'e051': 0.5339665656448652, 'e053': 0.38805794674361427, 'e054': 0.1493681140993218, 'e073': 0.9364128590226276, 'e074': 0.9954280514382577}. Best is trial 13 with value: 0.7266210911071777.\u001b[0m\n",
      "2021-11-15 17:23:51,082 postprocessor.py     58   [INFO] [__call__] start postprocessing \n"
     ]
    },
    {
     "data": {
      "application/vnd.jupyter.widget-view+json": {
       "model_id": "cfd976d5cc9146ceb467482f5188d3a2",
       "version_major": 2,
       "version_minor": 0
      },
      "text/plain": [
       "  0%|          | 0/1114 [00:00<?, ?it/s]"
      ]
     },
     "metadata": {},
     "output_type": "display_data"
    },
    {
     "name": "stderr",
     "output_type": "stream",
     "text": [
      "\u001b[32m[I 2021-11-15 17:23:57,579]\u001b[0m Trial 22 finished with value: 0.7208931266718523 and parameters: {'e048': 0.3035966445119306, 'e049': 0.005567834321218823, 'e051': 0.7748780082246702, 'e053': 0.36631430298084505, 'e054': 0.12261944184664887, 'e073': 0.9916729588330377, 'e074': 0.8878833771472313}. Best is trial 13 with value: 0.7266210911071777.\u001b[0m\n",
      "2021-11-15 17:23:58,552 postprocessor.py     58   [INFO] [__call__] start postprocessing \n"
     ]
    },
    {
     "data": {
      "application/vnd.jupyter.widget-view+json": {
       "model_id": "e1cc15e5bfa94fcb95d8d3d4e0d5ac9e",
       "version_major": 2,
       "version_minor": 0
      },
      "text/plain": [
       "  0%|          | 0/1114 [00:00<?, ?it/s]"
      ]
     },
     "metadata": {},
     "output_type": "display_data"
    },
    {
     "name": "stderr",
     "output_type": "stream",
     "text": [
      "\u001b[32m[I 2021-11-15 17:24:05,196]\u001b[0m Trial 23 finished with value: 0.7255834318783155 and parameters: {'e048': 0.0893347185893481, 'e049': 0.37363033582657645, 'e051': 0.9702081040230113, 'e053': 0.5227048917181689, 'e054': 0.32596084128845537, 'e073': 0.594147494648046, 'e074': 0.7708882049990997}. Best is trial 13 with value: 0.7266210911071777.\u001b[0m\n",
      "2021-11-15 17:24:06,181 postprocessor.py     58   [INFO] [__call__] start postprocessing \n"
     ]
    },
    {
     "data": {
      "application/vnd.jupyter.widget-view+json": {
       "model_id": "16f953226f1347aab6e654fbccf2425f",
       "version_major": 2,
       "version_minor": 0
      },
      "text/plain": [
       "  0%|          | 0/1114 [00:00<?, ?it/s]"
      ]
     },
     "metadata": {},
     "output_type": "display_data"
    },
    {
     "name": "stderr",
     "output_type": "stream",
     "text": [
      "\u001b[32m[I 2021-11-15 17:24:12,869]\u001b[0m Trial 24 finished with value: 0.7234140722134442 and parameters: {'e048': 0.08450449489671046, 'e049': 0.39304886537057426, 'e051': 0.9472338615110754, 'e053': 0.5219279600285497, 'e054': 0.5371419074815372, 'e073': 0.5849494915802674, 'e074': 0.6076640770649167}. Best is trial 13 with value: 0.7266210911071777.\u001b[0m\n",
      "2021-11-15 17:24:13,852 postprocessor.py     58   [INFO] [__call__] start postprocessing \n"
     ]
    },
    {
     "data": {
      "application/vnd.jupyter.widget-view+json": {
       "model_id": "7dbae4cabd0049408da2de1790a09f5b",
       "version_major": 2,
       "version_minor": 0
      },
      "text/plain": [
       "  0%|          | 0/1114 [00:00<?, ?it/s]"
      ]
     },
     "metadata": {},
     "output_type": "display_data"
    },
    {
     "name": "stderr",
     "output_type": "stream",
     "text": [
      "\u001b[32m[I 2021-11-15 17:24:20,435]\u001b[0m Trial 25 finished with value: 0.724871225174188 and parameters: {'e048': 0.22222226152148267, 'e049': 0.35661287014433973, 'e051': 0.19861031769736237, 'e053': 0.7689924747691803, 'e054': 0.32408308316734163, 'e073': 0.42354500017460145, 'e074': 0.785700847540296}. Best is trial 13 with value: 0.7266210911071777.\u001b[0m\n",
      "2021-11-15 17:24:21,418 postprocessor.py     58   [INFO] [__call__] start postprocessing \n"
     ]
    },
    {
     "data": {
      "application/vnd.jupyter.widget-view+json": {
       "model_id": "2d73a668ebed4883b292e4514c1380d7",
       "version_major": 2,
       "version_minor": 0
      },
      "text/plain": [
       "  0%|          | 0/1114 [00:00<?, ?it/s]"
      ]
     },
     "metadata": {},
     "output_type": "display_data"
    },
    {
     "name": "stderr",
     "output_type": "stream",
     "text": [
      "\u001b[32m[I 2021-11-15 17:24:28,381]\u001b[0m Trial 26 finished with value: 0.721820714942349 and parameters: {'e048': 0.01922911911149613, 'e049': 0.209765831928793, 'e051': 0.9690093641194955, 'e053': 0.5316966278280633, 'e054': 0.4085382104622412, 'e073': 0.5098285941633206, 'e074': 0.7691713249075446}. Best is trial 13 with value: 0.7266210911071777.\u001b[0m\n",
      "2021-11-15 17:24:29,377 postprocessor.py     58   [INFO] [__call__] start postprocessing \n"
     ]
    },
    {
     "data": {
      "application/vnd.jupyter.widget-view+json": {
       "model_id": "ad1dfb33e6694acea4a71fbd4d98b244",
       "version_major": 2,
       "version_minor": 0
      },
      "text/plain": [
       "  0%|          | 0/1114 [00:00<?, ?it/s]"
      ]
     },
     "metadata": {},
     "output_type": "display_data"
    },
    {
     "name": "stderr",
     "output_type": "stream",
     "text": [
      "\u001b[32m[I 2021-11-15 17:24:36,414]\u001b[0m Trial 27 finished with value: 0.7243341799333725 and parameters: {'e048': 0.3595315690706908, 'e049': 0.0811466151429687, 'e051': 0.35316960618350784, 'e053': 0.669501819433457, 'e054': 0.2735204086243408, 'e073': 0.6043978345328714, 'e074': 0.6019129591700444}. Best is trial 13 with value: 0.7266210911071777.\u001b[0m\n",
      "2021-11-15 17:24:37,403 postprocessor.py     58   [INFO] [__call__] start postprocessing \n"
     ]
    },
    {
     "data": {
      "application/vnd.jupyter.widget-view+json": {
       "model_id": "e1e4096d345d4853a4d37eba2595db5a",
       "version_major": 2,
       "version_minor": 0
      },
      "text/plain": [
       "  0%|          | 0/1114 [00:00<?, ?it/s]"
      ]
     },
     "metadata": {},
     "output_type": "display_data"
    },
    {
     "name": "stderr",
     "output_type": "stream",
     "text": [
      "\u001b[32m[I 2021-11-15 17:24:44,390]\u001b[0m Trial 28 finished with value: 0.7250950587911992 and parameters: {'e048': 0.07277979967937298, 'e049': 0.2256681628539902, 'e051': 0.5592880884804796, 'e053': 0.8224838564411605, 'e054': 0.2326625793258202, 'e073': 0.7503755940604558, 'e074': 0.889926491379318}. Best is trial 13 with value: 0.7266210911071777.\u001b[0m\n",
      "2021-11-15 17:24:45,384 postprocessor.py     58   [INFO] [__call__] start postprocessing \n"
     ]
    },
    {
     "data": {
      "application/vnd.jupyter.widget-view+json": {
       "model_id": "5e7d0b08f0f3498db4ea812278dd90b0",
       "version_major": 2,
       "version_minor": 0
      },
      "text/plain": [
       "  0%|          | 0/1114 [00:00<?, ?it/s]"
      ]
     },
     "metadata": {},
     "output_type": "display_data"
    },
    {
     "name": "stderr",
     "output_type": "stream",
     "text": [
      "\u001b[32m[I 2021-11-15 17:24:52,189]\u001b[0m Trial 29 finished with value: 0.7214758971828095 and parameters: {'e048': 0.17822857200276762, 'e049': 0.3175861381301227, 'e051': 0.22901763108870812, 'e053': 0.633615850234336, 'e054': 0.07643025310941298, 'e073': 0.39325615251992324, 'e074': 0.4148973362536979}. Best is trial 13 with value: 0.7266210911071777.\u001b[0m\n",
      "2021-11-15 17:24:53,188 postprocessor.py     58   [INFO] [__call__] start postprocessing \n"
     ]
    },
    {
     "data": {
      "application/vnd.jupyter.widget-view+json": {
       "model_id": "3482a0ed3221476493595d24db705e97",
       "version_major": 2,
       "version_minor": 0
      },
      "text/plain": [
       "  0%|          | 0/1114 [00:00<?, ?it/s]"
      ]
     },
     "metadata": {},
     "output_type": "display_data"
    },
    {
     "name": "stderr",
     "output_type": "stream",
     "text": [
      "\u001b[32m[I 2021-11-15 17:24:59,809]\u001b[0m Trial 30 finished with value: 0.7175824487202408 and parameters: {'e048': 0.837215834191089, 'e049': 0.6323631630659606, 'e051': 0.09389348824881755, 'e053': 0.9561313750064504, 'e054': 0.4773889442535856, 'e073': 0.49358445304067516, 'e074': 0.9204594800126936}. Best is trial 13 with value: 0.7266210911071777.\u001b[0m\n",
      "2021-11-15 17:25:00,819 postprocessor.py     58   [INFO] [__call__] start postprocessing \n"
     ]
    },
    {
     "data": {
      "application/vnd.jupyter.widget-view+json": {
       "model_id": "8a844144c71544f1904e3ca815796016",
       "version_major": 2,
       "version_minor": 0
      },
      "text/plain": [
       "  0%|          | 0/1114 [00:00<?, ?it/s]"
      ]
     },
     "metadata": {},
     "output_type": "display_data"
    },
    {
     "name": "stderr",
     "output_type": "stream",
     "text": [
      "\u001b[32m[I 2021-11-15 17:25:07,398]\u001b[0m Trial 31 finished with value: 0.7250950587911992 and parameters: {'e048': 0.06162510181367353, 'e049': 0.23922089749506945, 'e051': 0.5748370392805916, 'e053': 0.8038515938645603, 'e054': 0.21608970413914663, 'e073': 0.7383052706251083, 'e074': 0.8782033806666564}. Best is trial 13 with value: 0.7266210911071777.\u001b[0m\n",
      "2021-11-15 17:25:08,425 postprocessor.py     58   [INFO] [__call__] start postprocessing \n"
     ]
    },
    {
     "data": {
      "application/vnd.jupyter.widget-view+json": {
       "model_id": "b0a845c9884940b4b5b6c47d137a1835",
       "version_major": 2,
       "version_minor": 0
      },
      "text/plain": [
       "  0%|          | 0/1114 [00:00<?, ?it/s]"
      ]
     },
     "metadata": {},
     "output_type": "display_data"
    },
    {
     "name": "stderr",
     "output_type": "stream",
     "text": [
      "\u001b[32m[I 2021-11-15 17:25:15,222]\u001b[0m Trial 32 finished with value: 0.7275187571754003 and parameters: {'e048': 0.12280350938741613, 'e049': 0.17915527066997056, 'e051': 0.49995178874293755, 'e053': 0.8240147092305979, 'e054': 0.3520589970511635, 'e073': 0.746649592967698, 'e074': 0.7619104937192289}. Best is trial 32 with value: 0.7275187571754003.\u001b[0m\n",
      "2021-11-15 17:25:16,219 postprocessor.py     58   [INFO] [__call__] start postprocessing \n"
     ]
    },
    {
     "data": {
      "application/vnd.jupyter.widget-view+json": {
       "model_id": "902a07157911409b9a88629a67815e12",
       "version_major": 2,
       "version_minor": 0
      },
      "text/plain": [
       "  0%|          | 0/1114 [00:00<?, ?it/s]"
      ]
     },
     "metadata": {},
     "output_type": "display_data"
    },
    {
     "name": "stderr",
     "output_type": "stream",
     "text": [
      "\u001b[32m[I 2021-11-15 17:25:22,882]\u001b[0m Trial 33 finished with value: 0.7253387110097167 and parameters: {'e048': 0.13164648414651203, 'e049': 0.12440166225926516, 'e051': 0.4788844318098, 'e053': 0.9149518181464138, 'e054': 0.3393323583448584, 'e073': 0.6391886464497176, 'e074': 0.7599265404314348}. Best is trial 32 with value: 0.7275187571754003.\u001b[0m\n",
      "2021-11-15 17:25:23,859 postprocessor.py     58   [INFO] [__call__] start postprocessing \n"
     ]
    },
    {
     "data": {
      "application/vnd.jupyter.widget-view+json": {
       "model_id": "12fe11d5b7d244d9b73a2c0d9a4dc259",
       "version_major": 2,
       "version_minor": 0
      },
      "text/plain": [
       "  0%|          | 0/1114 [00:00<?, ?it/s]"
      ]
     },
     "metadata": {},
     "output_type": "display_data"
    },
    {
     "name": "stderr",
     "output_type": "stream",
     "text": [
      "\u001b[32m[I 2021-11-15 17:25:30,343]\u001b[0m Trial 34 finished with value: 0.7264928530974315 and parameters: {'e048': 0.19394883272905994, 'e049': 0.18008834222282538, 'e051': 0.3709959495133533, 'e053': 0.48143351583405913, 'e054': 0.38634977708380935, 'e073': 0.5307201590283024, 'e074': 0.6743546035214221}. Best is trial 32 with value: 0.7275187571754003.\u001b[0m\n",
      "2021-11-15 17:25:31,293 postprocessor.py     58   [INFO] [__call__] start postprocessing \n"
     ]
    },
    {
     "data": {
      "application/vnd.jupyter.widget-view+json": {
       "model_id": "09d21baa752540aa93b3b8c9e98e6d93",
       "version_major": 2,
       "version_minor": 0
      },
      "text/plain": [
       "  0%|          | 0/1114 [00:00<?, ?it/s]"
      ]
     },
     "metadata": {},
     "output_type": "display_data"
    },
    {
     "name": "stderr",
     "output_type": "stream",
     "text": [
      "\u001b[32m[I 2021-11-15 17:25:37,984]\u001b[0m Trial 35 finished with value: 0.7233082758554038 and parameters: {'e048': 0.5293591877178282, 'e049': 0.04795600156111479, 'e051': 0.35899372108622646, 'e053': 0.1097292223559399, 'e054': 0.39360042330567657, 'e073': 0.5244106366715569, 'e074': 0.6669490091053464}. Best is trial 32 with value: 0.7275187571754003.\u001b[0m\n",
      "2021-11-15 17:25:38,971 postprocessor.py     58   [INFO] [__call__] start postprocessing \n"
     ]
    },
    {
     "data": {
      "application/vnd.jupyter.widget-view+json": {
       "model_id": "126c464a740a44b89b841a51224ee95b",
       "version_major": 2,
       "version_minor": 0
      },
      "text/plain": [
       "  0%|          | 0/1114 [00:00<?, ?it/s]"
      ]
     },
     "metadata": {},
     "output_type": "display_data"
    },
    {
     "name": "stderr",
     "output_type": "stream",
     "text": [
      "\u001b[32m[I 2021-11-15 17:25:45,989]\u001b[0m Trial 36 finished with value: 0.7242593744276872 and parameters: {'e048': 0.19514903578030568, 'e049': 0.16770660697121925, 'e051': 0.4819026089626033, 'e053': 0.4467834839975895, 'e054': 0.5203609836522979, 'e073': 0.8341985886224458, 'e074': 0.625672412248261}. Best is trial 32 with value: 0.7275187571754003.\u001b[0m\n",
      "2021-11-15 17:25:46,968 postprocessor.py     58   [INFO] [__call__] start postprocessing \n"
     ]
    },
    {
     "data": {
      "application/vnd.jupyter.widget-view+json": {
       "model_id": "256f4a094dd744ba9246a61d3e4c39d6",
       "version_major": 2,
       "version_minor": 0
      },
      "text/plain": [
       "  0%|          | 0/1114 [00:00<?, ?it/s]"
      ]
     },
     "metadata": {},
     "output_type": "display_data"
    },
    {
     "name": "stderr",
     "output_type": "stream",
     "text": [
      "\u001b[32m[I 2021-11-15 17:25:53,963]\u001b[0m Trial 37 finished with value: 0.7255218063902987 and parameters: {'e048': 0.2611298521564574, 'e049': 0.1907766537489013, 'e051': 0.28395725404875577, 'e053': 0.7224906437573665, 'e054': 0.45495108210116186, 'e073': 0.2429348561153093, 'e074': 0.5562033479588884}. Best is trial 32 with value: 0.7275187571754003.\u001b[0m\n",
      "2021-11-15 17:25:54,960 postprocessor.py     58   [INFO] [__call__] start postprocessing \n"
     ]
    },
    {
     "data": {
      "application/vnd.jupyter.widget-view+json": {
       "model_id": "58e71f6e0ce14fd29a6ebdbe2058966f",
       "version_major": 2,
       "version_minor": 0
      },
      "text/plain": [
       "  0%|          | 0/1114 [00:00<?, ?it/s]"
      ]
     },
     "metadata": {},
     "output_type": "display_data"
    },
    {
     "name": "stderr",
     "output_type": "stream",
     "text": [
      "\u001b[32m[I 2021-11-15 17:26:01,670]\u001b[0m Trial 38 finished with value: 0.7231779005454951 and parameters: {'e048': 0.20675890248729495, 'e049': 0.2717557780615802, 'e051': 0.4245106323957876, 'e053': 0.5580415506276494, 'e054': 0.6028729539592681, 'e073': 0.4433628757553179, 'e074': 0.33250437027763313}. Best is trial 32 with value: 0.7275187571754003.\u001b[0m\n",
      "2021-11-15 17:26:02,660 postprocessor.py     58   [INFO] [__call__] start postprocessing \n"
     ]
    },
    {
     "data": {
      "application/vnd.jupyter.widget-view+json": {
       "model_id": "a8bffcce97ce4b079eb38bb3b28b3486",
       "version_major": 2,
       "version_minor": 0
      },
      "text/plain": [
       "  0%|          | 0/1114 [00:00<?, ?it/s]"
      ]
     },
     "metadata": {},
     "output_type": "display_data"
    },
    {
     "name": "stderr",
     "output_type": "stream",
     "text": [
      "\u001b[32m[I 2021-11-15 17:26:09,173]\u001b[0m Trial 39 finished with value: 0.7245452278474512 and parameters: {'e048': 0.04564961326198417, 'e049': 0.4538742164409133, 'e051': 0.16622574271687088, 'e053': 0.4812195126027299, 'e054': 0.9174299103652113, 'e073': 0.7757040743805528, 'e074': 0.7181503290671172}. Best is trial 32 with value: 0.7275187571754003.\u001b[0m\n",
      "2021-11-15 17:26:10,184 postprocessor.py     58   [INFO] [__call__] start postprocessing \n"
     ]
    },
    {
     "data": {
      "application/vnd.jupyter.widget-view+json": {
       "model_id": "f7ca7924adf341d2a5048e0a143b798a",
       "version_major": 2,
       "version_minor": 0
      },
      "text/plain": [
       "  0%|          | 0/1114 [00:00<?, ?it/s]"
      ]
     },
     "metadata": {},
     "output_type": "display_data"
    },
    {
     "name": "stderr",
     "output_type": "stream",
     "text": [
      "\u001b[32m[I 2021-11-15 17:26:16,876]\u001b[0m Trial 40 finished with value: 0.7222396257741863 and parameters: {'e048': 0.3221128409113435, 'e049': 0.11561681904509097, 'e051': 0.6568495837146401, 'e053': 0.30868410453360423, 'e054': 0.10736589226963356, 'e073': 0.8790746506418543, 'e074': 0.46736878503886387}. Best is trial 32 with value: 0.7275187571754003.\u001b[0m\n",
      "2021-11-15 17:26:17,850 postprocessor.py     58   [INFO] [__call__] start postprocessing \n"
     ]
    },
    {
     "data": {
      "application/vnd.jupyter.widget-view+json": {
       "model_id": "78f47e4576784ff0879af33df4792de7",
       "version_major": 2,
       "version_minor": 0
      },
      "text/plain": [
       "  0%|          | 0/1114 [00:00<?, ?it/s]"
      ]
     },
     "metadata": {},
     "output_type": "display_data"
    },
    {
     "name": "stderr",
     "output_type": "stream",
     "text": [
      "\u001b[32m[I 2021-11-15 17:26:24,443]\u001b[0m Trial 41 finished with value: 0.7243484286011218 and parameters: {'e048': 0.12820142328059428, 'e049': 0.3728148402363092, 'e051': 0.37234561726311294, 'e053': 0.6404078345518688, 'e054': 0.332574381741684, 'e073': 0.6326096746020535, 'e074': 0.7409208687663162}. Best is trial 32 with value: 0.7275187571754003.\u001b[0m\n",
      "2021-11-15 17:26:25,421 postprocessor.py     58   [INFO] [__call__] start postprocessing \n"
     ]
    },
    {
     "data": {
      "application/vnd.jupyter.widget-view+json": {
       "model_id": "dfe6f8ddc721451ca2414355f0b567a2",
       "version_major": 2,
       "version_minor": 0
      },
      "text/plain": [
       "  0%|          | 0/1114 [00:00<?, ?it/s]"
      ]
     },
     "metadata": {},
     "output_type": "display_data"
    },
    {
     "name": "stderr",
     "output_type": "stream",
     "text": [
      "\u001b[32m[I 2021-11-15 17:26:31,985]\u001b[0m Trial 42 finished with value: 0.7267465174814159 and parameters: {'e048': 0.05164103100068793, 'e049': 0.3336818836396509, 'e051': 0.3327698718044301, 'e053': 0.4878641875911154, 'e054': 0.4341617396087484, 'e073': 0.6998435487664815, 'e074': 0.8214825690566}. Best is trial 32 with value: 0.7275187571754003.\u001b[0m\n",
      "2021-11-15 17:26:32,968 postprocessor.py     58   [INFO] [__call__] start postprocessing \n"
     ]
    },
    {
     "data": {
      "application/vnd.jupyter.widget-view+json": {
       "model_id": "0b12f602dc384685b0636662a1c61e3e",
       "version_major": 2,
       "version_minor": 0
      },
      "text/plain": [
       "  0%|          | 0/1114 [00:00<?, ?it/s]"
      ]
     },
     "metadata": {},
     "output_type": "display_data"
    },
    {
     "name": "stderr",
     "output_type": "stream",
     "text": [
      "\u001b[32m[I 2021-11-15 17:26:39,359]\u001b[0m Trial 43 finished with value: 0.725142662294817 and parameters: {'e048': 0.04849402973645135, 'e049': 0.04677726765588356, 'e051': 0.3298704899499638, 'e053': 0.4304159498026884, 'e054': 0.41513185781032275, 'e073': 0.705675348227883, 'e074': 0.8055072100778861}. Best is trial 32 with value: 0.7275187571754003.\u001b[0m\n",
      "2021-11-15 17:26:40,353 postprocessor.py     58   [INFO] [__call__] start postprocessing \n"
     ]
    },
    {
     "data": {
      "application/vnd.jupyter.widget-view+json": {
       "model_id": "a538f17e0104486e9056ff9c47df96b9",
       "version_major": 2,
       "version_minor": 0
      },
      "text/plain": [
       "  0%|          | 0/1114 [00:00<?, ?it/s]"
      ]
     },
     "metadata": {},
     "output_type": "display_data"
    },
    {
     "name": "stderr",
     "output_type": "stream",
     "text": [
      "\u001b[32m[I 2021-11-15 17:26:46,804]\u001b[0m Trial 44 finished with value: 0.7265541223687547 and parameters: {'e048': 0.16181942250482684, 'e049': 0.25889956538095654, 'e051': 0.4435508745505916, 'e053': 0.7770156567922798, 'e054': 0.47931944572442114, 'e073': 0.550407936499374, 'e074': 0.93905370889949}. Best is trial 32 with value: 0.7275187571754003.\u001b[0m\n",
      "2021-11-15 17:26:47,772 postprocessor.py     58   [INFO] [__call__] start postprocessing \n"
     ]
    },
    {
     "data": {
      "application/vnd.jupyter.widget-view+json": {
       "model_id": "acf16d064b74415b94be4fab337dd456",
       "version_major": 2,
       "version_minor": 0
      },
      "text/plain": [
       "  0%|          | 0/1114 [00:00<?, ?it/s]"
      ]
     },
     "metadata": {},
     "output_type": "display_data"
    },
    {
     "name": "stderr",
     "output_type": "stream",
     "text": [
      "\u001b[32m[I 2021-11-15 17:26:54,278]\u001b[0m Trial 45 finished with value: 0.7256949277034558 and parameters: {'e048': 0.15483384953221555, 'e049': 0.3185850169579469, 'e051': 0.443911859775573, 'e053': 0.7708088545132086, 'e054': 0.45871034678876776, 'e073': 0.6736823054106094, 'e074': 0.9377149455023861}. Best is trial 32 with value: 0.7275187571754003.\u001b[0m\n",
      "2021-11-15 17:26:55,269 postprocessor.py     58   [INFO] [__call__] start postprocessing \n"
     ]
    },
    {
     "data": {
      "application/vnd.jupyter.widget-view+json": {
       "model_id": "b49c6e64f8984db6a944302db5811c5a",
       "version_major": 2,
       "version_minor": 0
      },
      "text/plain": [
       "  0%|          | 0/1114 [00:00<?, ?it/s]"
      ]
     },
     "metadata": {},
     "output_type": "display_data"
    },
    {
     "name": "stderr",
     "output_type": "stream",
     "text": [
      "\u001b[32m[I 2021-11-15 17:27:01,816]\u001b[0m Trial 46 finished with value: 0.7236865779841546 and parameters: {'e048': 0.9977468664400035, 'e049': 0.25688035517324165, 'e051': 0.26165574948776754, 'e053': 0.9112617639144962, 'e054': 0.619305878859201, 'e073': 0.7201147773632218, 'e074': 0.8534936022568457}. Best is trial 32 with value: 0.7275187571754003.\u001b[0m\n",
      "2021-11-15 17:27:02,769 postprocessor.py     58   [INFO] [__call__] start postprocessing \n"
     ]
    },
    {
     "data": {
      "application/vnd.jupyter.widget-view+json": {
       "model_id": "ccda2e96b0b9459ebf056adc29d7b6a4",
       "version_major": 2,
       "version_minor": 0
      },
      "text/plain": [
       "  0%|          | 0/1114 [00:00<?, ?it/s]"
      ]
     },
     "metadata": {},
     "output_type": "display_data"
    },
    {
     "name": "stderr",
     "output_type": "stream",
     "text": [
      "\u001b[32m[I 2021-11-15 17:27:09,081]\u001b[0m Trial 47 finished with value: 0.7217010261332527 and parameters: {'e048': 0.5589541419256439, 'e049': 0.4614572128922375, 'e051': 0.5186208625524544, 'e053': 0.7039029895674445, 'e054': 0.2613100646877838, 'e073': 0.8753588201435148, 'e074': 0.9539690942471949}. Best is trial 32 with value: 0.7275187571754003.\u001b[0m\n",
      "2021-11-15 17:27:10,046 postprocessor.py     58   [INFO] [__call__] start postprocessing \n"
     ]
    },
    {
     "data": {
      "application/vnd.jupyter.widget-view+json": {
       "model_id": "282f536261424891bf00e1c7e43d54c0",
       "version_major": 2,
       "version_minor": 0
      },
      "text/plain": [
       "  0%|          | 0/1114 [00:00<?, ?it/s]"
      ]
     },
     "metadata": {},
     "output_type": "display_data"
    },
    {
     "name": "stderr",
     "output_type": "stream",
     "text": [
      "\u001b[32m[I 2021-11-15 17:27:16,455]\u001b[0m Trial 48 finished with value: 0.7258509506153137 and parameters: {'e048': 0.03229084694904878, 'e049': 0.3353869479253894, 'e051': 0.6146148368813745, 'e053': 0.8024599180518961, 'e054': 0.7718499090620885, 'e073': 0.4751494072377683, 'e074': 0.9059805805767803}. Best is trial 32 with value: 0.7275187571754003.\u001b[0m\n",
      "2021-11-15 17:27:17,414 postprocessor.py     58   [INFO] [__call__] start postprocessing \n"
     ]
    },
    {
     "data": {
      "application/vnd.jupyter.widget-view+json": {
       "model_id": "a46617835b64475a83dbabc13aac8aad",
       "version_major": 2,
       "version_minor": 0
      },
      "text/plain": [
       "  0%|          | 0/1114 [00:00<?, ?it/s]"
      ]
     },
     "metadata": {},
     "output_type": "display_data"
    },
    {
     "name": "stderr",
     "output_type": "stream",
     "text": [
      "\u001b[32m[I 2021-11-15 17:27:23,910]\u001b[0m Trial 49 finished with value: 0.7204026162845736 and parameters: {'e048': 0.23689661416591543, 'e049': 0.9191574571746643, 'e051': 0.3989469798954606, 'e053': 0.8362858997318214, 'e054': 0.49404202715999557, 'e073': 0.37371038917529353, 'e074': 0.8211419193605232}. Best is trial 32 with value: 0.7275187571754003.\u001b[0m\n",
      "2021-11-15 17:27:24,862 postprocessor.py     58   [INFO] [__call__] start postprocessing \n"
     ]
    },
    {
     "data": {
      "application/vnd.jupyter.widget-view+json": {
       "model_id": "7e9372e1f8b24af5a5f48813ca9131b1",
       "version_major": 2,
       "version_minor": 0
      },
      "text/plain": [
       "  0%|          | 0/1114 [00:00<?, ?it/s]"
      ]
     },
     "metadata": {},
     "output_type": "display_data"
    },
    {
     "name": "stderr",
     "output_type": "stream",
     "text": [
      "\u001b[32m[I 2021-11-15 17:27:31,285]\u001b[0m Trial 50 finished with value: 0.7249624166477849 and parameters: {'e048': 0.10790626448524507, 'e049': 0.2746231070020809, 'e051': 0.45719258606644064, 'e053': 0.8672608347031068, 'e054': 0.031151830033069594, 'e073': 0.5643841716696335, 'e074': 0.9657373342182283}. Best is trial 32 with value: 0.7275187571754003.\u001b[0m\n",
      "2021-11-15 17:27:32,235 postprocessor.py     58   [INFO] [__call__] start postprocessing \n"
     ]
    },
    {
     "data": {
      "application/vnd.jupyter.widget-view+json": {
       "model_id": "1864641fa55c495189014954b3b885a3",
       "version_major": 2,
       "version_minor": 0
      },
      "text/plain": [
       "  0%|          | 0/1114 [00:00<?, ?it/s]"
      ]
     },
     "metadata": {},
     "output_type": "display_data"
    },
    {
     "name": "stderr",
     "output_type": "stream",
     "text": [
      "\u001b[32m[I 2021-11-15 17:27:38,609]\u001b[0m Trial 51 finished with value: 0.7256806790357063 and parameters: {'e048': 0.19074520539188175, 'e049': 0.1816240410438103, 'e051': 0.327075360807622, 'e053': 0.5685233296572456, 'e054': 0.3812144173869793, 'e073': 0.6308480576848485, 'e074': 0.6910529608102451}. Best is trial 32 with value: 0.7275187571754003.\u001b[0m\n",
      "2021-11-15 17:27:39,576 postprocessor.py     58   [INFO] [__call__] start postprocessing \n"
     ]
    },
    {
     "data": {
      "application/vnd.jupyter.widget-view+json": {
       "model_id": "81c642fbc2e040efaebd67a49693db08",
       "version_major": 2,
       "version_minor": 0
      },
      "text/plain": [
       "  0%|          | 0/1114 [00:00<?, ?it/s]"
      ]
     },
     "metadata": {},
     "output_type": "display_data"
    },
    {
     "name": "stderr",
     "output_type": "stream",
     "text": [
      "\u001b[32m[I 2021-11-15 17:27:45,859]\u001b[0m Trial 52 finished with value: 0.7241525094195654 and parameters: {'e048': 0.001863779956951847, 'e049': 0.09872291087247109, 'e051': 0.40351183249598577, 'e053': 0.4874584060051327, 'e054': 0.43967855651275767, 'e073': 0.5419772743881, 'e074': 0.5653031747109598}. Best is trial 32 with value: 0.7275187571754003.\u001b[0m\n",
      "2021-11-15 17:27:46,813 postprocessor.py     58   [INFO] [__call__] start postprocessing \n"
     ]
    },
    {
     "data": {
      "application/vnd.jupyter.widget-view+json": {
       "model_id": "4b7525858e614f1e99b65c8b356fabd0",
       "version_major": 2,
       "version_minor": 0
      },
      "text/plain": [
       "  0%|          | 0/1114 [00:00<?, ?it/s]"
      ]
     },
     "metadata": {},
     "output_type": "display_data"
    },
    {
     "name": "stderr",
     "output_type": "stream",
     "text": [
      "\u001b[32m[I 2021-11-15 17:27:53,172]\u001b[0m Trial 53 finished with value: 0.7276931738219893 and parameters: {'e048': 0.2597321972108126, 'e049': 0.13052065831708465, 'e051': 0.30791301747881983, 'e053': 0.3411558402836818, 'e054': 0.31129899863611676, 'e073': 0.7744526359514334, 'e074': 0.8544216961172588}. Best is trial 53 with value: 0.7276931738219893.\u001b[0m\n",
      "2021-11-15 17:27:54,135 postprocessor.py     58   [INFO] [__call__] start postprocessing \n"
     ]
    },
    {
     "data": {
      "application/vnd.jupyter.widget-view+json": {
       "model_id": "7c41446559e54d69aab71bd3551f3b84",
       "version_major": 2,
       "version_minor": 0
      },
      "text/plain": [
       "  0%|          | 0/1114 [00:00<?, ?it/s]"
      ]
     },
     "metadata": {},
     "output_type": "display_data"
    },
    {
     "name": "stderr",
     "output_type": "stream",
     "text": [
      "\u001b[32m[I 2021-11-15 17:28:00,527]\u001b[0m Trial 54 finished with value: 0.7271196649450693 and parameters: {'e048': 0.27833949976429306, 'e049': 0.13281518666457431, 'e051': 0.26399232019329244, 'e053': 0.7463459214419544, 'e054': 0.3061264266710717, 'e073': 0.7790609280404633, 'e074': 0.8481274326858129}. Best is trial 53 with value: 0.7276931738219893.\u001b[0m\n",
      "2021-11-15 17:28:01,503 postprocessor.py     58   [INFO] [__call__] start postprocessing \n"
     ]
    },
    {
     "data": {
      "application/vnd.jupyter.widget-view+json": {
       "model_id": "bd7f3f74d9f04be5a480a8f930959d45",
       "version_major": 2,
       "version_minor": 0
      },
      "text/plain": [
       "  0%|          | 0/1114 [00:00<?, ?it/s]"
      ]
     },
     "metadata": {},
     "output_type": "display_data"
    },
    {
     "name": "stderr",
     "output_type": "stream",
     "text": [
      "\u001b[32m[I 2021-11-15 17:28:07,897]\u001b[0m Trial 55 finished with value: 0.724177315054784 and parameters: {'e048': 0.3882658811866247, 'e049': 0.0021667563602851825, 'e051': 0.25710250167899074, 'e053': 0.32713003903593985, 'e054': 0.28435377970369363, 'e073': 0.7559736934042693, 'e074': 0.8441189740898393}. Best is trial 53 with value: 0.7276931738219893.\u001b[0m\n",
      "2021-11-15 17:28:08,843 postprocessor.py     58   [INFO] [__call__] start postprocessing \n"
     ]
    },
    {
     "data": {
      "application/vnd.jupyter.widget-view+json": {
       "model_id": "4c7ba9b872014b6885a7ed5b23cb95ac",
       "version_major": 2,
       "version_minor": 0
      },
      "text/plain": [
       "  0%|          | 0/1114 [00:00<?, ?it/s]"
      ]
     },
     "metadata": {},
     "output_type": "display_data"
    },
    {
     "name": "stderr",
     "output_type": "stream",
     "text": [
      "\u001b[32m[I 2021-11-15 17:28:15,115]\u001b[0m Trial 56 finished with value: 0.7259277638878181 and parameters: {'e048': 0.45792619129438006, 'e049': 0.14239217054176803, 'e051': 0.1439961885290898, 'e053': 0.23693170029684923, 'e054': 0.19090153503286092, 'e073': 0.7836378845673211, 'e074': 0.7251470362389038}. Best is trial 53 with value: 0.7276931738219893.\u001b[0m\n",
      "2021-11-15 17:28:16,078 postprocessor.py     58   [INFO] [__call__] start postprocessing \n"
     ]
    },
    {
     "data": {
      "application/vnd.jupyter.widget-view+json": {
       "model_id": "f7d54360d56a425ebc8c3d72577fb69b",
       "version_major": 2,
       "version_minor": 0
      },
      "text/plain": [
       "  0%|          | 0/1114 [00:00<?, ?it/s]"
      ]
     },
     "metadata": {},
     "output_type": "display_data"
    },
    {
     "name": "stderr",
     "output_type": "stream",
     "text": [
      "\u001b[32m[I 2021-11-15 17:28:22,393]\u001b[0m Trial 57 finished with value: 0.7257731658427353 and parameters: {'e048': 0.26357404505921456, 'e049': 0.0505395669045349, 'e051': 0.3013808209454995, 'e053': 0.6838412517203324, 'e054': 0.30935004042866215, 'e073': 0.7932431331140659, 'e074': 0.7972984412962545}. Best is trial 53 with value: 0.7276931738219893.\u001b[0m\n",
      "2021-11-15 17:28:23,343 postprocessor.py     58   [INFO] [__call__] start postprocessing \n"
     ]
    },
    {
     "data": {
      "application/vnd.jupyter.widget-view+json": {
       "model_id": "085b27424d254cfa81c1e6710db92ec0",
       "version_major": 2,
       "version_minor": 0
      },
      "text/plain": [
       "  0%|          | 0/1114 [00:00<?, ?it/s]"
      ]
     },
     "metadata": {},
     "output_type": "display_data"
    },
    {
     "name": "stderr",
     "output_type": "stream",
     "text": [
      "\u001b[32m[I 2021-11-15 17:28:29,703]\u001b[0m Trial 58 finished with value: 0.7215441612546644 and parameters: {'e048': 0.3285360522632487, 'e049': 0.11471306378113756, 'e051': 0.200645380531059, 'e053': 0.17027304143259966, 'e054': 0.21322789252442959, 'e073': 0.8380219393504261, 'e074': 0.8679599782880486}. Best is trial 53 with value: 0.7276931738219893.\u001b[0m\n",
      "2021-11-15 17:28:30,660 postprocessor.py     58   [INFO] [__call__] start postprocessing \n"
     ]
    },
    {
     "data": {
      "application/vnd.jupyter.widget-view+json": {
       "model_id": "e8966d46e91b42d1b69ec06b6f31d1d4",
       "version_major": 2,
       "version_minor": 0
      },
      "text/plain": [
       "  0%|          | 0/1114 [00:00<?, ?it/s]"
      ]
     },
     "metadata": {},
     "output_type": "display_data"
    },
    {
     "name": "stderr",
     "output_type": "stream",
     "text": [
      "\u001b[32m[I 2021-11-15 17:28:37,069]\u001b[0m Trial 59 finished with value: 0.7251677650947641 and parameters: {'e048': 0.07060875670533684, 'e049': 0.07768850742249403, 'e051': 0.03665915268433262, 'e053': 0.757129262702285, 'e054': 0.3627954270954825, 'e073': 0.6959966602408758, 'e074': 0.8257264615098769}. Best is trial 53 with value: 0.7276931738219893.\u001b[0m\n",
      "2021-11-15 17:28:38,025 postprocessor.py     58   [INFO] [__call__] start postprocessing \n"
     ]
    },
    {
     "data": {
      "application/vnd.jupyter.widget-view+json": {
       "model_id": "76d253e1925d44a08a986c4994cd7d28",
       "version_major": 2,
       "version_minor": 0
      },
      "text/plain": [
       "  0%|          | 0/1114 [00:00<?, ?it/s]"
      ]
     },
     "metadata": {},
     "output_type": "display_data"
    },
    {
     "name": "stderr",
     "output_type": "stream",
     "text": [
      "\u001b[32m[I 2021-11-15 17:28:44,216]\u001b[0m Trial 60 finished with value: 0.7213200419023372 and parameters: {'e048': 0.11047491604212897, 'e049': 0.20879561872531335, 'e051': 0.3304240944394055, 'e053': 0.012297719165648868, 'e054': 0.24724331497698776, 'e073': 0.8790977818161271, 'e074': 0.2884336000738296}. Best is trial 53 with value: 0.7276931738219893.\u001b[0m\n",
      "2021-11-15 17:28:45,162 postprocessor.py     58   [INFO] [__call__] start postprocessing \n"
     ]
    },
    {
     "data": {
      "application/vnd.jupyter.widget-view+json": {
       "model_id": "979e728dfa074e5ab9a886288360f95d",
       "version_major": 2,
       "version_minor": 0
      },
      "text/plain": [
       "  0%|          | 0/1114 [00:00<?, ?it/s]"
      ]
     },
     "metadata": {},
     "output_type": "display_data"
    },
    {
     "name": "stderr",
     "output_type": "stream",
     "text": [
      "\u001b[32m[I 2021-11-15 17:28:51,451]\u001b[0m Trial 61 finished with value: 0.725295965006468 and parameters: {'e048': 0.16365947185358287, 'e049': 0.1563024931012168, 'e051': 0.41778946850562365, 'e053': 0.6186890744439022, 'e054': 0.5550280965339653, 'e073': 0.6709147631870925, 'e074': 0.9288826589467473}. Best is trial 53 with value: 0.7276931738219893.\u001b[0m\n",
      "2021-11-15 17:28:52,415 postprocessor.py     58   [INFO] [__call__] start postprocessing \n"
     ]
    },
    {
     "data": {
      "application/vnd.jupyter.widget-view+json": {
       "model_id": "d82a3c7d140a4778b58eec94dfa865a4",
       "version_major": 2,
       "version_minor": 0
      },
      "text/plain": [
       "  0%|          | 0/1114 [00:00<?, ?it/s]"
      ]
     },
     "metadata": {},
     "output_type": "display_data"
    },
    {
     "name": "stderr",
     "output_type": "stream",
     "text": [
      "\u001b[32m[I 2021-11-15 17:28:58,725]\u001b[0m Trial 62 finished with value: 0.725587933161991 and parameters: {'e048': 0.2875936997809945, 'e049': 0.2437224200485324, 'e051': 0.25732473409745144, 'e053': 0.7475555543692955, 'e054': 0.3079252246265706, 'e073': 0.720105672527736, 'e074': 0.9974453704542534}. Best is trial 53 with value: 0.7276931738219893.\u001b[0m\n",
      "2021-11-15 17:28:59,732 postprocessor.py     58   [INFO] [__call__] start postprocessing \n"
     ]
    },
    {
     "data": {
      "application/vnd.jupyter.widget-view+json": {
       "model_id": "e3b8c53a43724b1b97c34973f9c54eb8",
       "version_major": 2,
       "version_minor": 0
      },
      "text/plain": [
       "  0%|          | 0/1114 [00:00<?, ?it/s]"
      ]
     },
     "metadata": {},
     "output_type": "display_data"
    },
    {
     "name": "stderr",
     "output_type": "stream",
     "text": [
      "\u001b[32m[I 2021-11-15 17:29:06,119]\u001b[0m Trial 63 finished with value: 0.7232626801186051 and parameters: {'e048': 0.23432791178542156, 'e049': 0.5849547643338467, 'e051': 0.472693707370664, 'e053': 0.8741450309271499, 'e054': 0.3564946494723245, 'e073': 0.6069253542962941, 'e074': 0.9019296402635444}. Best is trial 53 with value: 0.7276931738219893.\u001b[0m\n",
      "2021-11-15 17:29:07,078 postprocessor.py     58   [INFO] [__call__] start postprocessing \n"
     ]
    },
    {
     "data": {
      "application/vnd.jupyter.widget-view+json": {
       "model_id": "ee89d5a6a3154101acd39ebd180dc874",
       "version_major": 2,
       "version_minor": 0
      },
      "text/plain": [
       "  0%|          | 0/1114 [00:00<?, ?it/s]"
      ]
     },
     "metadata": {},
     "output_type": "display_data"
    },
    {
     "name": "stderr",
     "output_type": "stream",
     "text": [
      "\u001b[32m[I 2021-11-15 17:29:13,458]\u001b[0m Trial 64 finished with value: 0.7255914953289283 and parameters: {'e048': 0.1248885613908281, 'e049': 0.025734613882296115, 'e051': 0.5500855603803547, 'e053': 0.790704863986504, 'e054': 0.15485144739750056, 'e073': 0.7446650901479567, 'e074': 0.9621299633065934}. Best is trial 53 with value: 0.7276931738219893.\u001b[0m\n",
      "2021-11-15 17:29:14,406 postprocessor.py     58   [INFO] [__call__] start postprocessing \n"
     ]
    },
    {
     "data": {
      "application/vnd.jupyter.widget-view+json": {
       "model_id": "60c1200ef8194d14ae3a1599d3f3dc58",
       "version_major": 2,
       "version_minor": 0
      },
      "text/plain": [
       "  0%|          | 0/1114 [00:00<?, ?it/s]"
      ]
     },
     "metadata": {},
     "output_type": "display_data"
    },
    {
     "name": "stderr",
     "output_type": "stream",
     "text": [
      "\u001b[32m[I 2021-11-15 17:29:20,785]\u001b[0m Trial 65 finished with value: 0.7228508936206426 and parameters: {'e048': 0.04223916353709115, 'e049': 0.29913945991989566, 'e051': 0.5091369131144622, 'e053': 0.9877585724584808, 'e054': 0.2779554505537702, 'e073': 0.821333931507547, 'e074': 0.7571845617781372}. Best is trial 53 with value: 0.7276931738219893.\u001b[0m\n",
      "2021-11-15 17:29:21,780 postprocessor.py     58   [INFO] [__call__] start postprocessing \n"
     ]
    },
    {
     "data": {
      "application/vnd.jupyter.widget-view+json": {
       "model_id": "da8d72ddb86f4464a067d46dee2a3b7c",
       "version_major": 2,
       "version_minor": 0
      },
      "text/plain": [
       "  0%|          | 0/1114 [00:00<?, ?it/s]"
      ]
     },
     "metadata": {},
     "output_type": "display_data"
    },
    {
     "name": "stderr",
     "output_type": "stream",
     "text": [
      "\u001b[32m[I 2021-11-15 17:29:28,155]\u001b[0m Trial 66 finished with value: 0.7266081377728598 and parameters: {'e048': 0.09710346760750187, 'e049': 0.2072644872007522, 'e051': 0.3513468621564, 'e053': 0.6988533477129244, 'e054': 0.42902896373698407, 'e073': 0.6571466659090982, 'e074': 0.8614868324680773}. Best is trial 53 with value: 0.7276931738219893.\u001b[0m\n",
      "2021-11-15 17:29:29,115 postprocessor.py     58   [INFO] [__call__] start postprocessing \n"
     ]
    },
    {
     "data": {
      "application/vnd.jupyter.widget-view+json": {
       "model_id": "d1ac28dcb3bf467aabeb8a0ec06a7789",
       "version_major": 2,
       "version_minor": 0
      },
      "text/plain": [
       "  0%|          | 0/1114 [00:00<?, ?it/s]"
      ]
     },
     "metadata": {},
     "output_type": "display_data"
    },
    {
     "name": "stderr",
     "output_type": "stream",
     "text": [
      "\u001b[32m[I 2021-11-15 17:29:35,580]\u001b[0m Trial 67 finished with value: 0.7238153988939451 and parameters: {'e048': 0.08831731369326945, 'e049': 0.13512738131109717, 'e051': 0.29780454059033834, 'e053': 0.693625396058089, 'e054': 0.4227180158676658, 'e073': 0.6575375363214808, 'e074': 0.803222616424922}. Best is trial 53 with value: 0.7276931738219893.\u001b[0m\n",
      "2021-11-15 17:29:36,545 postprocessor.py     58   [INFO] [__call__] start postprocessing \n"
     ]
    },
    {
     "data": {
      "application/vnd.jupyter.widget-view+json": {
       "model_id": "294a7cb9be7b4ecfb7e84adabba1ff7e",
       "version_major": 2,
       "version_minor": 0
      },
      "text/plain": [
       "  0%|          | 0/1114 [00:00<?, ?it/s]"
      ]
     },
     "metadata": {},
     "output_type": "display_data"
    },
    {
     "name": "stderr",
     "output_type": "stream",
     "text": [
      "\u001b[32m[I 2021-11-15 17:29:42,920]\u001b[0m Trial 68 finished with value: 0.7224106478852231 and parameters: {'e048': 0.004242783234930936, 'e049': 0.19999798894819232, 'e051': 0.22521671304073565, 'e053': 0.6443752661963148, 'e054': 0.21963348580099823, 'e073': 0.7682422645180423, 'e074': 0.8709115118818246}. Best is trial 53 with value: 0.7276931738219893.\u001b[0m\n",
      "2021-11-15 17:29:43,872 postprocessor.py     58   [INFO] [__call__] start postprocessing \n"
     ]
    },
    {
     "data": {
      "application/vnd.jupyter.widget-view+json": {
       "model_id": "049f6ad72d61405090b33511c7a2938b",
       "version_major": 2,
       "version_minor": 0
      },
      "text/plain": [
       "  0%|          | 0/1114 [00:00<?, ?it/s]"
      ]
     },
     "metadata": {},
     "output_type": "display_data"
    },
    {
     "name": "stderr",
     "output_type": "stream",
     "text": [
      "\u001b[32m[I 2021-11-15 17:29:50,262]\u001b[0m Trial 69 finished with value: 0.7154622469591054 and parameters: {'e048': 0.6818102652421643, 'e049': 0.09321588326483767, 'e051': 0.3515410200182116, 'e053': 0.6011497230971512, 'e054': 0.1157317075339334, 'e073': 0.6986433868754663, 'e074': 0.009749190291846066}. Best is trial 53 with value: 0.7276931738219893.\u001b[0m\n",
      "2021-11-15 17:29:51,216 postprocessor.py     58   [INFO] [__call__] start postprocessing \n"
     ]
    },
    {
     "data": {
      "application/vnd.jupyter.widget-view+json": {
       "model_id": "c54d53c7c81640f0a72cf1d0ce7d37a8",
       "version_major": 2,
       "version_minor": 0
      },
      "text/plain": [
       "  0%|          | 0/1114 [00:00<?, ?it/s]"
      ]
     },
     "metadata": {},
     "output_type": "display_data"
    },
    {
     "name": "stderr",
     "output_type": "stream",
     "text": [
      "\u001b[32m[I 2021-11-15 17:29:57,504]\u001b[0m Trial 70 finished with value: 0.7194251576769533 and parameters: {'e048': 0.4063538676723538, 'e049': 0.4161313968552313, 'e051': 0.38967354798371834, 'e053': 0.340266058697841, 'e054': 0.3513318167724648, 'e073': 0.024190233475285094, 'e074': 0.8399359222305595}. Best is trial 53 with value: 0.7276931738219893.\u001b[0m\n",
      "2021-11-15 17:29:58,447 postprocessor.py     58   [INFO] [__call__] start postprocessing \n"
     ]
    },
    {
     "data": {
      "application/vnd.jupyter.widget-view+json": {
       "model_id": "0eb5c70e50f14386bcf7e6f9c575c225",
       "version_major": 2,
       "version_minor": 0
      },
      "text/plain": [
       "  0%|          | 0/1114 [00:00<?, ?it/s]"
      ]
     },
     "metadata": {},
     "output_type": "display_data"
    },
    {
     "name": "stderr",
     "output_type": "stream",
     "text": [
      "\u001b[32m[I 2021-11-15 17:30:04,822]\u001b[0m Trial 71 finished with value: 0.7265925937716784 and parameters: {'e048': 0.16578745034361514, 'e049': 0.2314037484292754, 'e051': 0.4353225030121179, 'e053': 0.7254691522552512, 'e054': 0.5078711202968481, 'e073': 0.620607864332836, 'e074': 0.894413799855195}. Best is trial 53 with value: 0.7276931738219893.\u001b[0m\n",
      "2021-11-15 17:30:05,835 postprocessor.py     58   [INFO] [__call__] start postprocessing \n"
     ]
    },
    {
     "data": {
      "application/vnd.jupyter.widget-view+json": {
       "model_id": "bd1dad7b869d4e4d831112fc7a92b263",
       "version_major": 2,
       "version_minor": 0
      },
      "text/plain": [
       "  0%|          | 0/1114 [00:00<?, ?it/s]"
      ]
     },
     "metadata": {},
     "output_type": "display_data"
    },
    {
     "name": "stderr",
     "output_type": "stream",
     "text": [
      "\u001b[32m[I 2021-11-15 17:30:12,188]\u001b[0m Trial 72 finished with value: 0.7239151395681921 and parameters: {'e048': 0.10356663445013836, 'e049': 0.16227902232613567, 'e051': 0.34367317681019555, 'e053': 0.7173557815488265, 'e054': 0.5319041054995114, 'e073': 0.6137926357949706, 'e074': 0.9023550029042925}. Best is trial 53 with value: 0.7276931738219893.\u001b[0m\n",
      "2021-11-15 17:30:13,201 postprocessor.py     58   [INFO] [__call__] start postprocessing \n"
     ]
    },
    {
     "data": {
      "application/vnd.jupyter.widget-view+json": {
       "model_id": "1fe934f6829c4805a7569c0256ec7048",
       "version_major": 2,
       "version_minor": 0
      },
      "text/plain": [
       "  0%|          | 0/1114 [00:00<?, ?it/s]"
      ]
     },
     "metadata": {},
     "output_type": "display_data"
    },
    {
     "name": "stderr",
     "output_type": "stream",
     "text": [
      "\u001b[32m[I 2021-11-15 17:30:19,613]\u001b[0m Trial 73 finished with value: 0.7249025722432368 and parameters: {'e048': 0.06446973688001016, 'e049': 0.21274621021709977, 'e051': 0.2732541802766434, 'e053': 0.7402608825398034, 'e054': 0.394893595043635, 'e073': 0.5777771622805623, 'e074': 0.781420878032019}. Best is trial 53 with value: 0.7276931738219893.\u001b[0m\n",
      "2021-11-15 17:30:20,565 postprocessor.py     58   [INFO] [__call__] start postprocessing \n"
     ]
    },
    {
     "data": {
      "application/vnd.jupyter.widget-view+json": {
       "model_id": "749352cfd18d4ca5b7a648d3fd2bc3d7",
       "version_major": 2,
       "version_minor": 0
      },
      "text/plain": [
       "  0%|          | 0/1114 [00:00<?, ?it/s]"
      ]
     },
     "metadata": {},
     "output_type": "display_data"
    },
    {
     "name": "stderr",
     "output_type": "stream",
     "text": [
      "\u001b[32m[I 2021-11-15 17:30:26,911]\u001b[0m Trial 74 finished with value: 0.7273633171635868 and parameters: {'e048': 0.2162680466371658, 'e049': 0.06980905299506523, 'e051': 0.3096795740637324, 'e053': 0.6670682055083752, 'e054': 0.5076597808312154, 'e073': 0.6483904147990851, 'e074': 0.866114754980066}. Best is trial 53 with value: 0.7276931738219893.\u001b[0m\n",
      "2021-11-15 17:30:27,864 postprocessor.py     58   [INFO] [__call__] start postprocessing \n"
     ]
    },
    {
     "data": {
      "application/vnd.jupyter.widget-view+json": {
       "model_id": "2a793c7035e145949b82167a3117d028",
       "version_major": 2,
       "version_minor": 0
      },
      "text/plain": [
       "  0%|          | 0/1114 [00:00<?, ?it/s]"
      ]
     },
     "metadata": {},
     "output_type": "display_data"
    },
    {
     "name": "stderr",
     "output_type": "stream",
     "text": [
      "\u001b[32m[I 2021-11-15 17:30:34,235]\u001b[0m Trial 75 finished with value: 0.7171870481901904 and parameters: {'e048': 0.21703923482109833, 'e049': 0.11068639925903065, 'e051': 0.30931547451875285, 'e053': 0.8350194076574227, 'e054': 0.5876855327933366, 'e073': 0.6560969368926519, 'e074': 0.06586839044393283}. Best is trial 53 with value: 0.7276931738219893.\u001b[0m\n",
      "2021-11-15 17:30:35,184 postprocessor.py     58   [INFO] [__call__] start postprocessing \n"
     ]
    },
    {
     "data": {
      "application/vnd.jupyter.widget-view+json": {
       "model_id": "0db8365f7edc4692b99cc14a079a0887",
       "version_major": 2,
       "version_minor": 0
      },
      "text/plain": [
       "  0%|          | 0/1114 [00:00<?, ?it/s]"
      ]
     },
     "metadata": {},
     "output_type": "display_data"
    },
    {
     "name": "stderr",
     "output_type": "stream",
     "text": [
      "\u001b[32m[I 2021-11-15 17:30:41,560]\u001b[0m Trial 76 finished with value: 0.7247167947604903 and parameters: {'e048': 0.13926502171879168, 'e049': 0.23124556656152895, 'e051': 0.18474532209469874, 'e053': 0.3992899922709242, 'e054': 0.5179621447506962, 'e073': 0.8587563385992871, 'e074': 0.7428820515021162}. Best is trial 53 with value: 0.7276931738219893.\u001b[0m\n",
      "2021-11-15 17:30:42,519 postprocessor.py     58   [INFO] [__call__] start postprocessing \n"
     ]
    },
    {
     "data": {
      "application/vnd.jupyter.widget-view+json": {
       "model_id": "080abbdfc9bf4e4d89ab8e80e4fc7319",
       "version_major": 2,
       "version_minor": 0
      },
      "text/plain": [
       "  0%|          | 0/1114 [00:00<?, ?it/s]"
      ]
     },
     "metadata": {},
     "output_type": "display_data"
    },
    {
     "name": "stderr",
     "output_type": "stream",
     "text": [
      "\u001b[32m[I 2021-11-15 17:30:48,897]\u001b[0m Trial 77 finished with value: 0.7272393537541657 and parameters: {'e048': 0.2838162989054245, 'e049': 0.28591054965708007, 'e051': 0.370199989013104, 'e053': 0.670511164091051, 'e054': 0.43842577386283366, 'e073': 0.7997283088277756, 'e074': 0.8687184022086639}. Best is trial 53 with value: 0.7276931738219893.\u001b[0m\n",
      "2021-11-15 17:30:49,850 postprocessor.py     58   [INFO] [__call__] start postprocessing \n"
     ]
    },
    {
     "data": {
      "application/vnd.jupyter.widget-view+json": {
       "model_id": "2e4c8b50ec324d7ca7eb7c6b7f374234",
       "version_major": 2,
       "version_minor": 0
      },
      "text/plain": [
       "  0%|          | 0/1114 [00:00<?, ?it/s]"
      ]
     },
     "metadata": {},
     "output_type": "display_data"
    },
    {
     "name": "stderr",
     "output_type": "stream",
     "text": [
      "\u001b[32m[I 2021-11-15 17:30:56,245]\u001b[0m Trial 78 finished with value: 0.7253900443116573 and parameters: {'e048': 0.27543629293125976, 'e049': 0.28239831343731747, 'e051': 0.23476033312061678, 'e053': 0.5449114311844178, 'e054': 0.44561848849359464, 'e073': 0.910193781070979, 'e074': 0.8638313578254558}. Best is trial 53 with value: 0.7276931738219893.\u001b[0m\n",
      "2021-11-15 17:30:57,202 postprocessor.py     58   [INFO] [__call__] start postprocessing \n"
     ]
    },
    {
     "data": {
      "application/vnd.jupyter.widget-view+json": {
       "model_id": "1725342fb95b4e8fa9827dbfef51254a",
       "version_major": 2,
       "version_minor": 0
      },
      "text/plain": [
       "  0%|          | 0/1114 [00:00<?, ?it/s]"
      ]
     },
     "metadata": {},
     "output_type": "display_data"
    },
    {
     "name": "stderr",
     "output_type": "stream",
     "text": [
      "\u001b[32m[I 2021-11-15 17:31:03,603]\u001b[0m Trial 79 finished with value: 0.7249967429837272 and parameters: {'e048': 0.3667620824697584, 'e049': 0.3453045545012191, 'e051': 0.377645738253248, 'e053': 0.6701926472414941, 'e054': 0.419635568376357, 'e073': 0.7404242272273266, 'e074': 0.8160305112683384}. Best is trial 53 with value: 0.7276931738219893.\u001b[0m\n",
      "2021-11-15 17:31:04,563 postprocessor.py     58   [INFO] [__call__] start postprocessing \n"
     ]
    },
    {
     "data": {
      "application/vnd.jupyter.widget-view+json": {
       "model_id": "1ad9f02b244645d5aa46b757e41d0e49",
       "version_major": 2,
       "version_minor": 0
      },
      "text/plain": [
       "  0%|          | 0/1114 [00:00<?, ?it/s]"
      ]
     },
     "metadata": {},
     "output_type": "display_data"
    },
    {
     "name": "stderr",
     "output_type": "stream",
     "text": [
      "\u001b[32m[I 2021-11-15 17:31:10,940]\u001b[0m Trial 80 finished with value: 0.7253814570129654 and parameters: {'e048': 0.3466494477327141, 'e049': 0.039998332884580656, 'e051': 0.2950174764401369, 'e053': 0.5864310019809376, 'e054': 0.6456252510702979, 'e073': 0.8102828007310595, 'e074': 0.7796761537631006}. Best is trial 53 with value: 0.7276931738219893.\u001b[0m\n",
      "2021-11-15 17:31:11,953 postprocessor.py     58   [INFO] [__call__] start postprocessing \n"
     ]
    },
    {
     "data": {
      "application/vnd.jupyter.widget-view+json": {
       "model_id": "4ff4fee2be324122af6992050808e24e",
       "version_major": 2,
       "version_minor": 0
      },
      "text/plain": [
       "  0%|          | 0/1114 [00:00<?, ?it/s]"
      ]
     },
     "metadata": {},
     "output_type": "display_data"
    },
    {
     "name": "stderr",
     "output_type": "stream",
     "text": [
      "\u001b[32m[I 2021-11-15 17:31:18,379]\u001b[0m Trial 81 finished with value: 0.7273905191656541 and parameters: {'e048': 0.17082666563796467, 'e049': 0.17534625284551253, 'e051': 0.4361252944697049, 'e053': 0.8185395267766897, 'e054': 0.4927850581214154, 'e073': 0.6860529180080094, 'e074': 0.8894249207595571}. Best is trial 53 with value: 0.7276931738219893.\u001b[0m\n",
      "2021-11-15 17:31:19,342 postprocessor.py     58   [INFO] [__call__] start postprocessing \n"
     ]
    },
    {
     "data": {
      "application/vnd.jupyter.widget-view+json": {
       "model_id": "ab0629b556a44236a11ed44f1c64adfc",
       "version_major": 2,
       "version_minor": 0
      },
      "text/plain": [
       "  0%|          | 0/1114 [00:00<?, ?it/s]"
      ]
     },
     "metadata": {},
     "output_type": "display_data"
    },
    {
     "name": "stderr",
     "output_type": "stream",
     "text": [
      "\u001b[32m[I 2021-11-15 17:31:25,825]\u001b[0m Trial 82 finished with value: 0.7267920751201724 and parameters: {'e048': 0.3095639380543751, 'e049': 0.1839438974326743, 'e051': 0.3511772539373071, 'e053': 0.8410029403132137, 'e054': 0.46887315202016877, 'e073': 0.7181604028099835, 'e074': 0.8524656315777491}. Best is trial 53 with value: 0.7276931738219893.\u001b[0m\n",
      "2021-11-15 17:31:26,792 postprocessor.py     58   [INFO] [__call__] start postprocessing \n"
     ]
    },
    {
     "data": {
      "application/vnd.jupyter.widget-view+json": {
       "model_id": "de3ea0036c884f21a07e3cfc25268935",
       "version_major": 2,
       "version_minor": 0
      },
      "text/plain": [
       "  0%|          | 0/1114 [00:00<?, ?it/s]"
      ]
     },
     "metadata": {},
     "output_type": "display_data"
    },
    {
     "name": "stderr",
     "output_type": "stream",
     "text": [
      "\u001b[32m[I 2021-11-15 17:31:34,083]\u001b[0m Trial 83 finished with value: 0.7266424641088021 and parameters: {'e048': 0.30922789724093436, 'e049': 0.14298955372608685, 'e051': 0.3196932270187859, 'e053': 0.8955602486378941, 'e054': 0.47493443812588854, 'e073': 0.7136947424152238, 'e074': 0.6946960581540111}. Best is trial 53 with value: 0.7276931738219893.\u001b[0m\n",
      "2021-11-15 17:31:35,042 postprocessor.py     58   [INFO] [__call__] start postprocessing \n"
     ]
    },
    {
     "data": {
      "application/vnd.jupyter.widget-view+json": {
       "model_id": "2a023435fc3449e08e16523c0c7beac1",
       "version_major": 2,
       "version_minor": 0
      },
      "text/plain": [
       "  0%|          | 0/1114 [00:00<?, ?it/s]"
      ]
     },
     "metadata": {},
     "output_type": "display_data"
    },
    {
     "name": "stderr",
     "output_type": "stream",
     "text": [
      "\u001b[32m[I 2021-11-15 17:31:42,301]\u001b[0m Trial 84 finished with value: 0.7275401301770247 and parameters: {'e048': 0.3117655198203015, 'e049': 0.14219297670079026, 'e051': 0.48990446330170934, 'e053': 0.8867100141343709, 'e054': 0.4810249093108568, 'e073': 0.7205413585451663, 'e074': 0.8345211207257296}. Best is trial 53 with value: 0.7276931738219893.\u001b[0m\n",
      "2021-11-15 17:31:43,266 postprocessor.py     58   [INFO] [__call__] start postprocessing \n"
     ]
    },
    {
     "data": {
      "application/vnd.jupyter.widget-view+json": {
       "model_id": "9d46a97963e54ce0a167793cb2a7cd8f",
       "version_major": 2,
       "version_minor": 0
      },
      "text/plain": [
       "  0%|          | 0/1114 [00:00<?, ?it/s]"
      ]
     },
     "metadata": {},
     "output_type": "display_data"
    },
    {
     "name": "stderr",
     "output_type": "stream",
     "text": [
      "\u001b[32m[I 2021-11-15 17:31:50,895]\u001b[0m Trial 85 finished with value: 0.7282881852338767 and parameters: {'e048': 0.24470182251174957, 'e049': 0.18327758058522126, 'e051': 0.6018597127129774, 'e053': 0.9358516660064731, 'e054': 0.5444006659908752, 'e073': 0.7885655940089449, 'e074': 0.921819328894451}. Best is trial 85 with value: 0.7282881852338767.\u001b[0m\n",
      "2021-11-15 17:31:51,889 postprocessor.py     58   [INFO] [__call__] start postprocessing \n"
     ]
    },
    {
     "data": {
      "application/vnd.jupyter.widget-view+json": {
       "model_id": "3b63a28c84d145578cc5875083abd5eb",
       "version_major": 2,
       "version_minor": 0
      },
      "text/plain": [
       "  0%|          | 0/1114 [00:00<?, ?it/s]"
      ]
     },
     "metadata": {},
     "output_type": "display_data"
    },
    {
     "name": "stderr",
     "output_type": "stream",
     "text": [
      "\u001b[32m[I 2021-11-15 17:31:59,683]\u001b[0m Trial 86 finished with value: 0.727689741188395 and parameters: {'e048': 0.23802823673402443, 'e049': 0.07514100974315976, 'e051': 0.7199447318400573, 'e053': 0.9435649830108341, 'e054': 0.576637623420527, 'e073': 0.7915418140620633, 'e074': 0.9790513706506638}. Best is trial 85 with value: 0.7282881852338767.\u001b[0m\n",
      "2021-11-15 17:32:00,650 postprocessor.py     58   [INFO] [__call__] start postprocessing \n"
     ]
    },
    {
     "data": {
      "application/vnd.jupyter.widget-view+json": {
       "model_id": "3510ba55718a4ea2aeab33b8bae21a53",
       "version_major": 2,
       "version_minor": 0
      },
      "text/plain": [
       "  0%|          | 0/1114 [00:00<?, ?it/s]"
      ]
     },
     "metadata": {},
     "output_type": "display_data"
    },
    {
     "name": "stderr",
     "output_type": "stream",
     "text": [
      "\u001b[32m[I 2021-11-15 17:32:08,336]\u001b[0m Trial 87 finished with value: 0.7290362402907289 and parameters: {'e048': 0.2399962564250631, 'e049': 0.07020220227096292, 'e051': 0.6217465707291432, 'e053': 0.9517404189086505, 'e054': 0.7026578809486754, 'e073': 0.9120345272365062, 'e074': 0.9816350323809153}. Best is trial 87 with value: 0.7290362402907289.\u001b[0m\n",
      "2021-11-15 17:32:09,302 postprocessor.py     58   [INFO] [__call__] start postprocessing \n"
     ]
    },
    {
     "data": {
      "application/vnd.jupyter.widget-view+json": {
       "model_id": "bad9344d361e408db169214bc77fd730",
       "version_major": 2,
       "version_minor": 0
      },
      "text/plain": [
       "  0%|          | 0/1114 [00:00<?, ?it/s]"
      ]
     },
     "metadata": {},
     "output_type": "display_data"
    },
    {
     "name": "stderr",
     "output_type": "stream",
     "text": [
      "\u001b[32m[I 2021-11-15 17:32:16,976]\u001b[0m Trial 88 finished with value: 0.7285980937574298 and parameters: {'e048': 0.2454007687893002, 'e049': 0.07695769600417644, 'e051': 0.7000440838467737, 'e053': 0.9433036154699009, 'e054': 0.7154245697016095, 'e073': 0.9808669285053095, 'e074': 0.9795022461130721}. Best is trial 87 with value: 0.7290362402907289.\u001b[0m\n",
      "2021-11-15 17:32:18,005 postprocessor.py     58   [INFO] [__call__] start postprocessing \n"
     ]
    },
    {
     "data": {
      "application/vnd.jupyter.widget-view+json": {
       "model_id": "54ebb311c1e04f3a981c43723e50dc1b",
       "version_major": 2,
       "version_minor": 0
      },
      "text/plain": [
       "  0%|          | 0/1114 [00:00<?, ?it/s]"
      ]
     },
     "metadata": {},
     "output_type": "display_data"
    }
   ],
   "source": [
    "import optuna\n",
    "study = optuna.create_study(direction='maximize')\n",
    "study.optimize(objective, n_trials=100)"
   ]
  },
  {
   "cell_type": "code",
   "execution_count": null,
   "id": "9f7dcd4b",
   "metadata": {},
   "outputs": [],
   "source": [
    "d=study.best_params \n",
    "v=study.best_value\n",
    "print(v, d)"
   ]
  },
  {
   "cell_type": "code",
   "execution_count": null,
   "id": "1fd68830",
   "metadata": {},
   "outputs": [],
   "source": []
  },
  {
   "cell_type": "code",
   "execution_count": null,
   "id": "2271302f",
   "metadata": {},
   "outputs": [],
   "source": []
  }
 ],
 "metadata": {
  "kernelspec": {
   "display_name": "Python 3 (ipykernel)",
   "language": "python",
   "name": "python3"
  },
  "language_info": {
   "codemirror_mode": {
    "name": "ipython",
    "version": 3
   },
   "file_extension": ".py",
   "mimetype": "text/x-python",
   "name": "python",
   "nbconvert_exporter": "python",
   "pygments_lexer": "ipython3",
   "version": "3.7.10"
  }
 },
 "nbformat": 4,
 "nbformat_minor": 5
}
