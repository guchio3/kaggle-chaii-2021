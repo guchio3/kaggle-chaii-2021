{
 "cells": [
  {
   "cell_type": "code",
   "execution_count": 8,
   "id": "9cb0286e",
   "metadata": {},
   "outputs": [
    {
     "name": "stdout",
     "output_type": "stream",
     "text": [
      "The autoreload extension is already loaded. To reload it, use:\n",
      "  %reload_ext autoreload\n"
     ]
    },
    {
     "name": "stderr",
     "output_type": "stream",
     "text": [
      "[autoreload of src.repository.data_repository failed: Traceback (most recent call last):\n",
      "  File \"/opt/conda/lib/python3.7/site-packages/IPython/extensions/autoreload.py\", line 245, in check\n",
      "    superreload(m, reload, self.old_objects)\n",
      "  File \"/opt/conda/lib/python3.7/site-packages/IPython/extensions/autoreload.py\", line 410, in superreload\n",
      "    update_generic(old_obj, new_obj)\n",
      "  File \"/opt/conda/lib/python3.7/site-packages/IPython/extensions/autoreload.py\", line 347, in update_generic\n",
      "    update(a, b)\n",
      "  File \"/opt/conda/lib/python3.7/site-packages/IPython/extensions/autoreload.py\", line 317, in update_class\n",
      "    update_instances(old, new)\n",
      "  File \"/opt/conda/lib/python3.7/site-packages/IPython/extensions/autoreload.py\", line 280, in update_instances\n",
      "    ref.__class__ = new\n",
      "  File \"<string>\", line 4, in __setattr__\n",
      "dataclasses.FrozenInstanceError: cannot assign to field '__class__'\n",
      "]\n"
     ]
    },
    {
     "data": {
      "text/html": [
       "<style>.container { width:90% !important; }</style>"
      ],
      "text/plain": [
       "<IPython.core.display.HTML object>"
      ]
     },
     "metadata": {},
     "output_type": "display_data"
    }
   ],
   "source": [
    "import sys\n",
    "import pandas as pd\n",
    "import numpy as np\n",
    "import torch\n",
    "\n",
    "sys.path.append(\"../\")\n",
    "from src.log import myLogger\n",
    "from src.repository.data_repository import DataRepository\n",
    "from src.checkpoint.checkpoint import Checkpoint\n",
    "\n",
    "pd.set_option(\"display.max_columns\", 300)\n",
    "pd.set_option(\"display.max_rows\", 600)\n",
    "\n",
    "%load_ext autoreload\n",
    "%autoreload 2\n",
    "\n",
    "from IPython.core.display import display, HTML\n",
    "display(HTML(\"<style>.container { width:90% !important; }</style>\"))\n",
    "%config InlineBackend.figure_formats = {'png', 'retina'}"
   ]
  },
  {
   "cell_type": "code",
   "execution_count": 9,
   "id": "1bae5c61",
   "metadata": {},
   "outputs": [
    {
     "name": "stderr",
     "output_type": "stream",
     "text": [
      "2021-10-23 14:04:38,361 log.py               29   [INFO] [__init__] skip wandb init \n",
      "2021-10-23 14:04:38,361 log.py               29   [INFO] [__init__] skip wandb init \n",
      "2021-10-23 14:04:38,361 log.py               29   [INFO] [__init__] skip wandb init \n",
      "2021-10-23 14:04:38,361 log.py               29   [INFO] [__init__] skip wandb init \n"
     ]
    }
   ],
   "source": [
    "logger = myLogger(\"../logs/temp.log\", exp_id=\"e000\", wdb_prj_id=\"temp\", exp_config=None, use_wdb=False) \n",
    "dr = DataRepository(logger=logger)"
   ]
  },
  {
   "cell_type": "code",
   "execution_count": 10,
   "id": "4a282037",
   "metadata": {},
   "outputs": [
    {
     "name": "stderr",
     "output_type": "stream",
     "text": [
      "2021-10-23 14:04:38,554 repository.py        120  [INFO] [__download_from_gcs] download data/checkpoint/e000/best_checkpoint/0_5_0.0871_0.0000.pkl from gs://kaggle-chaii-2021/../data/checkpoint/e000/best_checkpoint/0_5_0.0871_0.0000.pkl \n",
      "2021-10-23 14:04:38,554 repository.py        120  [INFO] [__download_from_gcs] download data/checkpoint/e000/best_checkpoint/0_5_0.0871_0.0000.pkl from gs://kaggle-chaii-2021/../data/checkpoint/e000/best_checkpoint/0_5_0.0871_0.0000.pkl \n",
      "2021-10-23 14:04:38,554 repository.py        120  [INFO] [__download_from_gcs] download data/checkpoint/e000/best_checkpoint/0_5_0.0871_0.0000.pkl from gs://kaggle-chaii-2021/../data/checkpoint/e000/best_checkpoint/0_5_0.0871_0.0000.pkl \n",
      "2021-10-23 14:04:38,554 repository.py        120  [INFO] [__download_from_gcs] download data/checkpoint/e000/best_checkpoint/0_5_0.0871_0.0000.pkl from gs://kaggle-chaii-2021/../data/checkpoint/e000/best_checkpoint/0_5_0.0871_0.0000.pkl \n"
     ]
    },
    {
     "name": "stdout",
     "output_type": "stream",
     "text": [
      "['data/checkpoint/e000/best_checkpoint/0_5_0.0871_0.0000.pkl', 'data/checkpoint/e000/best_checkpoint/1_3_0.0650_0.0677.pkl', 'data/checkpoint/e000/best_checkpoint/2_6_0.0538_0.0000.pkl', 'data/checkpoint/e000/best_checkpoint/3_4_0.0529_0.0012.pkl', 'data/checkpoint/e000/best_checkpoint/4_2_0.0423_0.0000.pkl']\n"
     ]
    },
    {
     "name": "stderr",
     "output_type": "stream",
     "text": [
      "2021-10-23 14:05:15,372 repository.py        126  [INFO] [__download_from_gcs] download done. \n",
      "2021-10-23 14:05:15,372 repository.py        126  [INFO] [__download_from_gcs] download done. \n",
      "2021-10-23 14:05:15,372 repository.py        126  [INFO] [__download_from_gcs] download done. \n",
      "2021-10-23 14:05:15,372 repository.py        126  [INFO] [__download_from_gcs] download done. \n"
     ]
    },
    {
     "ename": "TypeError",
     "evalue": "__init__() missing 2 required positional arguments: 'fold' and 'epoch'",
     "output_type": "error",
     "traceback": [
      "\u001b[0;31m---------------------------------------------------------------------------\u001b[0m",
      "\u001b[0;31mTypeError\u001b[0m                                 Traceback (most recent call last)",
      "\u001b[0;32m/tmp/ipykernel_49/2520885902.py\u001b[0m in \u001b[0;36m<module>\u001b[0;34m\u001b[0m\n\u001b[1;32m      1\u001b[0m \u001b[0mbest_checkpoints\u001b[0m \u001b[0;34m=\u001b[0m \u001b[0mdr\u001b[0m\u001b[0;34m.\u001b[0m\u001b[0mbest_checkpoint_filepaths\u001b[0m\u001b[0;34m(\u001b[0m\u001b[0;34m\"e000\"\u001b[0m\u001b[0;34m)\u001b[0m\u001b[0;34m\u001b[0m\u001b[0;34m\u001b[0m\u001b[0m\n\u001b[1;32m      2\u001b[0m \u001b[0mprint\u001b[0m\u001b[0;34m(\u001b[0m\u001b[0mbest_checkpoints\u001b[0m\u001b[0;34m)\u001b[0m\u001b[0;34m\u001b[0m\u001b[0;34m\u001b[0m\u001b[0m\n\u001b[0;32m----> 3\u001b[0;31m \u001b[0mcheckpoint\u001b[0m \u001b[0;34m=\u001b[0m \u001b[0mdr\u001b[0m\u001b[0;34m.\u001b[0m\u001b[0mload_checkpoint_from_filepath\u001b[0m\u001b[0;34m(\u001b[0m\u001b[0mfilepath\u001b[0m\u001b[0;34m=\u001b[0m\u001b[0;34m\"../\"\u001b[0m\u001b[0;34m+\u001b[0m\u001b[0mbest_checkpoints\u001b[0m\u001b[0;34m[\u001b[0m\u001b[0;36m0\u001b[0m\u001b[0;34m]\u001b[0m\u001b[0;34m,\u001b[0m \u001b[0mgcs_filepath\u001b[0m\u001b[0;34m=\u001b[0m\u001b[0mbest_checkpoints\u001b[0m\u001b[0;34m[\u001b[0m\u001b[0;36m0\u001b[0m\u001b[0;34m]\u001b[0m\u001b[0;34m,\u001b[0m \u001b[0mrm_local_after_load\u001b[0m\u001b[0;34m=\u001b[0m\u001b[0;32mTrue\u001b[0m\u001b[0;34m)\u001b[0m\u001b[0;34m\u001b[0m\u001b[0;34m\u001b[0m\u001b[0m\n\u001b[0m\u001b[1;32m      4\u001b[0m \u001b[0mdir\u001b[0m\u001b[0;34m(\u001b[0m\u001b[0mcheckpoint\u001b[0m\u001b[0;34m)\u001b[0m\u001b[0;34m\u001b[0m\u001b[0;34m\u001b[0m\u001b[0m\n",
      "\u001b[0;32m~/workspace/src/repository/data_repository.py\u001b[0m in \u001b[0;36mload_checkpoint_from_filepath\u001b[0;34m(self, filepath, gcs_filepath, rm_local_after_load)\u001b[0m\n\u001b[1;32m    138\u001b[0m                     \u001b[0mgcs_filepath\u001b[0m\u001b[0;34m=\u001b[0m\u001b[0mgcs_filepath\u001b[0m\u001b[0;34m,\u001b[0m\u001b[0;34m\u001b[0m\u001b[0;34m\u001b[0m\u001b[0m\n\u001b[1;32m    139\u001b[0m                     \u001b[0mmode\u001b[0m\u001b[0;34m=\u001b[0m\u001b[0;34m\"pkl\"\u001b[0m\u001b[0;34m,\u001b[0m\u001b[0;34m\u001b[0m\u001b[0;34m\u001b[0m\u001b[0m\n\u001b[0;32m--> 140\u001b[0;31m                     \u001b[0mrm_local_after_load\u001b[0m\u001b[0;34m=\u001b[0m\u001b[0mrm_local_after_load\u001b[0m\u001b[0;34m,\u001b[0m\u001b[0;34m\u001b[0m\u001b[0;34m\u001b[0m\u001b[0m\n\u001b[0m\u001b[1;32m    141\u001b[0m                 )\n\u001b[1;32m    142\u001b[0m             )\n",
      "\u001b[0;31mTypeError\u001b[0m: __init__() missing 2 required positional arguments: 'fold' and 'epoch'"
     ]
    }
   ],
   "source": [
    "best_checkpoints = dr.best_checkpoint_filepaths(\"e000\")\n",
    "print(best_checkpoints)\n",
    "checkpoint = dr.load_checkpoint_from_filepath(filepath=\"../\"+best_checkpoints[0], gcs_filepath=best_checkpoints[0], rm_local_after_load=True) \n",
    "dir(checkpoint)"
   ]
  },
  {
   "cell_type": "code",
   "execution_count": null,
   "id": "38895648",
   "metadata": {},
   "outputs": [],
   "source": []
  },
  {
   "cell_type": "code",
   "execution_count": null,
   "id": "2b3c52e5",
   "metadata": {},
   "outputs": [],
   "source": []
  },
  {
   "cell_type": "code",
   "execution_count": null,
   "id": "16b03437",
   "metadata": {},
   "outputs": [],
   "source": []
  }
 ],
 "metadata": {
  "kernelspec": {
   "display_name": "Python 3 (ipykernel)",
   "language": "python",
   "name": "python3"
  },
  "language_info": {
   "codemirror_mode": {
    "name": "ipython",
    "version": 3
   },
   "file_extension": ".py",
   "mimetype": "text/x-python",
   "name": "python",
   "nbconvert_exporter": "python",
   "pygments_lexer": "ipython3",
   "version": "3.7.10"
  }
 },
 "nbformat": 4,
 "nbformat_minor": 5
}
