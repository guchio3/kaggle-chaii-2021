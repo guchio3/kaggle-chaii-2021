{
 "cells": [
  {
   "cell_type": "code",
   "execution_count": 2,
   "id": "4d825f0e",
   "metadata": {
    "scrolled": false
   },
   "outputs": [
    {
     "data": {
      "text/html": [
       "<style>.container { width:90% !important; }</style>"
      ],
      "text/plain": [
       "<IPython.core.display.HTML object>"
      ]
     },
     "metadata": {},
     "output_type": "display_data"
    }
   ],
   "source": [
    "import sys\n",
    "import pandas as pd\n",
    "import json\n",
    "import numpy as np\n",
    "import torch\n",
    "from torch import Tensor\n",
    "import pickle\n",
    "from tqdm.auto import tqdm\n",
    "\n",
    "from matplotlib import pyplot as plt\n",
    "\n",
    "sys.path.append(\"../\")\n",
    "from src.log import myLogger\n",
    "from src.repository.data_repository import DataRepository\n",
    "from src.checkpoint.checkpoint import Checkpoint\n",
    "from src.metrics.jaccard import jaccard, calc_jaccard_mean\n",
    "\n",
    "pd.set_option(\"display.max_columns\", 300)\n",
    "pd.set_option(\"display.max_rows\", 600)\n",
    "\n",
    "%load_ext autoreload\n",
    "%autoreload 2\n",
    "\n",
    "from IPython.core.display import display, HTML\n",
    "display(HTML(\"<style>.container { width:90% !important; }</style>\"))\n",
    "%config InlineBackend.figure_formats = {'png', 'retina'}"
   ]
  },
  {
   "cell_type": "code",
   "execution_count": 3,
   "id": "f0a8b773",
   "metadata": {},
   "outputs": [
    {
     "name": "stderr",
     "output_type": "stream",
     "text": [
      "2021-11-15 16:55:02,777 log.py               31   [INFO] [__init__] skip wandb init \n"
     ]
    }
   ],
   "source": [
    "logger = myLogger(\"../logs/temp.log\", exp_id=\"e000\", wdb_prj_id=\"temp\", exp_config=None, use_wdb=False) \n",
    "dr = DataRepository(logger=logger, local_root_path=\"..\")"
   ]
  },
  {
   "cell_type": "code",
   "execution_count": 3,
   "id": "5cdcb613",
   "metadata": {
    "scrolled": true
   },
   "outputs": [
    {
     "name": "stderr",
     "output_type": "stream",
     "text": [
      "2021-11-15 15:54:57,957 data_repository.py   262  [INFO] [load_preprocessed_df] loading data/preprocessed/train_BaselineKernelPreprocessorV1_XLMRobertaTokenizerFast_400_True_135_False_False_False_False.pkl ... \n",
      "2021-11-15 15:55:00,934 data_repository.py   269  [INFO] [load_preprocessed_df] done. \n",
      "2021-11-15 15:55:00,935 data_repository.py   262  [INFO] [load_preprocessed_df] loading data/preprocessed/mlqa_hindi_BaselineKernelPreprocessorV1_XLMRobertaTokenizerFast_400_True_135_False_False_False_False.pkl ... \n",
      "2021-11-15 15:55:02,514 data_repository.py   269  [INFO] [load_preprocessed_df] done. \n",
      "2021-11-15 15:55:02,515 data_repository.py   262  [INFO] [load_preprocessed_df] loading data/preprocessed/xquad_BaselineKernelPreprocessorV1_XLMRobertaTokenizerFast_400_True_135_False_False_False_False.pkl ... \n",
      "2021-11-15 15:55:02,713 data_repository.py   269  [INFO] [load_preprocessed_df] done. \n"
     ]
    },
    {
     "data": {
      "text/html": [
       "<div>\n",
       "<style scoped>\n",
       "    .dataframe tbody tr th:only-of-type {\n",
       "        vertical-align: middle;\n",
       "    }\n",
       "\n",
       "    .dataframe tbody tr th {\n",
       "        vertical-align: top;\n",
       "    }\n",
       "\n",
       "    .dataframe thead th {\n",
       "        text-align: right;\n",
       "    }\n",
       "</style>\n",
       "<table border=\"1\" class=\"dataframe\">\n",
       "  <thead>\n",
       "    <tr style=\"text-align: right;\">\n",
       "      <th></th>\n",
       "      <th>id</th>\n",
       "      <th>context</th>\n",
       "      <th>question</th>\n",
       "      <th>answer_text</th>\n",
       "      <th>answer_start</th>\n",
       "      <th>language</th>\n",
       "      <th>top20_context</th>\n",
       "      <th>answer_text_count</th>\n",
       "      <th>input_ids</th>\n",
       "      <th>token_type_ids</th>\n",
       "      <th>attention_mask</th>\n",
       "      <th>sequence_ids</th>\n",
       "      <th>offset_mapping</th>\n",
       "      <th>overflowing_batch_id</th>\n",
       "      <th>duplicated_elems_num_with</th>\n",
       "      <th>part_answer_text_count</th>\n",
       "      <th>start_position</th>\n",
       "      <th>end_position</th>\n",
       "      <th>segmentation_position</th>\n",
       "      <th>is_contain_answer_text</th>\n",
       "    </tr>\n",
       "  </thead>\n",
       "  <tbody>\n",
       "    <tr>\n",
       "      <th>0</th>\n",
       "      <td>903deec17</td>\n",
       "      <td>ஒரு சாதாரண வளர்ந்த மனிதனுடைய எலும்புக்கூடு பின...</td>\n",
       "      <td>மனித உடலில் எத்தனை எலும்புகள் உள்ளன?</td>\n",
       "      <td>206</td>\n",
       "      <td>53</td>\n",
       "      <td>tamil</td>\n",
       "      <td>ஒரு சாதாரண வளர்ந்த ம</td>\n",
       "      <td>1</td>\n",
       "      <td>[0, 69535, 81049, 37368, 153264, 12095, 52989,...</td>\n",
       "      <td>[None, 0, 0, 0, 0, 0, 0, 0, 0, 0, 0, None, Non...</td>\n",
       "      <td>[1, 1, 1, 1, 1, 1, 1, 1, 1, 1, 1, 1, 1, 1, 1, ...</td>\n",
       "      <td>[0, 1, 2, 3, 4, 5, 6, 7, 8, 9, 10, 11, 12, 13,...</td>\n",
       "      <td>[(-1, -1), (-1, -1), (-1, -1), (-1, -1), (-1, ...</td>\n",
       "      <td>0</td>\n",
       "      <td>-1</td>\n",
       "      <td>1</td>\n",
       "      <td>27</td>\n",
       "      <td>27</td>\n",
       "      <td>[0, 0, 0, 0, 0, 0, 0, 0, 0, 0, 0, 0, 0, 0, 0, ...</td>\n",
       "      <td>1</td>\n",
       "    </tr>\n",
       "    <tr>\n",
       "      <th>1</th>\n",
       "      <td>903deec17</td>\n",
       "      <td>ஒரு சாதாரண வளர்ந்த மனிதனுடைய எலும்புக்கூடு பின...</td>\n",
       "      <td>மனித உடலில் எத்தனை எலும்புகள் உள்ளன?</td>\n",
       "      <td>206</td>\n",
       "      <td>53</td>\n",
       "      <td>tamil</td>\n",
       "      <td>ஒரு சாதாரண வளர்ந்த ம</td>\n",
       "      <td>1</td>\n",
       "      <td>[0, 69535, 81049, 37368, 153264, 12095, 52989,...</td>\n",
       "      <td>[None, 0, 0, 0, 0, 0, 0, 0, 0, 0, 0, None, Non...</td>\n",
       "      <td>[1, 1, 1, 1, 1, 1, 1, 1, 1, 1, 1, 1, 1, 1, 1, ...</td>\n",
       "      <td>[0, 1, 2, 3, 4, 5, 6, 7, 8, 9, 10, 11, 12, 13,...</td>\n",
       "      <td>[(-1, -1), (-1, -1), (-1, -1), (-1, -1), (-1, ...</td>\n",
       "      <td>1</td>\n",
       "      <td>-1</td>\n",
       "      <td>0</td>\n",
       "      <td>0</td>\n",
       "      <td>0</td>\n",
       "      <td>[1, 0, 0, 0, 0, 0, 0, 0, 0, 0, 0, 0, 0, 0, 0, ...</td>\n",
       "      <td>0</td>\n",
       "    </tr>\n",
       "    <tr>\n",
       "      <th>2</th>\n",
       "      <td>903deec17</td>\n",
       "      <td>ஒரு சாதாரண வளர்ந்த மனிதனுடைய எலும்புக்கூடு பின...</td>\n",
       "      <td>மனித உடலில் எத்தனை எலும்புகள் உள்ளன?</td>\n",
       "      <td>206</td>\n",
       "      <td>53</td>\n",
       "      <td>tamil</td>\n",
       "      <td>ஒரு சாதாரண வளர்ந்த ம</td>\n",
       "      <td>1</td>\n",
       "      <td>[0, 69535, 81049, 37368, 153264, 12095, 52989,...</td>\n",
       "      <td>[None, 0, 0, 0, 0, 0, 0, 0, 0, 0, 0, None, Non...</td>\n",
       "      <td>[1, 1, 1, 1, 1, 1, 1, 1, 1, 1, 1, 1, 1, 1, 1, ...</td>\n",
       "      <td>[0, 1, 2, 3, 4, 5, 6, 7, 8, 9, 10, 11, 12, 13,...</td>\n",
       "      <td>[(-1, -1), (-1, -1), (-1, -1), (-1, -1), (-1, ...</td>\n",
       "      <td>2</td>\n",
       "      <td>-1</td>\n",
       "      <td>0</td>\n",
       "      <td>0</td>\n",
       "      <td>0</td>\n",
       "      <td>[1, 0, 0, 0, 0, 0, 0, 0, 0, 0, 0, 0, 0, 0, 0, ...</td>\n",
       "      <td>0</td>\n",
       "    </tr>\n",
       "    <tr>\n",
       "      <th>3</th>\n",
       "      <td>903deec17</td>\n",
       "      <td>ஒரு சாதாரண வளர்ந்த மனிதனுடைய எலும்புக்கூடு பின...</td>\n",
       "      <td>மனித உடலில் எத்தனை எலும்புகள் உள்ளன?</td>\n",
       "      <td>206</td>\n",
       "      <td>53</td>\n",
       "      <td>tamil</td>\n",
       "      <td>ஒரு சாதாரண வளர்ந்த ம</td>\n",
       "      <td>1</td>\n",
       "      <td>[0, 69535, 81049, 37368, 153264, 12095, 52989,...</td>\n",
       "      <td>[None, 0, 0, 0, 0, 0, 0, 0, 0, 0, 0, None, Non...</td>\n",
       "      <td>[1, 1, 1, 1, 1, 1, 1, 1, 1, 1, 1, 1, 1, 1, 1, ...</td>\n",
       "      <td>[0, 1, 2, 3, 4, 5, 6, 7, 8, 9, 10, 11, 12, 13,...</td>\n",
       "      <td>[(-1, -1), (-1, -1), (-1, -1), (-1, -1), (-1, ...</td>\n",
       "      <td>3</td>\n",
       "      <td>-1</td>\n",
       "      <td>0</td>\n",
       "      <td>0</td>\n",
       "      <td>0</td>\n",
       "      <td>[1, 0, 0, 0, 0, 0, 0, 0, 0, 0, 0, 0, 0, 0, 0, ...</td>\n",
       "      <td>0</td>\n",
       "    </tr>\n",
       "    <tr>\n",
       "      <th>4</th>\n",
       "      <td>903deec17</td>\n",
       "      <td>ஒரு சாதாரண வளர்ந்த மனிதனுடைய எலும்புக்கூடு பின...</td>\n",
       "      <td>மனித உடலில் எத்தனை எலும்புகள் உள்ளன?</td>\n",
       "      <td>206</td>\n",
       "      <td>53</td>\n",
       "      <td>tamil</td>\n",
       "      <td>ஒரு சாதாரண வளர்ந்த ம</td>\n",
       "      <td>1</td>\n",
       "      <td>[0, 69535, 81049, 37368, 153264, 12095, 52989,...</td>\n",
       "      <td>[None, 0, 0, 0, 0, 0, 0, 0, 0, 0, 0, None, Non...</td>\n",
       "      <td>[1, 1, 1, 1, 1, 1, 1, 1, 1, 1, 1, 1, 1, 1, 1, ...</td>\n",
       "      <td>[0, 1, 2, 3, 4, 5, 6, 7, 8, 9, 10, 11, 12, 13,...</td>\n",
       "      <td>[(-1, -1), (-1, -1), (-1, -1), (-1, -1), (-1, ...</td>\n",
       "      <td>4</td>\n",
       "      <td>-1</td>\n",
       "      <td>0</td>\n",
       "      <td>0</td>\n",
       "      <td>0</td>\n",
       "      <td>[1, 0, 0, 0, 0, 0, 0, 0, 0, 0, 0, 0, 0, 0, 0, ...</td>\n",
       "      <td>0</td>\n",
       "    </tr>\n",
       "    <tr>\n",
       "      <th>...</th>\n",
       "      <td>...</td>\n",
       "      <td>...</td>\n",
       "      <td>...</td>\n",
       "      <td>...</td>\n",
       "      <td>...</td>\n",
       "      <td>...</td>\n",
       "      <td>...</td>\n",
       "      <td>...</td>\n",
       "      <td>...</td>\n",
       "      <td>...</td>\n",
       "      <td>...</td>\n",
       "      <td>...</td>\n",
       "      <td>...</td>\n",
       "      <td>...</td>\n",
       "      <td>...</td>\n",
       "      <td>...</td>\n",
       "      <td>...</td>\n",
       "      <td>...</td>\n",
       "      <td>...</td>\n",
       "      <td>...</td>\n",
       "    </tr>\n",
       "    <tr>\n",
       "      <th>22321</th>\n",
       "      <td>xquad_1185</td>\n",
       "      <td>विद्युत आवेश के परिवर्तन की समय दर के रूप में ...</td>\n",
       "      <td>इलेक्ट्रोस्टैटिक और चुंबकीय बल के योग के रूप क...</td>\n",
       "      <td>इलेक्ट्रोस्टैटिक बल</td>\n",
       "      <td>328</td>\n",
       "      <td>hindi</td>\n",
       "      <td>विद्युत आवेश के परिव</td>\n",
       "      <td>1</td>\n",
       "      <td>[0, 234186, 2284, 17433, 3045, 71683, 871, 369...</td>\n",
       "      <td>[None, 0, 0, 0, 0, 0, 0, 0, 0, 0, 0, 0, 0, 0, ...</td>\n",
       "      <td>[1, 1, 1, 1, 1, 1, 1, 1, 1, 1, 1, 1, 1, 1, 1, ...</td>\n",
       "      <td>[0, 1, 2, 3, 4, 5, 6, 7, 8, 9, 10, 11, 12, 13,...</td>\n",
       "      <td>[(-1, -1), (-1, -1), (-1, -1), (-1, -1), (-1, ...</td>\n",
       "      <td>0</td>\n",
       "      <td>-1</td>\n",
       "      <td>1</td>\n",
       "      <td>116</td>\n",
       "      <td>121</td>\n",
       "      <td>[0, 0, 0, 0, 0, 0, 0, 0, 0, 0, 0, 0, 0, 0, 0, ...</td>\n",
       "      <td>1</td>\n",
       "    </tr>\n",
       "    <tr>\n",
       "      <th>22322</th>\n",
       "      <td>xquad_1186</td>\n",
       "      <td>उस आयतन के लिए प्रासंगिक क्रॉस-सेक्शनल क्षेत्र...</td>\n",
       "      <td>संरचनाओं में तनाव का कारण क्या बनता है?</td>\n",
       "      <td>तनाव टेंसर</td>\n",
       "      <td>343</td>\n",
       "      <td>hindi</td>\n",
       "      <td>उस आयतन के लिए प्रास</td>\n",
       "      <td>1</td>\n",
       "      <td>[0, 120018, 11846, 421, 129558, 641, 6701, 600...</td>\n",
       "      <td>[None, 0, 0, 0, 0, 0, 0, 0, 0, 0, 0, 0, None, ...</td>\n",
       "      <td>[1, 1, 1, 1, 1, 1, 1, 1, 1, 1, 1, 1, 1, 1, 1, ...</td>\n",
       "      <td>[0, 1, 2, 3, 4, 5, 6, 7, 8, 9, 10, 11, 12, 13,...</td>\n",
       "      <td>[(-1, -1), (-1, -1), (-1, -1), (-1, -1), (-1, ...</td>\n",
       "      <td>0</td>\n",
       "      <td>-1</td>\n",
       "      <td>1</td>\n",
       "      <td>128</td>\n",
       "      <td>131</td>\n",
       "      <td>[0, 0, 0, 0, 0, 0, 0, 0, 0, 0, 0, 0, 0, 0, 0, ...</td>\n",
       "      <td>1</td>\n",
       "    </tr>\n",
       "    <tr>\n",
       "      <th>22323</th>\n",
       "      <td>xquad_1187</td>\n",
       "      <td>उस आयतन के लिए प्रासंगिक क्रॉस-सेक्शनल क्षेत्र...</td>\n",
       "      <td>किसी वस्तु के आयतन में क्रॉस सेक्शन क्षेत्र की...</td>\n",
       "      <td>दबाव की शर्तें</td>\n",
       "      <td>118</td>\n",
       "      <td>hindi</td>\n",
       "      <td>उस आयतन के लिए प्रास</td>\n",
       "      <td>1</td>\n",
       "      <td>[0, 12820, 89773, 287, 34889, 41420, 421, 4761...</td>\n",
       "      <td>[None, 0, 0, 0, 0, 0, 0, 0, 0, 0, 0, 0, 0, 0, ...</td>\n",
       "      <td>[1, 1, 1, 1, 1, 1, 1, 1, 1, 1, 1, 1, 1, 1, 1, ...</td>\n",
       "      <td>[0, 1, 2, 3, 4, 5, 6, 7, 8, 9, 10, 11, 12, 13,...</td>\n",
       "      <td>[(-1, -1), (-1, -1), (-1, -1), (-1, -1), (-1, ...</td>\n",
       "      <td>0</td>\n",
       "      <td>-1</td>\n",
       "      <td>1</td>\n",
       "      <td>66</td>\n",
       "      <td>68</td>\n",
       "      <td>[0, 0, 0, 0, 0, 0, 0, 0, 0, 0, 0, 0, 0, 0, 0, ...</td>\n",
       "      <td>1</td>\n",
       "    </tr>\n",
       "    <tr>\n",
       "      <th>22324</th>\n",
       "      <td>xquad_1188</td>\n",
       "      <td>उस आयतन के लिए प्रासंगिक क्रॉस-सेक्शनल क्षेत्र...</td>\n",
       "      <td>सामान्य ताकतों से क्या जुड़ा है?</td>\n",
       "      <td>दबाव की शर्तें</td>\n",
       "      <td>118</td>\n",
       "      <td>hindi</td>\n",
       "      <td>उस आयतन के लिए प्रास</td>\n",
       "      <td>1</td>\n",
       "      <td>[0, 38338, 217186, 1302, 646, 6004, 158371, 10...</td>\n",
       "      <td>[None, 0, 0, 0, 0, 0, 0, 0, 0, 0, None, None, ...</td>\n",
       "      <td>[1, 1, 1, 1, 1, 1, 1, 1, 1, 1, 1, 1, 1, 1, 1, ...</td>\n",
       "      <td>[0, 1, 2, 3, 4, 5, 6, 7, 8, 9, 10, 11, 12, 13,...</td>\n",
       "      <td>[(-1, -1), (-1, -1), (-1, -1), (-1, -1), (-1, ...</td>\n",
       "      <td>0</td>\n",
       "      <td>-1</td>\n",
       "      <td>1</td>\n",
       "      <td>51</td>\n",
       "      <td>53</td>\n",
       "      <td>[0, 0, 0, 0, 0, 0, 0, 0, 0, 0, 0, 0, 0, 0, 0, ...</td>\n",
       "      <td>1</td>\n",
       "    </tr>\n",
       "    <tr>\n",
       "      <th>22325</th>\n",
       "      <td>xquad_1189</td>\n",
       "      <td>उस आयतन के लिए प्रासंगिक क्रॉस-सेक्शनल क्षेत्र...</td>\n",
       "      <td>आयतन में क्षेत्र की गणना करते समय दबाव की क्या...</td>\n",
       "      <td>नियम-निष्ठता</td>\n",
       "      <td>101</td>\n",
       "      <td>hindi</td>\n",
       "      <td>उस आयतन के लिए प्रास</td>\n",
       "      <td>1</td>\n",
       "      <td>[0, 34889, 41420, 421, 10386, 471, 83369, 1748...</td>\n",
       "      <td>[None, 0, 0, 0, 0, 0, 0, 0, 0, 0, 0, 0, 0, 0, ...</td>\n",
       "      <td>[1, 1, 1, 1, 1, 1, 1, 1, 1, 1, 1, 1, 1, 1, 1, ...</td>\n",
       "      <td>[0, 1, 2, 3, 4, 5, 6, 7, 8, 9, 10, 11, 12, 13,...</td>\n",
       "      <td>[(-1, -1), (-1, -1), (-1, -1), (-1, -1), (-1, ...</td>\n",
       "      <td>0</td>\n",
       "      <td>-1</td>\n",
       "      <td>1</td>\n",
       "      <td>53</td>\n",
       "      <td>56</td>\n",
       "      <td>[0, 0, 0, 0, 0, 0, 0, 0, 0, 0, 0, 0, 0, 0, 0, ...</td>\n",
       "      <td>1</td>\n",
       "    </tr>\n",
       "  </tbody>\n",
       "</table>\n",
       "<p>22326 rows × 20 columns</p>\n",
       "</div>"
      ],
      "text/plain": [
       "               id                                            context  \\\n",
       "0       903deec17  ஒரு சாதாரண வளர்ந்த மனிதனுடைய எலும்புக்கூடு பின...   \n",
       "1       903deec17  ஒரு சாதாரண வளர்ந்த மனிதனுடைய எலும்புக்கூடு பின...   \n",
       "2       903deec17  ஒரு சாதாரண வளர்ந்த மனிதனுடைய எலும்புக்கூடு பின...   \n",
       "3       903deec17  ஒரு சாதாரண வளர்ந்த மனிதனுடைய எலும்புக்கூடு பின...   \n",
       "4       903deec17  ஒரு சாதாரண வளர்ந்த மனிதனுடைய எலும்புக்கூடு பின...   \n",
       "...           ...                                                ...   \n",
       "22321  xquad_1185  विद्युत आवेश के परिवर्तन की समय दर के रूप में ...   \n",
       "22322  xquad_1186  उस आयतन के लिए प्रासंगिक क्रॉस-सेक्शनल क्षेत्र...   \n",
       "22323  xquad_1187  उस आयतन के लिए प्रासंगिक क्रॉस-सेक्शनल क्षेत्र...   \n",
       "22324  xquad_1188  उस आयतन के लिए प्रासंगिक क्रॉस-सेक्शनल क्षेत्र...   \n",
       "22325  xquad_1189  उस आयतन के लिए प्रासंगिक क्रॉस-सेक्शनल क्षेत्र...   \n",
       "\n",
       "                                                question          answer_text  \\\n",
       "0                   மனித உடலில் எத்தனை எலும்புகள் உள்ளன?                  206   \n",
       "1                   மனித உடலில் எத்தனை எலும்புகள் உள்ளன?                  206   \n",
       "2                   மனித உடலில் எத்தனை எலும்புகள் உள்ளன?                  206   \n",
       "3                   மனித உடலில் எத்தனை எலும்புகள் உள்ளன?                  206   \n",
       "4                   மனித உடலில் எத்தனை எலும்புகள் உள்ளன?                  206   \n",
       "...                                                  ...                  ...   \n",
       "22321  इलेक्ट्रोस्टैटिक और चुंबकीय बल के योग के रूप क...  इलेक्ट्रोस्टैटिक बल   \n",
       "22322            संरचनाओं में तनाव का कारण क्या बनता है?           तनाव टेंसर   \n",
       "22323  किसी वस्तु के आयतन में क्रॉस सेक्शन क्षेत्र की...       दबाव की शर्तें   \n",
       "22324                    सामान्य ताकतों से क्या जुड़ा है?       दबाव की शर्तें   \n",
       "22325  आयतन में क्षेत्र की गणना करते समय दबाव की क्या...         नियम-निष्ठता   \n",
       "\n",
       "       answer_start language         top20_context  answer_text_count  \\\n",
       "0                53    tamil  ஒரு சாதாரண வளர்ந்த ம                  1   \n",
       "1                53    tamil  ஒரு சாதாரண வளர்ந்த ம                  1   \n",
       "2                53    tamil  ஒரு சாதாரண வளர்ந்த ம                  1   \n",
       "3                53    tamil  ஒரு சாதாரண வளர்ந்த ம                  1   \n",
       "4                53    tamil  ஒரு சாதாரண வளர்ந்த ம                  1   \n",
       "...             ...      ...                   ...                ...   \n",
       "22321           328    hindi  विद्युत आवेश के परिव                  1   \n",
       "22322           343    hindi  उस आयतन के लिए प्रास                  1   \n",
       "22323           118    hindi  उस आयतन के लिए प्रास                  1   \n",
       "22324           118    hindi  उस आयतन के लिए प्रास                  1   \n",
       "22325           101    hindi  उस आयतन के लिए प्रास                  1   \n",
       "\n",
       "                                               input_ids  \\\n",
       "0      [0, 69535, 81049, 37368, 153264, 12095, 52989,...   \n",
       "1      [0, 69535, 81049, 37368, 153264, 12095, 52989,...   \n",
       "2      [0, 69535, 81049, 37368, 153264, 12095, 52989,...   \n",
       "3      [0, 69535, 81049, 37368, 153264, 12095, 52989,...   \n",
       "4      [0, 69535, 81049, 37368, 153264, 12095, 52989,...   \n",
       "...                                                  ...   \n",
       "22321  [0, 234186, 2284, 17433, 3045, 71683, 871, 369...   \n",
       "22322  [0, 120018, 11846, 421, 129558, 641, 6701, 600...   \n",
       "22323  [0, 12820, 89773, 287, 34889, 41420, 421, 4761...   \n",
       "22324  [0, 38338, 217186, 1302, 646, 6004, 158371, 10...   \n",
       "22325  [0, 34889, 41420, 421, 10386, 471, 83369, 1748...   \n",
       "\n",
       "                                          token_type_ids  \\\n",
       "0      [None, 0, 0, 0, 0, 0, 0, 0, 0, 0, 0, None, Non...   \n",
       "1      [None, 0, 0, 0, 0, 0, 0, 0, 0, 0, 0, None, Non...   \n",
       "2      [None, 0, 0, 0, 0, 0, 0, 0, 0, 0, 0, None, Non...   \n",
       "3      [None, 0, 0, 0, 0, 0, 0, 0, 0, 0, 0, None, Non...   \n",
       "4      [None, 0, 0, 0, 0, 0, 0, 0, 0, 0, 0, None, Non...   \n",
       "...                                                  ...   \n",
       "22321  [None, 0, 0, 0, 0, 0, 0, 0, 0, 0, 0, 0, 0, 0, ...   \n",
       "22322  [None, 0, 0, 0, 0, 0, 0, 0, 0, 0, 0, 0, None, ...   \n",
       "22323  [None, 0, 0, 0, 0, 0, 0, 0, 0, 0, 0, 0, 0, 0, ...   \n",
       "22324  [None, 0, 0, 0, 0, 0, 0, 0, 0, 0, None, None, ...   \n",
       "22325  [None, 0, 0, 0, 0, 0, 0, 0, 0, 0, 0, 0, 0, 0, ...   \n",
       "\n",
       "                                          attention_mask  \\\n",
       "0      [1, 1, 1, 1, 1, 1, 1, 1, 1, 1, 1, 1, 1, 1, 1, ...   \n",
       "1      [1, 1, 1, 1, 1, 1, 1, 1, 1, 1, 1, 1, 1, 1, 1, ...   \n",
       "2      [1, 1, 1, 1, 1, 1, 1, 1, 1, 1, 1, 1, 1, 1, 1, ...   \n",
       "3      [1, 1, 1, 1, 1, 1, 1, 1, 1, 1, 1, 1, 1, 1, 1, ...   \n",
       "4      [1, 1, 1, 1, 1, 1, 1, 1, 1, 1, 1, 1, 1, 1, 1, ...   \n",
       "...                                                  ...   \n",
       "22321  [1, 1, 1, 1, 1, 1, 1, 1, 1, 1, 1, 1, 1, 1, 1, ...   \n",
       "22322  [1, 1, 1, 1, 1, 1, 1, 1, 1, 1, 1, 1, 1, 1, 1, ...   \n",
       "22323  [1, 1, 1, 1, 1, 1, 1, 1, 1, 1, 1, 1, 1, 1, 1, ...   \n",
       "22324  [1, 1, 1, 1, 1, 1, 1, 1, 1, 1, 1, 1, 1, 1, 1, ...   \n",
       "22325  [1, 1, 1, 1, 1, 1, 1, 1, 1, 1, 1, 1, 1, 1, 1, ...   \n",
       "\n",
       "                                            sequence_ids  \\\n",
       "0      [0, 1, 2, 3, 4, 5, 6, 7, 8, 9, 10, 11, 12, 13,...   \n",
       "1      [0, 1, 2, 3, 4, 5, 6, 7, 8, 9, 10, 11, 12, 13,...   \n",
       "2      [0, 1, 2, 3, 4, 5, 6, 7, 8, 9, 10, 11, 12, 13,...   \n",
       "3      [0, 1, 2, 3, 4, 5, 6, 7, 8, 9, 10, 11, 12, 13,...   \n",
       "4      [0, 1, 2, 3, 4, 5, 6, 7, 8, 9, 10, 11, 12, 13,...   \n",
       "...                                                  ...   \n",
       "22321  [0, 1, 2, 3, 4, 5, 6, 7, 8, 9, 10, 11, 12, 13,...   \n",
       "22322  [0, 1, 2, 3, 4, 5, 6, 7, 8, 9, 10, 11, 12, 13,...   \n",
       "22323  [0, 1, 2, 3, 4, 5, 6, 7, 8, 9, 10, 11, 12, 13,...   \n",
       "22324  [0, 1, 2, 3, 4, 5, 6, 7, 8, 9, 10, 11, 12, 13,...   \n",
       "22325  [0, 1, 2, 3, 4, 5, 6, 7, 8, 9, 10, 11, 12, 13,...   \n",
       "\n",
       "                                          offset_mapping  \\\n",
       "0      [(-1, -1), (-1, -1), (-1, -1), (-1, -1), (-1, ...   \n",
       "1      [(-1, -1), (-1, -1), (-1, -1), (-1, -1), (-1, ...   \n",
       "2      [(-1, -1), (-1, -1), (-1, -1), (-1, -1), (-1, ...   \n",
       "3      [(-1, -1), (-1, -1), (-1, -1), (-1, -1), (-1, ...   \n",
       "4      [(-1, -1), (-1, -1), (-1, -1), (-1, -1), (-1, ...   \n",
       "...                                                  ...   \n",
       "22321  [(-1, -1), (-1, -1), (-1, -1), (-1, -1), (-1, ...   \n",
       "22322  [(-1, -1), (-1, -1), (-1, -1), (-1, -1), (-1, ...   \n",
       "22323  [(-1, -1), (-1, -1), (-1, -1), (-1, -1), (-1, ...   \n",
       "22324  [(-1, -1), (-1, -1), (-1, -1), (-1, -1), (-1, ...   \n",
       "22325  [(-1, -1), (-1, -1), (-1, -1), (-1, -1), (-1, ...   \n",
       "\n",
       "       overflowing_batch_id  duplicated_elems_num_with  \\\n",
       "0                         0                         -1   \n",
       "1                         1                         -1   \n",
       "2                         2                         -1   \n",
       "3                         3                         -1   \n",
       "4                         4                         -1   \n",
       "...                     ...                        ...   \n",
       "22321                     0                         -1   \n",
       "22322                     0                         -1   \n",
       "22323                     0                         -1   \n",
       "22324                     0                         -1   \n",
       "22325                     0                         -1   \n",
       "\n",
       "       part_answer_text_count  start_position  end_position  \\\n",
       "0                           1              27            27   \n",
       "1                           0               0             0   \n",
       "2                           0               0             0   \n",
       "3                           0               0             0   \n",
       "4                           0               0             0   \n",
       "...                       ...             ...           ...   \n",
       "22321                       1             116           121   \n",
       "22322                       1             128           131   \n",
       "22323                       1              66            68   \n",
       "22324                       1              51            53   \n",
       "22325                       1              53            56   \n",
       "\n",
       "                                   segmentation_position  \\\n",
       "0      [0, 0, 0, 0, 0, 0, 0, 0, 0, 0, 0, 0, 0, 0, 0, ...   \n",
       "1      [1, 0, 0, 0, 0, 0, 0, 0, 0, 0, 0, 0, 0, 0, 0, ...   \n",
       "2      [1, 0, 0, 0, 0, 0, 0, 0, 0, 0, 0, 0, 0, 0, 0, ...   \n",
       "3      [1, 0, 0, 0, 0, 0, 0, 0, 0, 0, 0, 0, 0, 0, 0, ...   \n",
       "4      [1, 0, 0, 0, 0, 0, 0, 0, 0, 0, 0, 0, 0, 0, 0, ...   \n",
       "...                                                  ...   \n",
       "22321  [0, 0, 0, 0, 0, 0, 0, 0, 0, 0, 0, 0, 0, 0, 0, ...   \n",
       "22322  [0, 0, 0, 0, 0, 0, 0, 0, 0, 0, 0, 0, 0, 0, 0, ...   \n",
       "22323  [0, 0, 0, 0, 0, 0, 0, 0, 0, 0, 0, 0, 0, 0, 0, ...   \n",
       "22324  [0, 0, 0, 0, 0, 0, 0, 0, 0, 0, 0, 0, 0, 0, 0, ...   \n",
       "22325  [0, 0, 0, 0, 0, 0, 0, 0, 0, 0, 0, 0, 0, 0, 0, ...   \n",
       "\n",
       "       is_contain_answer_text  \n",
       "0                           1  \n",
       "1                           0  \n",
       "2                           0  \n",
       "3                           0  \n",
       "4                           0  \n",
       "...                       ...  \n",
       "22321                       1  \n",
       "22322                       1  \n",
       "22323                       1  \n",
       "22324                       1  \n",
       "22325                       1  \n",
       "\n",
       "[22326 rows x 20 columns]"
      ]
     },
     "execution_count": 3,
     "metadata": {},
     "output_type": "execute_result"
    }
   ],
   "source": [
    "import pickle\n",
    "\n",
    "train_prep_df = dr.load_preprocessed_df(\n",
    "          dataset_name=\"train\",                                                                                                                                                                                                                                   \n",
    "          class_name=\"BaselineKernelPreprocessorV1\",\n",
    "          tokenizer_name=\"XLMRobertaTokenizerFast\",\n",
    "          max_length=400,\n",
    "          pad_on_right=True,\n",
    "          stride=135,\n",
    "          split=False,\n",
    "          lstrip=False,\n",
    "          use_language_as_question=False,\n",
    "          add_overflowing_batch_id=False,\n",
    "    )\n",
    "\n",
    "# mlqa_hindi_prep_df = dr.load_preprocessed_df(\n",
    "#           dataset_name=\"mlqa_hindi\",                                                                                                                                                                                                                                   \n",
    "#           class_name=\"BaselineKernelPreprocessorV1\",\n",
    "#           tokenizer_name=\"XLMRobertaTokenizerFast\",\n",
    "#           max_length=400,\n",
    "#           pad_on_right=True,\n",
    "#           stride=135,\n",
    "#           split=False,\n",
    "#           lstrip=False,\n",
    "#           use_language_as_question=False,\n",
    "#           add_overflowing_batch_id=False,\n",
    "#     )\n",
    "# \n",
    "# xquad_prep_df = dr.load_preprocessed_df(\n",
    "#           dataset_name=\"xquad\",                                                                                                                                                                                                                                   \n",
    "#           class_name=\"BaselineKernelPreprocessorV1\",\n",
    "#           tokenizer_name=\"XLMRobertaTokenizerFast\",\n",
    "#           max_length=400,\n",
    "#           pad_on_right=True,\n",
    "#           stride=135,\n",
    "#           split=False,\n",
    "#           lstrip=False,\n",
    "#           use_language_as_question=False,\n",
    "#           add_overflowing_batch_id=False,\n",
    "#     )\n",
    "# \n",
    "# prep_df = pd.concat([train_prep_df, mlqa_hindi_prep_df, xquad_prep_df], axis=0).reset_index(drop=True)\n",
    "prep_df = train_prep_df\n",
    "prep_df"
   ]
  },
  {
   "cell_type": "markdown",
   "id": "1cee1825",
   "metadata": {},
   "source": [
    "#### load values"
   ]
  },
  {
   "cell_type": "code",
   "execution_count": 4,
   "id": "6600aac9",
   "metadata": {
    "scrolled": true
   },
   "outputs": [
    {
     "data": {
      "application/vnd.jupyter.widget-view+json": {
       "model_id": "70146366ac0343bea547190bbd7addb7",
       "version_major": 2,
       "version_minor": 0
      },
      "text/plain": [
       "  0%|          | 0/7 [00:00<?, ?it/s]"
      ]
     },
     "metadata": {},
     "output_type": "display_data"
    },
    {
     "data": {
      "application/vnd.jupyter.widget-view+json": {
       "model_id": "b8d35ca878ea4d1da62e39db4f24dedf",
       "version_major": 2,
       "version_minor": 0
      },
      "text/plain": [
       "  0%|          | 0/5 [00:00<?, ?it/s]"
      ]
     },
     "metadata": {},
     "output_type": "display_data"
    },
    {
     "name": "stderr",
     "output_type": "stream",
     "text": [
      "2021-11-15 15:55:03,332 repository.py        167  [INFO] [__download_from_gcs] downloading data/checkpoint/e048/best_checkpoint/0_0_0.7522_0.6789.pkl from gs://kaggle-chaii-2021/../data/checkpoint/e048/best_checkpoint/0_0_0.7522_0.6789.pkl \n",
      "2021-11-15 15:55:55,740 repository.py        176  [INFO] [__download_from_gcs] download done. \n",
      "2021-11-15 15:56:18,942 repository.py        167  [INFO] [__download_from_gcs] downloading data/checkpoint/e048/best_checkpoint/2_2_0.8895_0.7167.pkl from gs://kaggle-chaii-2021/../data/checkpoint/e048/best_checkpoint/2_2_0.8895_0.7167.pkl \n",
      "2021-11-15 15:57:13,189 repository.py        176  [INFO] [__download_from_gcs] download done. \n",
      "2021-11-15 15:57:20,479 repository.py        167  [INFO] [__download_from_gcs] downloading data/checkpoint/e048/best_checkpoint/3_1_0.7929_0.6597.pkl from gs://kaggle-chaii-2021/../data/checkpoint/e048/best_checkpoint/3_1_0.7929_0.6597.pkl \n",
      "2021-11-15 15:58:08,342 repository.py        176  [INFO] [__download_from_gcs] download done. \n",
      "2021-11-15 15:58:15,490 repository.py        167  [INFO] [__download_from_gcs] downloading data/checkpoint/e048/best_checkpoint/4_2_0.7858_0.6961.pkl from gs://kaggle-chaii-2021/../data/checkpoint/e048/best_checkpoint/4_2_0.7858_0.6961.pkl \n",
      "2021-11-15 15:59:05,687 repository.py        176  [INFO] [__download_from_gcs] download done. \n"
     ]
    },
    {
     "data": {
      "application/vnd.jupyter.widget-view+json": {
       "model_id": "e2aa77131972452bbfc73bbb652d99cb",
       "version_major": 2,
       "version_minor": 0
      },
      "text/plain": [
       "  0%|          | 0/5 [00:00<?, ?it/s]"
      ]
     },
     "metadata": {},
     "output_type": "display_data"
    },
    {
     "name": "stderr",
     "output_type": "stream",
     "text": [
      "2021-11-15 15:59:15,579 repository.py        167  [INFO] [__download_from_gcs] downloading data/checkpoint/e049/best_checkpoint/0_0_2.0046_0.6503.pkl from gs://kaggle-chaii-2021/../data/checkpoint/e049/best_checkpoint/0_0_2.0046_0.6503.pkl \n",
      "2021-11-15 16:00:04,996 repository.py        176  [INFO] [__download_from_gcs] download done. \n",
      "2021-11-15 16:00:11,539 repository.py        167  [INFO] [__download_from_gcs] downloading data/checkpoint/e049/best_checkpoint/1_0_2.0477_0.7238.pkl from gs://kaggle-chaii-2021/../data/checkpoint/e049/best_checkpoint/1_0_2.0477_0.7238.pkl \n",
      "2021-11-15 16:01:03,330 repository.py        176  [INFO] [__download_from_gcs] download done. \n",
      "2021-11-15 16:01:10,590 repository.py        167  [INFO] [__download_from_gcs] downloading data/checkpoint/e049/best_checkpoint/2_1_2.1020_0.6980.pkl from gs://kaggle-chaii-2021/../data/checkpoint/e049/best_checkpoint/2_1_2.1020_0.6980.pkl \n",
      "2021-11-15 16:02:04,249 repository.py        176  [INFO] [__download_from_gcs] download done. \n",
      "2021-11-15 16:02:11,368 repository.py        167  [INFO] [__download_from_gcs] downloading data/checkpoint/e049/best_checkpoint/3_1_2.0044_0.6728.pkl from gs://kaggle-chaii-2021/../data/checkpoint/e049/best_checkpoint/3_1_2.0044_0.6728.pkl \n",
      "2021-11-15 16:03:02,048 repository.py        176  [INFO] [__download_from_gcs] download done. \n",
      "2021-11-15 16:03:08,966 repository.py        167  [INFO] [__download_from_gcs] downloading data/checkpoint/e049/best_checkpoint/4_0_1.7282_0.6246.pkl from gs://kaggle-chaii-2021/../data/checkpoint/e049/best_checkpoint/4_0_1.7282_0.6246.pkl \n",
      "2021-11-15 16:04:00,563 repository.py        176  [INFO] [__download_from_gcs] download done. \n"
     ]
    },
    {
     "data": {
      "application/vnd.jupyter.widget-view+json": {
       "model_id": "a6b5fb2c5e754e2fb95d7722bf4735f2",
       "version_major": 2,
       "version_minor": 0
      },
      "text/plain": [
       "  0%|          | 0/5 [00:00<?, ?it/s]"
      ]
     },
     "metadata": {},
     "output_type": "display_data"
    },
    {
     "name": "stderr",
     "output_type": "stream",
     "text": [
      "2021-11-15 16:04:10,591 repository.py        167  [INFO] [__download_from_gcs] downloading data/checkpoint/e051/best_checkpoint/0_1_0.7396_0.6779.pkl from gs://kaggle-chaii-2021/../data/checkpoint/e051/best_checkpoint/0_1_0.7396_0.6779.pkl \n",
      "2021-11-15 16:05:07,367 repository.py        176  [INFO] [__download_from_gcs] download done. \n",
      "2021-11-15 16:05:13,965 repository.py        167  [INFO] [__download_from_gcs] downloading data/checkpoint/e051/best_checkpoint/1_2_0.7368_0.7394.pkl from gs://kaggle-chaii-2021/../data/checkpoint/e051/best_checkpoint/1_2_0.7368_0.7394.pkl \n",
      "2021-11-15 16:06:04,416 repository.py        176  [INFO] [__download_from_gcs] download done. \n",
      "2021-11-15 16:06:11,834 repository.py        167  [INFO] [__download_from_gcs] downloading data/checkpoint/e051/best_checkpoint/2_1_0.7624_0.7261.pkl from gs://kaggle-chaii-2021/../data/checkpoint/e051/best_checkpoint/2_1_0.7624_0.7261.pkl \n",
      "2021-11-15 16:06:59,767 repository.py        176  [INFO] [__download_from_gcs] download done. \n",
      "2021-11-15 16:07:06,856 repository.py        167  [INFO] [__download_from_gcs] downloading data/checkpoint/e051/best_checkpoint/3_2_0.8696_0.6829.pkl from gs://kaggle-chaii-2021/../data/checkpoint/e051/best_checkpoint/3_2_0.8696_0.6829.pkl \n",
      "2021-11-15 16:07:54,579 repository.py        176  [INFO] [__download_from_gcs] download done. \n",
      "2021-11-15 16:08:01,359 repository.py        167  [INFO] [__download_from_gcs] downloading data/checkpoint/e051/best_checkpoint/4_3_0.9152_0.6734.pkl from gs://kaggle-chaii-2021/../data/checkpoint/e051/best_checkpoint/4_3_0.9152_0.6734.pkl \n",
      "2021-11-15 16:08:49,939 repository.py        176  [INFO] [__download_from_gcs] download done. \n"
     ]
    },
    {
     "data": {
      "application/vnd.jupyter.widget-view+json": {
       "model_id": "3482c517078d404c9e61443f53d3dd52",
       "version_major": 2,
       "version_minor": 0
      },
      "text/plain": [
       "  0%|          | 0/5 [00:00<?, ?it/s]"
      ]
     },
     "metadata": {},
     "output_type": "display_data"
    },
    {
     "name": "stderr",
     "output_type": "stream",
     "text": [
      "2021-11-15 16:09:00,397 repository.py        167  [INFO] [__download_from_gcs] downloading data/checkpoint/e053/best_checkpoint/0_2_1.1210_0.6792.pkl from gs://kaggle-chaii-2021/../data/checkpoint/e053/best_checkpoint/0_2_1.1210_0.6792.pkl \n",
      "2021-11-15 16:09:50,868 repository.py        176  [INFO] [__download_from_gcs] download done. \n",
      "2021-11-15 16:09:57,480 repository.py        167  [INFO] [__download_from_gcs] downloading data/checkpoint/e053/best_checkpoint/1_0_0.9199_0.7300.pkl from gs://kaggle-chaii-2021/../data/checkpoint/e053/best_checkpoint/1_0_0.9199_0.7300.pkl \n",
      "2021-11-15 16:10:49,559 repository.py        176  [INFO] [__download_from_gcs] download done. \n",
      "2021-11-15 16:10:56,934 repository.py        167  [INFO] [__download_from_gcs] downloading data/checkpoint/e053/best_checkpoint/2_1_1.4980_0.7015.pkl from gs://kaggle-chaii-2021/../data/checkpoint/e053/best_checkpoint/2_1_1.4980_0.7015.pkl \n",
      "2021-11-15 16:11:47,111 repository.py        176  [INFO] [__download_from_gcs] download done. \n",
      "2021-11-15 16:11:54,518 repository.py        167  [INFO] [__download_from_gcs] downloading data/checkpoint/e053/best_checkpoint/3_1_1.3593_0.6728.pkl from gs://kaggle-chaii-2021/../data/checkpoint/e053/best_checkpoint/3_1_1.3593_0.6728.pkl \n",
      "2021-11-15 16:12:45,780 repository.py        176  [INFO] [__download_from_gcs] download done. \n",
      "2021-11-15 16:12:52,647 repository.py        167  [INFO] [__download_from_gcs] downloading data/checkpoint/e053/best_checkpoint/4_0_1.3492_0.6600.pkl from gs://kaggle-chaii-2021/../data/checkpoint/e053/best_checkpoint/4_0_1.3492_0.6600.pkl \n",
      "2021-11-15 16:13:43,553 repository.py        176  [INFO] [__download_from_gcs] download done. \n"
     ]
    },
    {
     "data": {
      "application/vnd.jupyter.widget-view+json": {
       "model_id": "aecf7b529f87485980cdfd7541b61868",
       "version_major": 2,
       "version_minor": 0
      },
      "text/plain": [
       "  0%|          | 0/5 [00:00<?, ?it/s]"
      ]
     },
     "metadata": {},
     "output_type": "display_data"
    },
    {
     "name": "stderr",
     "output_type": "stream",
     "text": [
      "2021-11-15 16:13:53,875 repository.py        167  [INFO] [__download_from_gcs] downloading data/checkpoint/e054/best_checkpoint/0_1_0.6810_0.6664.pkl from gs://kaggle-chaii-2021/../data/checkpoint/e054/best_checkpoint/0_1_0.6810_0.6664.pkl \n",
      "2021-11-15 16:14:42,170 repository.py        176  [INFO] [__download_from_gcs] download done. \n",
      "2021-11-15 16:14:49,033 repository.py        167  [INFO] [__download_from_gcs] downloading data/checkpoint/e054/best_checkpoint/1_3_0.8346_0.7394.pkl from gs://kaggle-chaii-2021/../data/checkpoint/e054/best_checkpoint/1_3_0.8346_0.7394.pkl \n",
      "2021-11-15 16:15:38,762 repository.py        176  [INFO] [__download_from_gcs] download done. \n",
      "2021-11-15 16:15:45,829 repository.py        167  [INFO] [__download_from_gcs] downloading data/checkpoint/e054/best_checkpoint/2_1_0.8445_0.7087.pkl from gs://kaggle-chaii-2021/../data/checkpoint/e054/best_checkpoint/2_1_0.8445_0.7087.pkl \n",
      "2021-11-15 16:16:40,898 repository.py        176  [INFO] [__download_from_gcs] download done. \n",
      "2021-11-15 16:18:27,138 repository.py        167  [INFO] [__download_from_gcs] downloading data/checkpoint/e054/best_checkpoint/3_1_0.8016_0.6891.pkl from gs://kaggle-chaii-2021/../data/checkpoint/e054/best_checkpoint/3_1_0.8016_0.6891.pkl \n",
      "2021-11-15 16:19:22,453 repository.py        176  [INFO] [__download_from_gcs] download done. \n",
      "2021-11-15 16:19:29,910 repository.py        167  [INFO] [__download_from_gcs] downloading data/checkpoint/e054/best_checkpoint/4_1_0.9532_0.6724.pkl from gs://kaggle-chaii-2021/../data/checkpoint/e054/best_checkpoint/4_1_0.9532_0.6724.pkl \n",
      "2021-11-15 16:20:19,317 repository.py        176  [INFO] [__download_from_gcs] download done. \n"
     ]
    },
    {
     "data": {
      "application/vnd.jupyter.widget-view+json": {
       "model_id": "8385c07854e04bcf81d2c8993e36270c",
       "version_major": 2,
       "version_minor": 0
      },
      "text/plain": [
       "  0%|          | 0/5 [00:00<?, ?it/s]"
      ]
     },
     "metadata": {},
     "output_type": "display_data"
    },
    {
     "name": "stderr",
     "output_type": "stream",
     "text": [
      "2021-11-15 16:20:29,454 repository.py        167  [INFO] [__download_from_gcs] downloading data/checkpoint/e073/best_checkpoint/0_2_14.0360_0.6704.pkl from gs://kaggle-chaii-2021/../data/checkpoint/e073/best_checkpoint/0_2_14.0360_0.6704.pkl \n",
      "2021-11-15 16:21:23,460 repository.py        176  [INFO] [__download_from_gcs] download done. \n",
      "2021-11-15 16:21:30,535 repository.py        167  [INFO] [__download_from_gcs] downloading data/checkpoint/e073/best_checkpoint/1_3_16.3359_0.6945.pkl from gs://kaggle-chaii-2021/../data/checkpoint/e073/best_checkpoint/1_3_16.3359_0.6945.pkl \n",
      "2021-11-15 16:22:21,838 repository.py        176  [INFO] [__download_from_gcs] download done. \n",
      "2021-11-15 16:22:29,621 repository.py        167  [INFO] [__download_from_gcs] downloading data/checkpoint/e073/best_checkpoint/2_1_11.6360_0.6879.pkl from gs://kaggle-chaii-2021/../data/checkpoint/e073/best_checkpoint/2_1_11.6360_0.6879.pkl \n",
      "2021-11-15 16:23:23,602 repository.py        176  [INFO] [__download_from_gcs] download done. \n",
      "2021-11-15 16:25:10,463 repository.py        167  [INFO] [__download_from_gcs] downloading data/checkpoint/e073/best_checkpoint/3_3_15.5467_0.6812.pkl from gs://kaggle-chaii-2021/../data/checkpoint/e073/best_checkpoint/3_3_15.5467_0.6812.pkl \n",
      "2021-11-15 16:26:07,888 repository.py        176  [INFO] [__download_from_gcs] download done. \n",
      "2021-11-15 16:27:50,937 repository.py        167  [INFO] [__download_from_gcs] downloading data/checkpoint/e073/best_checkpoint/4_1_13.2936_0.6645.pkl from gs://kaggle-chaii-2021/../data/checkpoint/e073/best_checkpoint/4_1_13.2936_0.6645.pkl \n",
      "2021-11-15 16:28:45,262 repository.py        176  [INFO] [__download_from_gcs] download done. \n"
     ]
    },
    {
     "data": {
      "application/vnd.jupyter.widget-view+json": {
       "model_id": "89a1847d30314c4aa95eadd123c391cd",
       "version_major": 2,
       "version_minor": 0
      },
      "text/plain": [
       "  0%|          | 0/5 [00:00<?, ?it/s]"
      ]
     },
     "metadata": {},
     "output_type": "display_data"
    },
    {
     "name": "stderr",
     "output_type": "stream",
     "text": [
      "2021-11-15 16:28:57,313 repository.py        167  [INFO] [__download_from_gcs] downloading data/checkpoint/e074/best_checkpoint/0_1_1.0233_0.6825.pkl from gs://kaggle-chaii-2021/../data/checkpoint/e074/best_checkpoint/0_1_1.0233_0.6825.pkl \n",
      "2021-11-15 16:29:54,388 repository.py        176  [INFO] [__download_from_gcs] download done. \n",
      "2021-11-15 16:30:01,384 repository.py        167  [INFO] [__download_from_gcs] downloading data/checkpoint/e074/best_checkpoint/1_0_1.2723_0.7165.pkl from gs://kaggle-chaii-2021/../data/checkpoint/e074/best_checkpoint/1_0_1.2723_0.7165.pkl \n",
      "2021-11-15 16:30:51,829 repository.py        176  [INFO] [__download_from_gcs] download done. \n",
      "2021-11-15 16:30:59,344 repository.py        167  [INFO] [__download_from_gcs] downloading data/checkpoint/e074/best_checkpoint/2_0_0.9045_0.7324.pkl from gs://kaggle-chaii-2021/../data/checkpoint/e074/best_checkpoint/2_0_0.9045_0.7324.pkl \n",
      "2021-11-15 16:31:48,954 repository.py        176  [INFO] [__download_from_gcs] download done. \n",
      "2021-11-15 16:31:56,163 repository.py        167  [INFO] [__download_from_gcs] downloading data/checkpoint/e074/best_checkpoint/3_2_1.4588_0.6960.pkl from gs://kaggle-chaii-2021/../data/checkpoint/e074/best_checkpoint/3_2_1.4588_0.6960.pkl \n",
      "2021-11-15 16:32:49,150 repository.py        176  [INFO] [__download_from_gcs] download done. \n",
      "2021-11-15 16:32:56,415 repository.py        167  [INFO] [__download_from_gcs] downloading data/checkpoint/e074/best_checkpoint/4_1_0.9637_0.6532.pkl from gs://kaggle-chaii-2021/../data/checkpoint/e074/best_checkpoint/4_1_0.9637_0.6532.pkl \n",
      "2021-11-15 16:33:49,956 repository.py        176  [INFO] [__download_from_gcs] download done. \n"
     ]
    }
   ],
   "source": [
    "import gc\n",
    "from collections import defaultdict\n",
    "from tqdm.auto import tqdm\n",
    "\n",
    "target_exp_ids = [\"e048\", \"e049\", \"e051\", \"e053\", \"e054\", \"e073\", \"e074\"]\n",
    "\n",
    "prep_dfs = {}\n",
    "\n",
    "for target_exp_id in tqdm(target_exp_ids):\n",
    "    checkpoint_info = defaultdict(list)\n",
    "\n",
    "    best_checkpoints = dr.best_checkpoint_filepaths(target_exp_id)\n",
    "    for best_checkpoint in tqdm(best_checkpoints):\n",
    "        exp_fold_checkpoint = dr.load_checkpoint_from_filepath(filepath_from_root=best_checkpoint, load_from_gcs=True, rm_local_after_load=True) \n",
    "        del exp_fold_checkpoint.model_state_dict\n",
    "        del exp_fold_checkpoint.scheduler_state_dict\n",
    "        del exp_fold_checkpoint.optimizer_state_dict\n",
    "        gc.collect()\n",
    "\n",
    "        checkpoint_info[\"val_ids\"].extend(exp_fold_checkpoint.val_ids)\n",
    "        checkpoint_info[\"val_start_logits\"].extend(exp_fold_checkpoint.val_start_logits)\n",
    "        checkpoint_info[\"val_end_logits\"].extend(exp_fold_checkpoint.val_end_logits)\n",
    "        del exp_fold_checkpoint\n",
    "        gc.collect()\n",
    "\n",
    "    val_start_logits = [np.asarray(logit) for logit in checkpoint_info[\"val_start_logits\"]]\n",
    "    val_end_logits = [np.asarray(logit) for logit in checkpoint_info[\"val_end_logits\"]]    \n",
    "    \n",
    "    checkpoint_df = pd.DataFrame()\n",
    "    checkpoint_df[\"id\"] = checkpoint_info[\"val_ids\"]\n",
    "    checkpoint_df[\"start_logits\"] = val_start_logits\n",
    "    checkpoint_df[\"end_logits\"] = val_end_logits\n",
    "\n",
    "    checkpoint_df[\"overflowing_batch_id\"] = None\n",
    "    bef_id = \"\"\n",
    "    overflowing_batch_id = 0\n",
    "    for i, row in checkpoint_df.iterrows():\n",
    "        if str(row[\"id\"]) != bef_id:\n",
    "            overflowing_batch_id = 0\n",
    "        checkpoint_df.loc[i, \"overflowing_batch_id\"] = overflowing_batch_id\n",
    "        bef_id = row[\"id\"]\n",
    "        overflowing_batch_id += 1    \n",
    "\n",
    "    prep_dfs[target_exp_id]= prep_df.merge(checkpoint_df, on=[\"id\", \"overflowing_batch_id\"], how=\"left\")        "
   ]
  },
  {
   "cell_type": "code",
   "execution_count": 6,
   "id": "b2833ebb",
   "metadata": {},
   "outputs": [],
   "source": [
    "import pickle\n",
    "\n",
    "with open(\"../data/dataset/optuna_ens/prep_dfs.pkl\", \"wb\") as fout:\n",
    "    pickle.dump(prep_dfs, fout)"
   ]
  },
  {
   "cell_type": "code",
   "execution_count": null,
   "id": "64165f5e",
   "metadata": {},
   "outputs": [],
   "source": []
  },
  {
   "cell_type": "markdown",
   "id": "4b00d42d",
   "metadata": {},
   "source": [
    "## optuna ensemble"
   ]
  },
  {
   "cell_type": "code",
   "execution_count": 4,
   "id": "18cc15e5",
   "metadata": {},
   "outputs": [],
   "source": [
    "import pickle\n",
    "\n",
    "with open(\"../data/dataset/optuna_ens/prep_dfs.pkl\", \"rb\") as fin:\n",
    "    prep_dfs = pickle.load(fin)"
   ]
  },
  {
   "cell_type": "code",
   "execution_count": 11,
   "id": "6dfdd2d8",
   "metadata": {},
   "outputs": [],
   "source": [
    "for k in prep_dfs:\n",
    "    prep_dfs[k] = prep_dfs[k][prep_dfs[k].start_logits.notnull()]"
   ]
  },
  {
   "cell_type": "code",
   "execution_count": 5,
   "id": "3da2f000",
   "metadata": {},
   "outputs": [],
   "source": [
    "optuna_exp_ids = [\"e048\", \"e049\", \"e051\", \"e053\", \"e054\", \"e074\"]"
   ]
  },
  {
   "cell_type": "code",
   "execution_count": 13,
   "id": "f4335357",
   "metadata": {},
   "outputs": [],
   "source": [
    "from src.postprocessor.factory import PostprocessorFactory\n",
    "\n",
    "postprocessor = PostprocessorFactory(\n",
    "    **{\n",
    "        \"postprocessor_type\": \"baseline_kernel\",\n",
    "        \"n_best_size\": 50,\n",
    "        \"max_answer_length\": 30,\n",
    "        \"use_chars_length\": False,\n",
    "        \"text_postprocess\": \"mypospro_ver1\",\n",
    "        \"use_multiprocess\": True,\n",
    "    },\n",
    "    logger=logger\n",
    ").create()"
   ]
  },
  {
   "cell_type": "code",
   "execution_count": 16,
   "id": "37f6edd5",
   "metadata": {},
   "outputs": [],
   "source": [
    "def objective(trial):\n",
    "    samples = [1./len(optuna_exp_ids)]*len(optuna_exp_ids)\n",
    "    for i in range(len(optuna_exp_ids)):\n",
    "        samples[i] = trial.suggest_uniform(optuna_exp_ids[i], 0, 1)\n",
    "    \n",
    "    w = [samples[i]/sum(samples) for i in range(len(samples))]\n",
    "    \n",
    "    ids = prep_dfs[optuna_exp_ids[0]][\"id\"]\n",
    "    contexts = prep_dfs[optuna_exp_ids[0]][\"context\"]\n",
    "    answer_texts = prep_dfs[optuna_exp_ids[0]][\"answer_text\"]\n",
    "    offset_mappings = prep_dfs[optuna_exp_ids[0]][\"offset_mapping\"]\n",
    "    \n",
    "    start_logits = w[0] * prep_dfs[optuna_exp_ids[0]][\"start_logits\"]\n",
    "    end_logits = w[0] * prep_dfs[optuna_exp_ids[0]][\"end_logits\"]\n",
    "    for i in range(1, len(optuna_exp_ids)):\n",
    "        start_logits += w[i] * prep_dfs[optuna_exp_ids[i]][\"start_logits\"]\n",
    "        end_logits += w[i] * prep_dfs[optuna_exp_ids[i]][\"end_logits\"]\n",
    "\n",
    "    pospro_ids, pospro_answer_texts, pospro_answer_preds = postprocessor(\n",
    "        ids=ids,\n",
    "        contexts=contexts,\n",
    "        answer_texts=answer_texts,\n",
    "        offset_mappings=offset_mappings,\n",
    "        start_logits=start_logits,\n",
    "        end_logits=end_logits,\n",
    "    )\n",
    "    val_jaccard = calc_jaccard_mean(\n",
    "        text_trues=pospro_answer_texts, text_preds=pospro_answer_preds\n",
    "    )\n",
    "    return val_jaccard"
   ]
  },
  {
   "cell_type": "code",
   "execution_count": 17,
   "id": "31535008",
   "metadata": {
    "scrolled": true
   },
   "outputs": [
    {
     "name": "stderr",
     "output_type": "stream",
     "text": [
      "\u001b[32m[I 2021-11-15 17:00:58,200]\u001b[0m A new study created in memory with name: no-name-8a0377c6-a7f1-48ee-b0f9-849faec447ae\u001b[0m\n",
      "2021-11-15 17:00:59,044 postprocessor.py     58   [INFO] [__call__] start postprocessing \n"
     ]
    },
    {
     "data": {
      "application/vnd.jupyter.widget-view+json": {
       "model_id": "46518194bb224690a1cfee83be8de4d1",
       "version_major": 2,
       "version_minor": 0
      },
      "text/plain": [
       "  0%|          | 0/1114 [00:00<?, ?it/s]"
      ]
     },
     "metadata": {},
     "output_type": "display_data"
    },
    {
     "name": "stderr",
     "output_type": "stream",
     "text": [
      "\u001b[32m[I 2021-11-15 17:01:05,879]\u001b[0m Trial 0 finished with value: 0.7147498135716273 and parameters: {'e048': 0.5502929832141426, 'e049': 0.43168291616513543, 'e051': 0.6044204888004738, 'e053': 0.7334008903474662, 'e054': 0.8556197667070702, 'e074': 0.4977937664705141}. Best is trial 0 with value: 0.7147498135716273.\u001b[0m\n",
      "2021-11-15 17:01:06,695 postprocessor.py     58   [INFO] [__call__] start postprocessing \n"
     ]
    },
    {
     "data": {
      "application/vnd.jupyter.widget-view+json": {
       "model_id": "2e3ccdb400ef4072898bb6e8ebe737f2",
       "version_major": 2,
       "version_minor": 0
      },
      "text/plain": [
       "  0%|          | 0/1114 [00:00<?, ?it/s]"
      ]
     },
     "metadata": {},
     "output_type": "display_data"
    },
    {
     "name": "stderr",
     "output_type": "stream",
     "text": [
      "\u001b[32m[I 2021-11-15 17:01:13,427]\u001b[0m Trial 1 finished with value: 0.7138365063522158 and parameters: {'e048': 0.6070504569936518, 'e049': 0.9416940983046302, 'e051': 0.24135888953063145, 'e053': 0.35608821803835267, 'e054': 0.9229751963375382, 'e074': 0.30650771572774127}. Best is trial 0 with value: 0.7147498135716273.\u001b[0m\n",
      "2021-11-15 17:01:14,259 postprocessor.py     58   [INFO] [__call__] start postprocessing \n"
     ]
    },
    {
     "data": {
      "application/vnd.jupyter.widget-view+json": {
       "model_id": "7e086279bc9c4e10a29284d8a0b4109d",
       "version_major": 2,
       "version_minor": 0
      },
      "text/plain": [
       "  0%|          | 0/1114 [00:00<?, ?it/s]"
      ]
     },
     "metadata": {},
     "output_type": "display_data"
    },
    {
     "name": "stderr",
     "output_type": "stream",
     "text": [
      "\u001b[32m[I 2021-11-15 17:01:21,062]\u001b[0m Trial 2 finished with value: 0.7127892292726228 and parameters: {'e048': 0.6565465113801295, 'e049': 0.9719227457935345, 'e051': 0.21556333254053728, 'e053': 0.32758573256604406, 'e054': 0.8861396592964907, 'e074': 0.45054198043705596}. Best is trial 0 with value: 0.7147498135716273.\u001b[0m\n",
      "2021-11-15 17:01:21,899 postprocessor.py     58   [INFO] [__call__] start postprocessing \n"
     ]
    },
    {
     "data": {
      "application/vnd.jupyter.widget-view+json": {
       "model_id": "b6698087092d43a09e62f3baf164d76a",
       "version_major": 2,
       "version_minor": 0
      },
      "text/plain": [
       "  0%|          | 0/1114 [00:00<?, ?it/s]"
      ]
     },
     "metadata": {},
     "output_type": "display_data"
    },
    {
     "name": "stderr",
     "output_type": "stream",
     "text": [
      "\u001b[32m[I 2021-11-15 17:01:28,702]\u001b[0m Trial 3 finished with value: 0.7134318118047923 and parameters: {'e048': 0.3626492991181637, 'e049': 0.22367784142521774, 'e051': 0.7853393075968241, 'e053': 0.5334919277268102, 'e054': 0.9202064364871073, 'e074': 0.48373515446942295}. Best is trial 0 with value: 0.7147498135716273.\u001b[0m\n",
      "2021-11-15 17:01:29,538 postprocessor.py     58   [INFO] [__call__] start postprocessing \n"
     ]
    },
    {
     "data": {
      "application/vnd.jupyter.widget-view+json": {
       "model_id": "26b1202702674413afcc6626dd5dd872",
       "version_major": 2,
       "version_minor": 0
      },
      "text/plain": [
       "  0%|          | 0/1114 [00:00<?, ?it/s]"
      ]
     },
     "metadata": {},
     "output_type": "display_data"
    },
    {
     "name": "stderr",
     "output_type": "stream",
     "text": [
      "\u001b[32m[I 2021-11-15 17:01:36,330]\u001b[0m Trial 4 finished with value: 0.7123553573396486 and parameters: {'e048': 0.9595778007864787, 'e049': 0.9834810614133314, 'e051': 0.3543088072271894, 'e053': 0.005581651202198001, 'e054': 0.5896362456069255, 'e074': 0.7097236005497932}. Best is trial 0 with value: 0.7147498135716273.\u001b[0m\n",
      "2021-11-15 17:01:37,162 postprocessor.py     58   [INFO] [__call__] start postprocessing \n"
     ]
    },
    {
     "data": {
      "application/vnd.jupyter.widget-view+json": {
       "model_id": "f6a213eaaa724371a0f31c76929aa245",
       "version_major": 2,
       "version_minor": 0
      },
      "text/plain": [
       "  0%|          | 0/1114 [00:00<?, ?it/s]"
      ]
     },
     "metadata": {},
     "output_type": "display_data"
    },
    {
     "name": "stderr",
     "output_type": "stream",
     "text": [
      "\u001b[32m[I 2021-11-15 17:01:43,938]\u001b[0m Trial 5 finished with value: 0.7114843103734488 and parameters: {'e048': 0.7020994098324218, 'e049': 0.7539022246150541, 'e051': 0.431161436983135, 'e053': 0.06677472515622507, 'e054': 0.02758201298081686, 'e074': 0.10542454264083778}. Best is trial 0 with value: 0.7147498135716273.\u001b[0m\n",
      "2021-11-15 17:01:44,771 postprocessor.py     58   [INFO] [__call__] start postprocessing \n"
     ]
    },
    {
     "data": {
      "application/vnd.jupyter.widget-view+json": {
       "model_id": "3862c2634d014ff3a08491031cc57ce4",
       "version_major": 2,
       "version_minor": 0
      },
      "text/plain": [
       "  0%|          | 0/1114 [00:00<?, ?it/s]"
      ]
     },
     "metadata": {},
     "output_type": "display_data"
    },
    {
     "name": "stderr",
     "output_type": "stream",
     "text": [
      "\u001b[32m[I 2021-11-15 17:01:51,572]\u001b[0m Trial 6 finished with value: 0.715939221112022 and parameters: {'e048': 0.7235427382831863, 'e049': 0.8305847985009132, 'e051': 0.8984063439925413, 'e053': 0.9772663869173562, 'e054': 0.3332997391126552, 'e074': 0.9862946854009378}. Best is trial 6 with value: 0.715939221112022.\u001b[0m\n",
      "2021-11-15 17:01:52,404 postprocessor.py     58   [INFO] [__call__] start postprocessing \n"
     ]
    },
    {
     "data": {
      "application/vnd.jupyter.widget-view+json": {
       "model_id": "64279cec7fba4676b5703b13bc652253",
       "version_major": 2,
       "version_minor": 0
      },
      "text/plain": [
       "  0%|          | 0/1114 [00:00<?, ?it/s]"
      ]
     },
     "metadata": {},
     "output_type": "display_data"
    },
    {
     "name": "stderr",
     "output_type": "stream",
     "text": [
      "\u001b[32m[I 2021-11-15 17:01:59,096]\u001b[0m Trial 7 finished with value: 0.7120486547663392 and parameters: {'e048': 0.9098444173272683, 'e049': 0.5827643774162098, 'e051': 0.007634572465706313, 'e053': 0.34461191135244673, 'e054': 0.71702465218697, 'e074': 0.4117942821690904}. Best is trial 6 with value: 0.715939221112022.\u001b[0m\n",
      "2021-11-15 17:01:59,909 postprocessor.py     58   [INFO] [__call__] start postprocessing \n"
     ]
    },
    {
     "data": {
      "application/vnd.jupyter.widget-view+json": {
       "model_id": "f7bf89f3865f45208ca6aaf27f91128c",
       "version_major": 2,
       "version_minor": 0
      },
      "text/plain": [
       "  0%|          | 0/1114 [00:00<?, ?it/s]"
      ]
     },
     "metadata": {},
     "output_type": "display_data"
    },
    {
     "name": "stderr",
     "output_type": "stream",
     "text": [
      "\u001b[32m[I 2021-11-15 17:02:06,781]\u001b[0m Trial 8 finished with value: 0.7179034323446355 and parameters: {'e048': 0.7585776791546684, 'e049': 0.8179515295130845, 'e051': 0.006896821561325761, 'e053': 0.06484697641703796, 'e054': 0.4819408535918299, 'e074': 0.7777651474124865}. Best is trial 8 with value: 0.7179034323446355.\u001b[0m\n",
      "2021-11-15 17:02:07,600 postprocessor.py     58   [INFO] [__call__] start postprocessing \n"
     ]
    },
    {
     "data": {
      "application/vnd.jupyter.widget-view+json": {
       "model_id": "94a7bc96c3e6478ba0e67ad209f657ac",
       "version_major": 2,
       "version_minor": 0
      },
      "text/plain": [
       "  0%|          | 0/1114 [00:00<?, ?it/s]"
      ]
     },
     "metadata": {},
     "output_type": "display_data"
    },
    {
     "name": "stderr",
     "output_type": "stream",
     "text": [
      "\u001b[32m[I 2021-11-15 17:02:14,278]\u001b[0m Trial 9 finished with value: 0.7235020577367977 and parameters: {'e048': 0.38055436660134445, 'e049': 0.30731947834052586, 'e051': 0.43970754298813053, 'e053': 0.01152033222029536, 'e054': 0.5433229283091494, 'e074': 0.6359987432110228}. Best is trial 9 with value: 0.7235020577367977.\u001b[0m\n",
      "2021-11-15 17:02:15,113 postprocessor.py     58   [INFO] [__call__] start postprocessing \n"
     ]
    },
    {
     "data": {
      "application/vnd.jupyter.widget-view+json": {
       "model_id": "a1a713670d5c4e9bb76a2c5685406a7d",
       "version_major": 2,
       "version_minor": 0
      },
      "text/plain": [
       "  0%|          | 0/1114 [00:00<?, ?it/s]"
      ]
     },
     "metadata": {},
     "output_type": "display_data"
    },
    {
     "name": "stderr",
     "output_type": "stream",
     "text": [
      "\u001b[32m[I 2021-11-15 17:02:21,845]\u001b[0m Trial 10 finished with value: 0.7252774417383936 and parameters: {'e048': 0.10210113022490197, 'e049': 0.013681492149474506, 'e051': 0.6370639706559915, 'e053': 0.6557801075544196, 'e054': 0.23481285696537074, 'e074': 0.7352217627788817}. Best is trial 10 with value: 0.7252774417383936.\u001b[0m\n",
      "2021-11-15 17:02:22,680 postprocessor.py     58   [INFO] [__call__] start postprocessing \n"
     ]
    },
    {
     "data": {
      "application/vnd.jupyter.widget-view+json": {
       "model_id": "a830face1e194eaf9714aff7a3ce49bc",
       "version_major": 2,
       "version_minor": 0
      },
      "text/plain": [
       "  0%|          | 0/1114 [00:00<?, ?it/s]"
      ]
     },
     "metadata": {},
     "output_type": "display_data"
    },
    {
     "name": "stderr",
     "output_type": "stream",
     "text": [
      "\u001b[32m[I 2021-11-15 17:02:29,402]\u001b[0m Trial 11 finished with value: 0.7254099543484646 and parameters: {'e048': 0.0030211189286296486, 'e049': 0.011803091695366948, 'e051': 0.6134310459363043, 'e053': 0.6915303043324376, 'e054': 0.22731058575133176, 'e074': 0.7256066815318031}. Best is trial 11 with value: 0.7254099543484646.\u001b[0m\n",
      "2021-11-15 17:02:30,243 postprocessor.py     58   [INFO] [__call__] start postprocessing \n"
     ]
    },
    {
     "data": {
      "application/vnd.jupyter.widget-view+json": {
       "model_id": "351e55b59868415f838850f448af9460",
       "version_major": 2,
       "version_minor": 0
      },
      "text/plain": [
       "  0%|          | 0/1114 [00:00<?, ?it/s]"
      ]
     },
     "metadata": {},
     "output_type": "display_data"
    },
    {
     "name": "stderr",
     "output_type": "stream",
     "text": [
      "\u001b[32m[I 2021-11-15 17:02:36,921]\u001b[0m Trial 12 finished with value: 0.7273698585974172 and parameters: {'e048': 0.015919377597656142, 'e049': 0.009858620923525083, 'e051': 0.6668580360262849, 'e053': 0.7204680271143717, 'e054': 0.1563960411311977, 'e074': 0.8405845917476349}. Best is trial 12 with value: 0.7273698585974172.\u001b[0m\n",
      "2021-11-15 17:02:37,769 postprocessor.py     58   [INFO] [__call__] start postprocessing \n"
     ]
    },
    {
     "data": {
      "application/vnd.jupyter.widget-view+json": {
       "model_id": "e3460504c0fb4f3c8452c0010223fc4b",
       "version_major": 2,
       "version_minor": 0
      },
      "text/plain": [
       "  0%|          | 0/1114 [00:00<?, ?it/s]"
      ]
     },
     "metadata": {},
     "output_type": "display_data"
    },
    {
     "name": "stderr",
     "output_type": "stream",
     "text": [
      "\u001b[32m[I 2021-11-15 17:02:44,574]\u001b[0m Trial 13 finished with value: 0.726921025563306 and parameters: {'e048': 0.01588912452616728, 'e049': 0.006253239030717426, 'e051': 0.7122046308626474, 'e053': 0.8460216339791327, 'e054': 0.1094495741640376, 'e074': 0.9368759182207204}. Best is trial 12 with value: 0.7273698585974172.\u001b[0m\n",
      "2021-11-15 17:02:45,447 postprocessor.py     58   [INFO] [__call__] start postprocessing \n"
     ]
    },
    {
     "data": {
      "application/vnd.jupyter.widget-view+json": {
       "model_id": "b254719d773f42429e897734ebf68c2b",
       "version_major": 2,
       "version_minor": 0
      },
      "text/plain": [
       "  0%|          | 0/1114 [00:00<?, ?it/s]"
      ]
     },
     "metadata": {},
     "output_type": "display_data"
    },
    {
     "name": "stderr",
     "output_type": "stream",
     "text": [
      "\u001b[32m[I 2021-11-15 17:02:52,184]\u001b[0m Trial 14 finished with value: 0.724035670344019 and parameters: {'e048': 0.2221862978930919, 'e049': 0.16944892205312992, 'e051': 0.9867581011971264, 'e053': 0.9467392316501853, 'e054': 0.04004308567974066, 'e074': 0.9490821152342752}. Best is trial 12 with value: 0.7273698585974172.\u001b[0m\n",
      "2021-11-15 17:02:53,024 postprocessor.py     58   [INFO] [__call__] start postprocessing \n"
     ]
    },
    {
     "data": {
      "application/vnd.jupyter.widget-view+json": {
       "model_id": "bf1bd8cc1cfa453287b15fc9a97c277d",
       "version_major": 2,
       "version_minor": 0
      },
      "text/plain": [
       "  0%|          | 0/1114 [00:00<?, ?it/s]"
      ]
     },
     "metadata": {},
     "output_type": "display_data"
    },
    {
     "name": "stderr",
     "output_type": "stream",
     "text": [
      "\u001b[32m[I 2021-11-15 17:02:59,681]\u001b[0m Trial 15 finished with value: 0.7269082017623313 and parameters: {'e048': 0.1964794461993555, 'e049': 0.14739531036256528, 'e051': 0.7867540588773261, 'e053': 0.8267535390525811, 'e054': 0.1835259710703356, 'e074': 0.8820387415561499}. Best is trial 12 with value: 0.7273698585974172.\u001b[0m\n",
      "2021-11-15 17:03:00,517 postprocessor.py     58   [INFO] [__call__] start postprocessing \n"
     ]
    },
    {
     "data": {
      "application/vnd.jupyter.widget-view+json": {
       "model_id": "36139b5079334c0e82f7fae077b78d42",
       "version_major": 2,
       "version_minor": 0
      },
      "text/plain": [
       "  0%|          | 0/1114 [00:00<?, ?it/s]"
      ]
     },
     "metadata": {},
     "output_type": "display_data"
    },
    {
     "name": "stderr",
     "output_type": "stream",
     "text": [
      "\u001b[32m[I 2021-11-15 17:03:07,316]\u001b[0m Trial 16 finished with value: 0.7219835059713878 and parameters: {'e048': 0.004333586499447338, 'e049': 0.3747794213569968, 'e051': 0.7900785390340019, 'e053': 0.8162320991758749, 'e054': 0.3888483069037905, 'e074': 0.8484311455856259}. Best is trial 12 with value: 0.7273698585974172.\u001b[0m\n",
      "2021-11-15 17:03:08,168 postprocessor.py     58   [INFO] [__call__] start postprocessing \n"
     ]
    },
    {
     "data": {
      "application/vnd.jupyter.widget-view+json": {
       "model_id": "c17b405f3b894ae8896d5862fa86f1a4",
       "version_major": 2,
       "version_minor": 0
      },
      "text/plain": [
       "  0%|          | 0/1114 [00:00<?, ?it/s]"
      ]
     },
     "metadata": {},
     "output_type": "display_data"
    },
    {
     "name": "stderr",
     "output_type": "stream",
     "text": [
      "\u001b[32m[I 2021-11-15 17:03:14,976]\u001b[0m Trial 17 finished with value: 0.7175999033382339 and parameters: {'e048': 0.363976961186928, 'e049': 0.5778743133078884, 'e051': 0.6771584825444208, 'e053': 0.5733258803860055, 'e054': 0.12175183810301096, 'e074': 0.6555506586184104}. Best is trial 12 with value: 0.7273698585974172.\u001b[0m\n",
      "2021-11-15 17:03:15,846 postprocessor.py     58   [INFO] [__call__] start postprocessing \n"
     ]
    },
    {
     "data": {
      "application/vnd.jupyter.widget-view+json": {
       "model_id": "8168281249974f359fd87a62444c54fa",
       "version_major": 2,
       "version_minor": 0
      },
      "text/plain": [
       "  0%|          | 0/1114 [00:00<?, ?it/s]"
      ]
     },
     "metadata": {},
     "output_type": "display_data"
    },
    {
     "name": "stderr",
     "output_type": "stream",
     "text": [
      "\u001b[32m[I 2021-11-15 17:03:22,655]\u001b[0m Trial 18 finished with value: 0.7252375454686948 and parameters: {'e048': 0.17055907147743488, 'e049': 0.1002711364211088, 'e051': 0.5449086570855132, 'e053': 0.8565156139236866, 'e054': 0.3298034318104065, 'e074': 0.8660613304340972}. Best is trial 12 with value: 0.7273698585974172.\u001b[0m\n",
      "2021-11-15 17:03:23,497 postprocessor.py     58   [INFO] [__call__] start postprocessing \n"
     ]
    },
    {
     "data": {
      "application/vnd.jupyter.widget-view+json": {
       "model_id": "af9506287c604047a0489502ce256110",
       "version_major": 2,
       "version_minor": 0
      },
      "text/plain": [
       "  0%|          | 0/1114 [00:00<?, ?it/s]"
      ]
     },
     "metadata": {},
     "output_type": "display_data"
    },
    {
     "name": "stderr",
     "output_type": "stream",
     "text": [
      "\u001b[32m[I 2021-11-15 17:03:30,252]\u001b[0m Trial 19 finished with value: 0.7197941981716671 and parameters: {'e048': 0.09502976760235318, 'e049': 0.27844243324487755, 'e051': 0.7155026232207202, 'e053': 0.45370215280362497, 'e054': 0.11904405159353204, 'e074': 0.5781381858833496}. Best is trial 12 with value: 0.7273698585974172.\u001b[0m\n",
      "2021-11-15 17:03:31,097 postprocessor.py     58   [INFO] [__call__] start postprocessing \n"
     ]
    },
    {
     "data": {
      "application/vnd.jupyter.widget-view+json": {
       "model_id": "32b2cbaca1cc475697abb9f0693cae9b",
       "version_major": 2,
       "version_minor": 0
      },
      "text/plain": [
       "  0%|          | 0/1114 [00:00<?, ?it/s]"
      ]
     },
     "metadata": {},
     "output_type": "display_data"
    },
    {
     "name": "stderr",
     "output_type": "stream",
     "text": [
      "\u001b[32m[I 2021-11-15 17:03:37,896]\u001b[0m Trial 20 finished with value: 0.7119157535562386 and parameters: {'e048': 0.25760450634389875, 'e049': 0.09002908999474662, 'e051': 0.8584025573025021, 'e053': 0.8989205364729866, 'e054': 0.3956174865502231, 'e074': 0.2238374813418434}. Best is trial 12 with value: 0.7273698585974172.\u001b[0m\n",
      "2021-11-15 17:03:38,733 postprocessor.py     58   [INFO] [__call__] start postprocessing \n"
     ]
    },
    {
     "data": {
      "application/vnd.jupyter.widget-view+json": {
       "model_id": "f2cf615a21c142dda25500dedc8e5faa",
       "version_major": 2,
       "version_minor": 0
      },
      "text/plain": [
       "  0%|          | 0/1114 [00:00<?, ?it/s]"
      ]
     },
     "metadata": {},
     "output_type": "display_data"
    },
    {
     "name": "stderr",
     "output_type": "stream",
     "text": [
      "\u001b[32m[I 2021-11-15 17:03:45,494]\u001b[0m Trial 21 finished with value: 0.7286287283930913 and parameters: {'e048': 0.11013209521909235, 'e049': 0.14113122021046978, 'e051': 0.7530394401462807, 'e053': 0.7803504338042894, 'e054': 0.20811040863510216, 'e074': 0.8619122199193797}. Best is trial 21 with value: 0.7286287283930913.\u001b[0m\n",
      "2021-11-15 17:03:46,375 postprocessor.py     58   [INFO] [__call__] start postprocessing \n"
     ]
    },
    {
     "data": {
      "application/vnd.jupyter.widget-view+json": {
       "model_id": "3b17668130a745abaea4eb2bbb2dcc69",
       "version_major": 2,
       "version_minor": 0
      },
      "text/plain": [
       "  0%|          | 0/1114 [00:00<?, ?it/s]"
      ]
     },
     "metadata": {},
     "output_type": "display_data"
    },
    {
     "name": "stderr",
     "output_type": "stream",
     "text": [
      "\u001b[32m[I 2021-11-15 17:03:53,097]\u001b[0m Trial 22 finished with value: 0.7245977802867393 and parameters: {'e048': 0.09433636010896096, 'e049': 0.009408015710409409, 'e051': 0.9288652670143361, 'e053': 0.7606128866623214, 'e054': 0.0017958440216243043, 'e074': 0.9970112562057427}. Best is trial 21 with value: 0.7286287283930913.\u001b[0m\n",
      "2021-11-15 17:03:53,937 postprocessor.py     58   [INFO] [__call__] start postprocessing \n"
     ]
    },
    {
     "data": {
      "application/vnd.jupyter.widget-view+json": {
       "model_id": "6f89407b4d4c417da9ef277ede690374",
       "version_major": 2,
       "version_minor": 0
      },
      "text/plain": [
       "  0%|          | 0/1114 [00:00<?, ?it/s]"
      ]
     },
     "metadata": {},
     "output_type": "display_data"
    },
    {
     "name": "stderr",
     "output_type": "stream",
     "text": [
      "\u001b[32m[I 2021-11-15 17:04:00,640]\u001b[0m Trial 23 finished with value: 0.727005448919722 and parameters: {'e048': 0.007767015583051451, 'e049': 0.20450029079212853, 'e051': 0.7510273880164142, 'e053': 0.6177089671099754, 'e054': 0.13450027879727594, 'e074': 0.8165941626044003}. Best is trial 21 with value: 0.7286287283930913.\u001b[0m\n",
      "2021-11-15 17:04:01,485 postprocessor.py     58   [INFO] [__call__] start postprocessing \n"
     ]
    },
    {
     "data": {
      "application/vnd.jupyter.widget-view+json": {
       "model_id": "644319ea9b814d5287fe99be9998fcef",
       "version_major": 2,
       "version_minor": 0
      },
      "text/plain": [
       "  0%|          | 0/1114 [00:00<?, ?it/s]"
      ]
     },
     "metadata": {},
     "output_type": "display_data"
    },
    {
     "name": "stderr",
     "output_type": "stream",
     "text": [
      "\u001b[32m[I 2021-11-15 17:04:08,297]\u001b[0m Trial 24 finished with value: 0.7257462229073542 and parameters: {'e048': 0.46109460480572745, 'e049': 0.23205033640538408, 'e051': 0.524966242461577, 'e053': 0.6192291046006935, 'e054': 0.2574040389511285, 'e074': 0.8087728364854301}. Best is trial 21 with value: 0.7286287283930913.\u001b[0m\n",
      "2021-11-15 17:04:09,141 postprocessor.py     58   [INFO] [__call__] start postprocessing \n"
     ]
    },
    {
     "data": {
      "application/vnd.jupyter.widget-view+json": {
       "model_id": "f40781fb4f944420bfc700fa7aa85578",
       "version_major": 2,
       "version_minor": 0
      },
      "text/plain": [
       "  0%|          | 0/1114 [00:00<?, ?it/s]"
      ]
     },
     "metadata": {},
     "output_type": "display_data"
    },
    {
     "name": "stderr",
     "output_type": "stream",
     "text": [
      "\u001b[32m[I 2021-11-15 17:04:15,950]\u001b[0m Trial 25 finished with value: 0.717699644012481 and parameters: {'e048': 0.28353556638251964, 'e049': 0.36090122274606373, 'e051': 0.8123638812300189, 'e053': 0.4329020605180148, 'e054': 0.17203400158406607, 'e074': 0.5783469609034271}. Best is trial 21 with value: 0.7286287283930913.\u001b[0m\n",
      "2021-11-15 17:04:16,795 postprocessor.py     58   [INFO] [__call__] start postprocessing \n"
     ]
    },
    {
     "data": {
      "application/vnd.jupyter.widget-view+json": {
       "model_id": "d2968b16758e42cd873a6778e4d7ae53",
       "version_major": 2,
       "version_minor": 0
      },
      "text/plain": [
       "  0%|          | 0/1114 [00:00<?, ?it/s]"
      ]
     },
     "metadata": {},
     "output_type": "display_data"
    },
    {
     "name": "stderr",
     "output_type": "stream",
     "text": [
      "\u001b[32m[I 2021-11-15 17:04:23,522]\u001b[0m Trial 26 finished with value: 0.7289279504158322 and parameters: {'e048': 0.12455308700178587, 'e049': 0.11185142129994001, 'e051': 0.7136251749400331, 'e053': 0.7480113212949494, 'e054': 0.2955265056848836, 'e074': 0.8905406188508255}. Best is trial 26 with value: 0.7289279504158322.\u001b[0m\n",
      "2021-11-15 17:04:24,375 postprocessor.py     58   [INFO] [__call__] start postprocessing \n"
     ]
    },
    {
     "data": {
      "application/vnd.jupyter.widget-view+json": {
       "model_id": "74ad29eeb6804d408644668f950ea0b2",
       "version_major": 2,
       "version_minor": 0
      },
      "text/plain": [
       "  0%|          | 0/1114 [00:00<?, ?it/s]"
      ]
     },
     "metadata": {},
     "output_type": "display_data"
    },
    {
     "name": "stderr",
     "output_type": "stream",
     "text": [
      "\u001b[32m[I 2021-11-15 17:04:31,094]\u001b[0m Trial 27 finished with value: 0.7280801546847331 and parameters: {'e048': 0.12188273899689785, 'e049': 0.10452332654708371, 'e051': 0.6012335929333148, 'e053': 0.7593124800673052, 'e054': 0.3070283275568628, 'e074': 0.9041593213740284}. Best is trial 26 with value: 0.7289279504158322.\u001b[0m\n",
      "2021-11-15 17:04:31,930 postprocessor.py     58   [INFO] [__call__] start postprocessing \n"
     ]
    },
    {
     "data": {
      "application/vnd.jupyter.widget-view+json": {
       "model_id": "86928c98fd1c4c2f94d7d8ed005253d8",
       "version_major": 2,
       "version_minor": 0
      },
      "text/plain": [
       "  0%|          | 0/1114 [00:00<?, ?it/s]"
      ]
     },
     "metadata": {},
     "output_type": "display_data"
    },
    {
     "name": "stderr",
     "output_type": "stream",
     "text": [
      "\u001b[32m[I 2021-11-15 17:04:38,705]\u001b[0m Trial 28 finished with value: 0.7253123509743801 and parameters: {'e048': 0.166060554100048, 'e049': 0.10892050891474186, 'e051': 0.46615597870268766, 'e053': 0.7734426881909876, 'e054': 0.4469858800433644, 'e074': 0.9316517390798048}. Best is trial 26 with value: 0.7289279504158322.\u001b[0m\n",
      "2021-11-15 17:04:39,555 postprocessor.py     58   [INFO] [__call__] start postprocessing \n"
     ]
    },
    {
     "data": {
      "application/vnd.jupyter.widget-view+json": {
       "model_id": "2e99996b239b4379ab7cd115d999c1e3",
       "version_major": 2,
       "version_minor": 0
      },
      "text/plain": [
       "  0%|          | 0/1114 [00:00<?, ?it/s]"
      ]
     },
     "metadata": {},
     "output_type": "display_data"
    },
    {
     "name": "stderr",
     "output_type": "stream",
     "text": [
      "\u001b[32m[I 2021-11-15 17:04:46,438]\u001b[0m Trial 29 finished with value: 0.7152185947405878 and parameters: {'e048': 0.4912359166391397, 'e049': 0.3934299444212125, 'e051': 0.572527612742503, 'e053': 0.9987913386622874, 'e054': 0.62516971974888, 'e074': 0.03440752232854244}. Best is trial 26 with value: 0.7289279504158322.\u001b[0m\n",
      "2021-11-15 17:04:47,288 postprocessor.py     58   [INFO] [__call__] start postprocessing \n"
     ]
    },
    {
     "data": {
      "application/vnd.jupyter.widget-view+json": {
       "model_id": "ea3b2f0b75fa473fa6cb07566f24fdbf",
       "version_major": 2,
       "version_minor": 0
      },
      "text/plain": [
       "  0%|          | 0/1114 [00:00<?, ?it/s]"
      ]
     },
     "metadata": {},
     "output_type": "display_data"
    },
    {
     "name": "stderr",
     "output_type": "stream",
     "text": [
      "\u001b[32m[I 2021-11-15 17:04:54,013]\u001b[0m Trial 30 finished with value: 0.7213651137910566 and parameters: {'e048': 0.3083221908300922, 'e049': 0.43601177204381053, 'e051': 0.8635874316635215, 'e053': 0.9045413709959681, 'e054': 0.3126865352919256, 'e074': 0.9062785681738184}. Best is trial 26 with value: 0.7289279504158322.\u001b[0m\n",
      "2021-11-15 17:04:54,859 postprocessor.py     58   [INFO] [__call__] start postprocessing \n"
     ]
    },
    {
     "data": {
      "application/vnd.jupyter.widget-view+json": {
       "model_id": "29d0b999e2364c5e812bee9d411932d8",
       "version_major": 2,
       "version_minor": 0
      },
      "text/plain": [
       "  0%|          | 0/1114 [00:00<?, ?it/s]"
      ]
     },
     "metadata": {},
     "output_type": "display_data"
    },
    {
     "name": "stderr",
     "output_type": "stream",
     "text": [
      "\u001b[32m[I 2021-11-15 17:05:01,572]\u001b[0m Trial 31 finished with value: 0.7269830072680166 and parameters: {'e048': 0.11796533826699801, 'e049': 0.08190156563617676, 'e051': 0.6535245220610486, 'e053': 0.718559176535092, 'e054': 0.29308387316194134, 'e074': 0.7745166877664792}. Best is trial 26 with value: 0.7289279504158322.\u001b[0m\n",
      "2021-11-15 17:05:02,418 postprocessor.py     58   [INFO] [__call__] start postprocessing \n"
     ]
    },
    {
     "data": {
      "application/vnd.jupyter.widget-view+json": {
       "model_id": "a87dbbc61d084cda802302358fe9fff1",
       "version_major": 2,
       "version_minor": 0
      },
      "text/plain": [
       "  0%|          | 0/1114 [00:00<?, ?it/s]"
      ]
     },
     "metadata": {},
     "output_type": "display_data"
    },
    {
     "name": "stderr",
     "output_type": "stream",
     "text": [
      "\u001b[32m[I 2021-11-15 17:05:09,221]\u001b[0m Trial 32 finished with value: 0.7276462827517588 and parameters: {'e048': 0.06838687191676265, 'e049': 0.1683227536475117, 'e051': 0.6014325953235654, 'e053': 0.721056743177332, 'e054': 0.3882520513441493, 'e074': 0.8474500424199214}. Best is trial 26 with value: 0.7289279504158322.\u001b[0m\n",
      "2021-11-15 17:05:10,074 postprocessor.py     58   [INFO] [__call__] start postprocessing \n"
     ]
    },
    {
     "data": {
      "application/vnd.jupyter.widget-view+json": {
       "model_id": "550afce2cc1c490fbf5b0dae7bf3f971",
       "version_major": 2,
       "version_minor": 0
      },
      "text/plain": [
       "  0%|          | 0/1114 [00:00<?, ?it/s]"
      ]
     },
     "metadata": {},
     "output_type": "display_data"
    },
    {
     "name": "stderr",
     "output_type": "stream",
     "text": [
      "\u001b[32m[I 2021-11-15 17:05:16,885]\u001b[0m Trial 33 finished with value: 0.7227988859833566 and parameters: {'e048': 0.14815257682683725, 'e049': 0.3076645656063052, 'e051': 0.38370091012852436, 'e053': 0.7835366325950643, 'e054': 0.38795692744433996, 'e074': 0.8892017300181578}. Best is trial 26 with value: 0.7289279504158322.\u001b[0m\n",
      "2021-11-15 17:05:17,737 postprocessor.py     58   [INFO] [__call__] start postprocessing \n"
     ]
    },
    {
     "data": {
      "application/vnd.jupyter.widget-view+json": {
       "model_id": "eb14fcceb6e5464d9e5a2f2d6e9ccd60",
       "version_major": 2,
       "version_minor": 0
      },
      "text/plain": [
       "  0%|          | 0/1114 [00:00<?, ?it/s]"
      ]
     },
     "metadata": {},
     "output_type": "display_data"
    },
    {
     "name": "stderr",
     "output_type": "stream",
     "text": [
      "\u001b[32m[I 2021-11-15 17:05:24,574]\u001b[0m Trial 34 finished with value: 0.7235170188379348 and parameters: {'e048': 0.10098927642423396, 'e049': 0.166164534688538, 'e051': 0.5808903836203805, 'e053': 0.6658414107942735, 'e054': 0.4498967455626976, 'e074': 0.6610525933866589}. Best is trial 26 with value: 0.7289279504158322.\u001b[0m\n",
      "2021-11-15 17:05:25,430 postprocessor.py     58   [INFO] [__call__] start postprocessing \n"
     ]
    },
    {
     "data": {
      "application/vnd.jupyter.widget-view+json": {
       "model_id": "e1d8d67e9a7a4e4eb2be446ac06f182c",
       "version_major": 2,
       "version_minor": 0
      },
      "text/plain": [
       "  0%|          | 0/1114 [00:00<?, ?it/s]"
      ]
     },
     "metadata": {},
     "output_type": "display_data"
    },
    {
     "name": "stderr",
     "output_type": "stream",
     "text": [
      "\u001b[32m[I 2021-11-15 17:05:32,261]\u001b[0m Trial 35 finished with value: 0.7230532247026865 and parameters: {'e048': 0.2501024162014873, 'e049': 0.2530908024298823, 'e051': 0.49679222013399593, 'e053': 0.20504533371420436, 'e054': 0.7601956924179677, 'e074': 0.7737103975117093}. Best is trial 26 with value: 0.7289279504158322.\u001b[0m\n",
      "2021-11-15 17:05:33,131 postprocessor.py     58   [INFO] [__call__] start postprocessing \n"
     ]
    },
    {
     "data": {
      "application/vnd.jupyter.widget-view+json": {
       "model_id": "4384681d250e4d7d81aa4e433debbca6",
       "version_major": 2,
       "version_minor": 0
      },
      "text/plain": [
       "  0%|          | 0/1114 [00:00<?, ?it/s]"
      ]
     },
     "metadata": {},
     "output_type": "display_data"
    },
    {
     "name": "stderr",
     "output_type": "stream",
     "text": [
      "\u001b[32m[I 2021-11-15 17:05:39,920]\u001b[0m Trial 36 finished with value: 0.7174353312257263 and parameters: {'e048': 0.05849908830769915, 'e049': 0.4793530921170678, 'e051': 0.7287466095672327, 'e053': 0.5281633066639115, 'e054': 0.5447758223578374, 'e074': 0.3794305995176272}. Best is trial 26 with value: 0.7289279504158322.\u001b[0m\n",
      "2021-11-15 17:05:40,767 postprocessor.py     58   [INFO] [__call__] start postprocessing \n"
     ]
    },
    {
     "data": {
      "application/vnd.jupyter.widget-view+json": {
       "model_id": "85101d1aa5084943ab7adf5f46fa1219",
       "version_major": 2,
       "version_minor": 0
      },
      "text/plain": [
       "  0%|          | 0/1114 [00:00<?, ?it/s]"
      ]
     },
     "metadata": {},
     "output_type": "display_data"
    },
    {
     "name": "stderr",
     "output_type": "stream",
     "text": [
      "\u001b[32m[I 2021-11-15 17:05:47,489]\u001b[0m Trial 37 finished with value: 0.7251953823654904 and parameters: {'e048': 0.4237878359487338, 'e049': 0.14485040255995077, 'e051': 0.355708488237132, 'e053': 0.5891146012053391, 'e054': 0.2778024308779651, 'e074': 0.9947503176351805}. Best is trial 26 with value: 0.7289279504158322.\u001b[0m\n",
      "2021-11-15 17:05:48,343 postprocessor.py     58   [INFO] [__call__] start postprocessing \n"
     ]
    },
    {
     "data": {
      "application/vnd.jupyter.widget-view+json": {
       "model_id": "a15913f3bd444b5bb5a370d01fa7ae51",
       "version_major": 2,
       "version_minor": 0
      },
      "text/plain": [
       "  0%|          | 0/1114 [00:00<?, ?it/s]"
      ]
     },
     "metadata": {},
     "output_type": "display_data"
    },
    {
     "name": "stderr",
     "output_type": "stream",
     "text": [
      "\u001b[32m[I 2021-11-15 17:05:55,154]\u001b[0m Trial 38 finished with value: 0.7203153431946075 and parameters: {'e048': 0.5645372496937324, 'e049': 0.06369904737359675, 'e051': 0.6007331946040428, 'e053': 0.9009675087099908, 'e054': 0.3562703130379532, 'e074': 0.5383234192691249}. Best is trial 26 with value: 0.7289279504158322.\u001b[0m\n",
      "2021-11-15 17:05:56,018 postprocessor.py     58   [INFO] [__call__] start postprocessing \n"
     ]
    },
    {
     "data": {
      "application/vnd.jupyter.widget-view+json": {
       "model_id": "8e277d3442ca4f43bf479a24aa6f9bdd",
       "version_major": 2,
       "version_minor": 0
      },
      "text/plain": [
       "  0%|          | 0/1114 [00:00<?, ?it/s]"
      ]
     },
     "metadata": {},
     "output_type": "display_data"
    },
    {
     "name": "stderr",
     "output_type": "stream",
     "text": [
      "\u001b[32m[I 2021-11-15 17:06:02,871]\u001b[0m Trial 39 finished with value: 0.7171485767872664 and parameters: {'e048': 0.3191340227056639, 'e049': 0.5684079743546838, 'e051': 0.14671517492079988, 'e053': 0.7301193732194939, 'e054': 0.21593578190740406, 'e074': 0.6881071535475151}. Best is trial 26 with value: 0.7289279504158322.\u001b[0m\n",
      "2021-11-15 17:06:03,745 postprocessor.py     58   [INFO] [__call__] start postprocessing \n"
     ]
    },
    {
     "data": {
      "application/vnd.jupyter.widget-view+json": {
       "model_id": "7ea24e6d15f9416a9f67017799058365",
       "version_major": 2,
       "version_minor": 0
      },
      "text/plain": [
       "  0%|          | 0/1114 [00:00<?, ?it/s]"
      ]
     },
     "metadata": {},
     "output_type": "display_data"
    },
    {
     "name": "stderr",
     "output_type": "stream",
     "text": [
      "\u001b[32m[I 2021-11-15 17:06:10,554]\u001b[0m Trial 40 finished with value: 0.7158729648069866 and parameters: {'e048': 0.20987982100101382, 'e049': 0.683540448685783, 'e051': 0.28548408678172815, 'e053': 0.462106043131591, 'e054': 0.9928225496350228, 'e074': 0.28415260373388235}. Best is trial 26 with value: 0.7289279504158322.\u001b[0m\n",
      "2021-11-15 17:06:11,387 postprocessor.py     58   [INFO] [__call__] start postprocessing \n"
     ]
    },
    {
     "data": {
      "application/vnd.jupyter.widget-view+json": {
       "model_id": "a037e26a0ea9460d8d29ca3459a7adca",
       "version_major": 2,
       "version_minor": 0
      },
      "text/plain": [
       "  0%|          | 0/1114 [00:00<?, ?it/s]"
      ]
     },
     "metadata": {},
     "output_type": "display_data"
    },
    {
     "name": "stderr",
     "output_type": "stream",
     "text": [
      "\u001b[32m[I 2021-11-15 17:06:18,107]\u001b[0m Trial 41 finished with value: 0.7284043118760356 and parameters: {'e048': 0.063621586121315, 'e049': 0.20630304051891457, 'e051': 0.6672507624238923, 'e053': 0.7249345162611662, 'e054': 0.18947218878026784, 'e074': 0.8421867335573034}. Best is trial 26 with value: 0.7289279504158322.\u001b[0m\n",
      "2021-11-15 17:06:18,942 postprocessor.py     58   [INFO] [__call__] start postprocessing \n"
     ]
    },
    {
     "data": {
      "application/vnd.jupyter.widget-view+json": {
       "model_id": "7c9b75d0db3a445f95a19221012265f0",
       "version_major": 2,
       "version_minor": 0
      },
      "text/plain": [
       "  0%|          | 0/1114 [00:00<?, ?it/s]"
      ]
     },
     "metadata": {},
     "output_type": "display_data"
    },
    {
     "name": "stderr",
     "output_type": "stream",
     "text": [
      "\u001b[32m[I 2021-11-15 17:06:25,725]\u001b[0m Trial 42 finished with value: 0.7288456643595783 and parameters: {'e048': 0.07540008282057173, 'e049': 0.19502268462174244, 'e051': 0.6817951565678532, 'e053': 0.6617693595473748, 'e054': 0.055279945892503984, 'e074': 0.9470340324324662}. Best is trial 26 with value: 0.7289279504158322.\u001b[0m\n",
      "2021-11-15 17:06:26,590 postprocessor.py     58   [INFO] [__call__] start postprocessing \n"
     ]
    },
    {
     "data": {
      "application/vnd.jupyter.widget-view+json": {
       "model_id": "7ca7b9af3e9a461a82edcd015dc00f38",
       "version_major": 2,
       "version_minor": 0
      },
      "text/plain": [
       "  0%|          | 0/1114 [00:00<?, ?it/s]"
      ]
     },
     "metadata": {},
     "output_type": "display_data"
    },
    {
     "name": "stderr",
     "output_type": "stream",
     "text": [
      "\u001b[32m[I 2021-11-15 17:06:33,408]\u001b[0m Trial 43 finished with value: 0.7211830870605559 and parameters: {'e048': 0.8183905972850734, 'e049': 0.2097726443991825, 'e051': 0.8397161353802601, 'e053': 0.6559188997457188, 'e054': 0.08177198684095902, 'e074': 0.9488756772705016}. Best is trial 26 with value: 0.7289279504158322.\u001b[0m\n",
      "2021-11-15 17:06:34,261 postprocessor.py     58   [INFO] [__call__] start postprocessing \n"
     ]
    },
    {
     "data": {
      "application/vnd.jupyter.widget-view+json": {
       "model_id": "e9582fb660ef4164a37f44b61d2b1800",
       "version_major": 2,
       "version_minor": 0
      },
      "text/plain": [
       "  0%|          | 0/1114 [00:00<?, ?it/s]"
      ]
     },
     "metadata": {},
     "output_type": "display_data"
    },
    {
     "name": "stderr",
     "output_type": "stream",
     "text": [
      "\u001b[32m[I 2021-11-15 17:06:40,965]\u001b[0m Trial 44 finished with value: 0.7244471006252875 and parameters: {'e048': 0.13084142605641097, 'e049': 0.29369787227274513, 'e051': 0.6847489804679365, 'e053': 0.7861351894040562, 'e054': 0.07830567289953139, 'e074': 0.7574401966068226}. Best is trial 26 with value: 0.7289279504158322.\u001b[0m\n",
      "2021-11-15 17:06:41,812 postprocessor.py     58   [INFO] [__call__] start postprocessing \n"
     ]
    },
    {
     "data": {
      "application/vnd.jupyter.widget-view+json": {
       "model_id": "e155332b35ea41eca12570fb49e9459a",
       "version_major": 2,
       "version_minor": 0
      },
      "text/plain": [
       "  0%|          | 0/1114 [00:00<?, ?it/s]"
      ]
     },
     "metadata": {},
     "output_type": "display_data"
    },
    {
     "name": "stderr",
     "output_type": "stream",
     "text": [
      "\u001b[32m[I 2021-11-15 17:06:48,541]\u001b[0m Trial 45 finished with value: 0.7279704399430614 and parameters: {'e048': 0.04185173095607991, 'e049': 0.04908817190223129, 'e051': 0.7566294195896802, 'e053': 0.6790337577394804, 'e054': 0.21092697364730528, 'e074': 0.9099521620028287}. Best is trial 26 with value: 0.7289279504158322.\u001b[0m\n",
      "2021-11-15 17:06:49,384 postprocessor.py     58   [INFO] [__call__] start postprocessing \n"
     ]
    },
    {
     "data": {
      "application/vnd.jupyter.widget-view+json": {
       "model_id": "6b2ab0452ea04db281a9f71587a61c3b",
       "version_major": 2,
       "version_minor": 0
      },
      "text/plain": [
       "  0%|          | 0/1114 [00:00<?, ?it/s]"
      ]
     },
     "metadata": {},
     "output_type": "display_data"
    },
    {
     "name": "stderr",
     "output_type": "stream",
     "text": [
      "\u001b[32m[I 2021-11-15 17:06:56,190]\u001b[0m Trial 46 finished with value: 0.7288980282135581 and parameters: {'e048': 0.1739567294130184, 'e049': 0.12779586498674989, 'e051': 0.6448661791316668, 'e053': 0.8574115393830806, 'e054': 0.18466998859981734, 'e074': 0.9737099769118636}. Best is trial 26 with value: 0.7289279504158322.\u001b[0m\n",
      "2021-11-15 17:06:57,035 postprocessor.py     58   [INFO] [__call__] start postprocessing \n"
     ]
    },
    {
     "data": {
      "application/vnd.jupyter.widget-view+json": {
       "model_id": "68ee29b22c324a6c864832c4b7e3ed78",
       "version_major": 2,
       "version_minor": 0
      },
      "text/plain": [
       "  0%|          | 0/1114 [00:00<?, ?it/s]"
      ]
     },
     "metadata": {},
     "output_type": "display_data"
    },
    {
     "name": "stderr",
     "output_type": "stream",
     "text": [
      "\u001b[32m[I 2021-11-15 17:07:03,941]\u001b[0m Trial 47 finished with value: 0.7239085009843539 and parameters: {'e048': 0.05777742728973157, 'e049': 0.3265627627475416, 'e051': 0.9187551237321405, 'e053': 0.8725876351857118, 'e054': 0.047828105167438434, 'e074': 0.9594405343688528}. Best is trial 26 with value: 0.7289279504158322.\u001b[0m\n",
      "2021-11-15 17:07:04,783 postprocessor.py     58   [INFO] [__call__] start postprocessing \n"
     ]
    },
    {
     "data": {
      "application/vnd.jupyter.widget-view+json": {
       "model_id": "70740f9412834459a1e3994aebf1ba25",
       "version_major": 2,
       "version_minor": 0
      },
      "text/plain": [
       "  0%|          | 0/1114 [00:00<?, ?it/s]"
      ]
     },
     "metadata": {},
     "output_type": "display_data"
    },
    {
     "name": "stderr",
     "output_type": "stream",
     "text": [
      "\u001b[32m[I 2021-11-15 17:07:11,600]\u001b[0m Trial 48 finished with value: 0.724783725400871 and parameters: {'e048': 0.21118215101241705, 'e049': 0.2007923482106589, 'e051': 0.7063707529759443, 'e053': 0.9518864406221514, 'e054': 0.18469339300480211, 'e074': 0.7963628182637523}. Best is trial 26 with value: 0.7289279504158322.\u001b[0m\n",
      "2021-11-15 17:07:12,448 postprocessor.py     58   [INFO] [__call__] start postprocessing \n"
     ]
    },
    {
     "data": {
      "application/vnd.jupyter.widget-view+json": {
       "model_id": "0df342a8ed3e4b67aa172dd96a2e9395",
       "version_major": 2,
       "version_minor": 0
      },
      "text/plain": [
       "  0%|          | 0/1114 [00:00<?, ?it/s]"
      ]
     },
     "metadata": {},
     "output_type": "display_data"
    },
    {
     "name": "stderr",
     "output_type": "stream",
     "text": [
      "\u001b[32m[I 2021-11-15 17:07:19,180]\u001b[0m Trial 49 finished with value: 0.7238860593326485 and parameters: {'e048': 0.17117775138139968, 'e049': 0.24891319700925874, 'e051': 0.6301257147918031, 'e053': 0.8124459569697036, 'e054': 0.07964408012072655, 'e074': 0.7049440388226471}. Best is trial 26 with value: 0.7289279504158322.\u001b[0m\n",
      "2021-11-15 17:07:20,033 postprocessor.py     58   [INFO] [__call__] start postprocessing \n"
     ]
    },
    {
     "data": {
      "application/vnd.jupyter.widget-view+json": {
       "model_id": "bf640ebd9cf54471853c4318d2035f4c",
       "version_major": 2,
       "version_minor": 0
      },
      "text/plain": [
       "  0%|          | 0/1114 [00:00<?, ?it/s]"
      ]
     },
     "metadata": {},
     "output_type": "display_data"
    },
    {
     "name": "stderr",
     "output_type": "stream",
     "text": [
      "\u001b[32m[I 2021-11-15 17:07:26,837]\u001b[0m Trial 50 finished with value: 0.721400023027043 and parameters: {'e048': 0.05716085032454872, 'e049': 0.9193607577084489, 'e051': 0.818570330093344, 'e053': 0.5562960618557081, 'e054': 0.24971455151796543, 'e074': 0.9611635679678482}. Best is trial 26 with value: 0.7289279504158322.\u001b[0m\n",
      "2021-11-15 17:07:27,672 postprocessor.py     58   [INFO] [__call__] start postprocessing \n"
     ]
    },
    {
     "data": {
      "application/vnd.jupyter.widget-view+json": {
       "model_id": "ba570f06cf6c49c29c7692cb77b34a27",
       "version_major": 2,
       "version_minor": 0
      },
      "text/plain": [
       "  0%|          | 0/1114 [00:00<?, ?it/s]"
      ]
     },
     "metadata": {},
     "output_type": "display_data"
    },
    {
     "name": "stderr",
     "output_type": "stream",
     "text": [
      "\u001b[32m[I 2021-11-15 17:07:34,494]\u001b[0m Trial 51 finished with value: 0.7284491951794467 and parameters: {'e048': 0.1263669971097024, 'e049': 0.13260674751331658, 'e051': 0.7598833596115546, 'e053': 0.7560480753322123, 'e054': 0.15155158891778064, 'e074': 0.8765254396236754}. Best is trial 26 with value: 0.7289279504158322.\u001b[0m\n",
      "2021-11-15 17:07:35,338 postprocessor.py     58   [INFO] [__call__] start postprocessing \n"
     ]
    },
    {
     "data": {
      "application/vnd.jupyter.widget-view+json": {
       "model_id": "936d5c3c5e2449ad88335021da883ec3",
       "version_major": 2,
       "version_minor": 0
      },
      "text/plain": [
       "  0%|          | 0/1114 [00:00<?, ?it/s]"
      ]
     },
     "metadata": {},
     "output_type": "display_data"
    },
    {
     "name": "stderr",
     "output_type": "stream",
     "text": [
      "\u001b[32m[I 2021-11-15 17:07:42,045]\u001b[0m Trial 52 finished with value: 0.725786119177053 and parameters: {'e048': 0.1468511361502779, 'e049': 0.1275523616912659, 'e051': 0.7549436652720639, 'e053': 0.615140167119835, 'e054': 0.15692521660241035, 'e074': 0.833599615773756}. Best is trial 26 with value: 0.7289279504158322.\u001b[0m\n",
      "2021-11-15 17:07:42,899 postprocessor.py     58   [INFO] [__call__] start postprocessing \n"
     ]
    },
    {
     "data": {
      "application/vnd.jupyter.widget-view+json": {
       "model_id": "0101814276d14a678ca530d0821f19e6",
       "version_major": 2,
       "version_minor": 0
      },
      "text/plain": [
       "  0%|          | 0/1114 [00:00<?, ?it/s]"
      ]
     },
     "metadata": {},
     "output_type": "display_data"
    },
    {
     "name": "stderr",
     "output_type": "stream",
     "text": [
      "\u001b[32m[I 2021-11-15 17:07:49,608]\u001b[0m Trial 53 finished with value: 0.727177501582798 and parameters: {'e048': 0.2552396111863488, 'e049': 0.04422725459579069, 'e051': 0.6626271867476101, 'e053': 0.8142328157594034, 'e054': 0.20021427250686522, 'e074': 0.865023494686675}. Best is trial 26 with value: 0.7289279504158322.\u001b[0m\n",
      "2021-11-15 17:07:50,440 postprocessor.py     58   [INFO] [__call__] start postprocessing \n"
     ]
    },
    {
     "data": {
      "application/vnd.jupyter.widget-view+json": {
       "model_id": "93ee9d93a9e54e54abfd91d2629e2200",
       "version_major": 2,
       "version_minor": 0
      },
      "text/plain": [
       "  0%|          | 0/1114 [00:00<?, ?it/s]"
      ]
     },
     "metadata": {},
     "output_type": "display_data"
    },
    {
     "name": "stderr",
     "output_type": "stream",
     "text": [
      "\u001b[32m[I 2021-11-15 17:07:57,169]\u001b[0m Trial 54 finished with value: 0.7291224447306137 and parameters: {'e048': 0.18946341596379074, 'e049': 0.1836992916008427, 'e051': 0.7549643647299756, 'e053': 0.7025691496070067, 'e054': 0.031179425089712914, 'e074': 0.9729808575472416}. Best is trial 54 with value: 0.7291224447306137.\u001b[0m\n",
      "2021-11-15 17:07:58,017 postprocessor.py     58   [INFO] [__call__] start postprocessing \n"
     ]
    },
    {
     "data": {
      "application/vnd.jupyter.widget-view+json": {
       "model_id": "24a71112a93641d588de6efec86d977d",
       "version_major": 2,
       "version_minor": 0
      },
      "text/plain": [
       "  0%|          | 0/1114 [00:00<?, ?it/s]"
      ]
     },
     "metadata": {},
     "output_type": "display_data"
    },
    {
     "name": "stderr",
     "output_type": "stream",
     "text": [
      "\u001b[32m[I 2021-11-15 17:08:04,781]\u001b[0m Trial 55 finished with value: 0.727663737369752 and parameters: {'e048': 0.19810430154931086, 'e049': 0.14877568005472339, 'e051': 0.8838214040694422, 'e053': 0.6910364421191847, 'e054': 0.005317723813578437, 'e074': 0.9772240887144331}. Best is trial 54 with value: 0.7291224447306137.\u001b[0m\n",
      "2021-11-15 17:08:05,640 postprocessor.py     58   [INFO] [__call__] start postprocessing \n"
     ]
    },
    {
     "data": {
      "application/vnd.jupyter.widget-view+json": {
       "model_id": "a048cdeb03f04473abdcc058c8a47c1f",
       "version_major": 2,
       "version_minor": 0
      },
      "text/plain": [
       "  0%|          | 0/1114 [00:00<?, ?it/s]"
      ]
     },
     "metadata": {},
     "output_type": "display_data"
    },
    {
     "name": "stderr",
     "output_type": "stream",
     "text": [
      "\u001b[32m[I 2021-11-15 17:08:12,463]\u001b[0m Trial 56 finished with value: 0.7261302245032051 and parameters: {'e048': 0.3200901070378649, 'e049': 0.2650890278093437, 'e051': 0.7952567499982187, 'e053': 0.858342997461019, 'e054': 0.04957552786579677, 'e074': 0.9201881307242087}. Best is trial 54 with value: 0.7291224447306137.\u001b[0m\n",
      "2021-11-15 17:08:13,318 postprocessor.py     58   [INFO] [__call__] start postprocessing \n"
     ]
    },
    {
     "data": {
      "application/vnd.jupyter.widget-view+json": {
       "model_id": "7d95dccd4a80484db36d33e4b06e31f8",
       "version_major": 2,
       "version_minor": 0
      },
      "text/plain": [
       "  0%|          | 0/1114 [00:00<?, ?it/s]"
      ]
     },
     "metadata": {},
     "output_type": "display_data"
    },
    {
     "name": "stderr",
     "output_type": "stream",
     "text": [
      "\u001b[32m[I 2021-11-15 17:08:20,052]\u001b[0m Trial 57 finished with value: 0.7189488959574241 and parameters: {'e048': 0.6253331588489313, 'e049': 0.18242153306922926, 'e051': 0.9745949543304979, 'e053': 0.9323768084948739, 'e054': 0.09927252157254221, 'e074': 0.8799189577280067}. Best is trial 54 with value: 0.7291224447306137.\u001b[0m\n",
      "2021-11-15 17:08:20,902 postprocessor.py     58   [INFO] [__call__] start postprocessing \n"
     ]
    },
    {
     "data": {
      "application/vnd.jupyter.widget-view+json": {
       "model_id": "08b3d410b86e4c5c96d9749702808765",
       "version_major": 2,
       "version_minor": 0
      },
      "text/plain": [
       "  0%|          | 0/1114 [00:00<?, ?it/s]"
      ]
     },
     "metadata": {},
     "output_type": "display_data"
    },
    {
     "name": "stderr",
     "output_type": "stream",
     "text": [
      "\u001b[32m[I 2021-11-15 17:08:27,692]\u001b[0m Trial 58 finished with value: 0.7269530850657424 and parameters: {'e048': 0.23518764363344247, 'e049': 0.06175619393928497, 'e051': 0.7535780761276119, 'e053': 0.7500641758670298, 'e054': 0.11822347274968206, 'e074': 0.9927781466739541}. Best is trial 54 with value: 0.7291224447306137.\u001b[0m\n",
      "2021-11-15 17:08:28,531 postprocessor.py     58   [INFO] [__call__] start postprocessing \n"
     ]
    },
    {
     "data": {
      "application/vnd.jupyter.widget-view+json": {
       "model_id": "113767a211d04d56a79493ac8317e7da",
       "version_major": 2,
       "version_minor": 0
      },
      "text/plain": [
       "  0%|          | 0/1114 [00:00<?, ?it/s]"
      ]
     },
     "metadata": {},
     "output_type": "display_data"
    },
    {
     "name": "stderr",
     "output_type": "stream",
     "text": [
      "\u001b[32m[I 2021-11-15 17:08:35,323]\u001b[0m Trial 59 finished with value: 0.727850751133965 and parameters: {'e048': 0.1812976920686759, 'e049': 0.12359049398069218, 'e051': 0.705547443623782, 'e053': 0.6358686672716377, 'e054': 0.14730911137751782, 'e074': 0.9523269609946983}. Best is trial 54 with value: 0.7291224447306137.\u001b[0m\n",
      "2021-11-15 17:08:36,175 postprocessor.py     58   [INFO] [__call__] start postprocessing \n"
     ]
    },
    {
     "data": {
      "application/vnd.jupyter.widget-view+json": {
       "model_id": "121f8ac1dc214b8ea7ef6d1c00dd776f",
       "version_major": 2,
       "version_minor": 0
      },
      "text/plain": [
       "  0%|          | 0/1114 [00:00<?, ?it/s]"
      ]
     },
     "metadata": {},
     "output_type": "display_data"
    },
    {
     "name": "stderr",
     "output_type": "stream",
     "text": [
      "\u001b[32m[I 2021-11-15 17:08:42,967]\u001b[0m Trial 60 finished with value: 0.7237001142185168 and parameters: {'e048': 0.09114585544080477, 'e049': 0.031892077398204946, 'e051': 0.8325261697402787, 'e053': 0.8351358262485002, 'e054': 0.025150769931913983, 'e074': 0.7498506290759144}. Best is trial 54 with value: 0.7291224447306137.\u001b[0m\n",
      "2021-11-15 17:08:43,824 postprocessor.py     58   [INFO] [__call__] start postprocessing \n"
     ]
    },
    {
     "data": {
      "application/vnd.jupyter.widget-view+json": {
       "model_id": "1e218eb5174e47c9b460b3fedc6d19fc",
       "version_major": 2,
       "version_minor": 0
      },
      "text/plain": [
       "  0%|          | 0/1114 [00:00<?, ?it/s]"
      ]
     },
     "metadata": {},
     "output_type": "display_data"
    },
    {
     "name": "stderr",
     "output_type": "stream",
     "text": [
      "\u001b[32m[I 2021-11-15 17:08:50,648]\u001b[0m Trial 61 finished with value: 0.727506645807813 and parameters: {'e048': 0.037839929368518446, 'e049': 0.21763513007765184, 'e051': 0.6338711968202086, 'e053': 0.7908144331249393, 'e054': 0.25285516038303973, 'e074': 0.8166559822736211}. Best is trial 54 with value: 0.7291224447306137.\u001b[0m\n",
      "2021-11-15 17:08:51,480 postprocessor.py     58   [INFO] [__call__] start postprocessing \n"
     ]
    },
    {
     "data": {
      "application/vnd.jupyter.widget-view+json": {
       "model_id": "5af9e1c31fb749d3b8f9fad323a2a5ac",
       "version_major": 2,
       "version_minor": 0
      },
      "text/plain": [
       "  0%|          | 0/1114 [00:00<?, ?it/s]"
      ]
     },
     "metadata": {},
     "output_type": "display_data"
    },
    {
     "name": "stderr",
     "output_type": "stream",
     "text": [
      "\u001b[32m[I 2021-11-15 17:08:58,203]\u001b[0m Trial 62 finished with value: 0.7291224447306137 and parameters: {'e048': 0.13808276984652304, 'e049': 0.1834021310740742, 'e051': 0.6845266909812177, 'e053': 0.6999696714837265, 'e054': 0.16270096215455082, 'e074': 0.8750685170774679}. Best is trial 54 with value: 0.7291224447306137.\u001b[0m\n",
      "2021-11-15 17:08:59,045 postprocessor.py     58   [INFO] [__call__] start postprocessing \n"
     ]
    },
    {
     "data": {
      "application/vnd.jupyter.widget-view+json": {
       "model_id": "adfd08132d38427db360099c900b824f",
       "version_major": 2,
       "version_minor": 0
      },
      "text/plain": [
       "  0%|          | 0/1114 [00:00<?, ?it/s]"
      ]
     },
     "metadata": {},
     "output_type": "display_data"
    },
    {
     "name": "stderr",
     "output_type": "stream",
     "text": [
      "\u001b[32m[I 2021-11-15 17:09:05,825]\u001b[0m Trial 63 finished with value: 0.7286736116965024 and parameters: {'e048': 0.1460791415141641, 'e049': 0.08842455406659051, 'e051': 0.7377872278840995, 'e053': 0.6807295729135471, 'e054': 0.05429016359001241, 'e074': 0.9271040044148958}. Best is trial 54 with value: 0.7291224447306137.\u001b[0m\n",
      "2021-11-15 17:09:06,672 postprocessor.py     58   [INFO] [__call__] start postprocessing \n"
     ]
    },
    {
     "data": {
      "application/vnd.jupyter.widget-view+json": {
       "model_id": "4f84399b3b624e4f84352ef554e7ae4c",
       "version_major": 2,
       "version_minor": 0
      },
      "text/plain": [
       "  0%|          | 0/1114 [00:00<?, ?it/s]"
      ]
     },
     "metadata": {},
     "output_type": "display_data"
    },
    {
     "name": "stderr",
     "output_type": "stream",
     "text": [
      "\u001b[32m[I 2021-11-15 17:09:13,480]\u001b[0m Trial 64 finished with value: 0.7282247786623911 and parameters: {'e048': 0.15308297682711253, 'e049': 0.0773590423760203, 'e051': 0.7241746800554175, 'e053': 0.6940900488393159, 'e054': 0.042471165076857845, 'e074': 0.926486964631581}. Best is trial 54 with value: 0.7291224447306137.\u001b[0m\n",
      "2021-11-15 17:09:14,332 postprocessor.py     58   [INFO] [__call__] start postprocessing \n"
     ]
    },
    {
     "data": {
      "application/vnd.jupyter.widget-view+json": {
       "model_id": "13d852a9937b4194b78bb6655f083c6f",
       "version_major": 2,
       "version_minor": 0
      },
      "text/plain": [
       "  0%|          | 0/1114 [00:00<?, ?it/s]"
      ]
     },
     "metadata": {},
     "output_type": "display_data"
    },
    {
     "name": "stderr",
     "output_type": "stream",
     "text": [
      "\u001b[32m[I 2021-11-15 17:09:21,031]\u001b[0m Trial 65 finished with value: 0.7273645153470112 and parameters: {'e048': 0.28924854042806875, 'e049': 0.173106802987013, 'e051': 0.7781911056896452, 'e053': 0.6033218433509735, 'e054': 0.06281491466502877, 'e074': 0.9283326131158729}. Best is trial 54 with value: 0.7291224447306137.\u001b[0m\n",
      "2021-11-15 17:09:21,891 postprocessor.py     58   [INFO] [__call__] start postprocessing \n"
     ]
    },
    {
     "data": {
      "application/vnd.jupyter.widget-view+json": {
       "model_id": "b42c1eab9dd04b6ba262ccd931e48a2d",
       "version_major": 2,
       "version_minor": 0
      },
      "text/plain": [
       "  0%|          | 0/1114 [00:00<?, ?it/s]"
      ]
     },
     "metadata": {},
     "output_type": "display_data"
    },
    {
     "name": "stderr",
     "output_type": "stream",
     "text": [
      "\u001b[32m[I 2021-11-15 17:09:28,682]\u001b[0m Trial 66 finished with value: 0.7273121514930314 and parameters: {'e048': 0.09148638371131626, 'e049': 0.09478303812436571, 'e051': 0.5471909613901296, 'e053': 0.5162758489082165, 'e054': 0.11488381040425769, 'e074': 0.8965298366050409}. Best is trial 54 with value: 0.7291224447306137.\u001b[0m\n",
      "2021-11-15 17:09:29,537 postprocessor.py     58   [INFO] [__call__] start postprocessing \n"
     ]
    },
    {
     "data": {
      "application/vnd.jupyter.widget-view+json": {
       "model_id": "2241366ffc1c41519a5b12f01370cc5b",
       "version_major": 2,
       "version_minor": 0
      },
      "text/plain": [
       "  0%|          | 0/1114 [00:00<?, ?it/s]"
      ]
     },
     "metadata": {},
     "output_type": "display_data"
    },
    {
     "name": "stderr",
     "output_type": "stream",
     "text": [
      "\u001b[32m[I 2021-11-15 17:09:36,284]\u001b[0m Trial 67 finished with value: 0.7242600868610746 and parameters: {'e048': 0.40690379786068775, 'e049': 0.24925779579609064, 'e051': 0.6762529898167964, 'e053': 0.6983539589359244, 'e054': 0.009265561767596464, 'e074': 0.9671821479912287}. Best is trial 54 with value: 0.7291224447306137.\u001b[0m\n",
      "2021-11-15 17:09:37,130 postprocessor.py     58   [INFO] [__call__] start postprocessing \n"
     ]
    },
    {
     "data": {
      "application/vnd.jupyter.widget-view+json": {
       "model_id": "de06b1f8ca0a4771bbd54af26f0546dd",
       "version_major": 2,
       "version_minor": 0
      },
      "text/plain": [
       "  0%|          | 0/1114 [00:00<?, ?it/s]"
      ]
     },
     "metadata": {},
     "output_type": "display_data"
    },
    {
     "name": "stderr",
     "output_type": "stream",
     "text": [
      "\u001b[32m[I 2021-11-15 17:09:43,991]\u001b[0m Trial 68 finished with value: 0.7257487164242105 and parameters: {'e048': 0.19030570776366268, 'e049': 0.11613519810870776, 'e051': 0.8011307436655342, 'e053': 0.5603438617608982, 'e054': 0.10097520554253483, 'e074': 0.7957600243881808}. Best is trial 54 with value: 0.7291224447306137.\u001b[0m\n",
      "2021-11-15 17:09:44,845 postprocessor.py     58   [INFO] [__call__] start postprocessing \n"
     ]
    },
    {
     "data": {
      "application/vnd.jupyter.widget-view+json": {
       "model_id": "db0cc7aa818744768b2a81b9ae592ccb",
       "version_major": 2,
       "version_minor": 0
      },
      "text/plain": [
       "  0%|          | 0/1114 [00:00<?, ?it/s]"
      ]
     },
     "metadata": {},
     "output_type": "display_data"
    },
    {
     "name": "stderr",
     "output_type": "stream",
     "text": [
      "\u001b[32m[I 2021-11-15 17:09:51,657]\u001b[0m Trial 69 finished with value: 0.7189563765079926 and parameters: {'e048': 0.029394335077831416, 'e049': 0.31684015720996517, 'e051': 0.6980058252280389, 'e053': 0.6404278575414789, 'e054': 0.13688395975456752, 'e074': 0.14694602311153682}. Best is trial 54 with value: 0.7291224447306137.\u001b[0m\n",
      "2021-11-15 17:09:52,521 postprocessor.py     58   [INFO] [__call__] start postprocessing \n"
     ]
    },
    {
     "data": {
      "application/vnd.jupyter.widget-view+json": {
       "model_id": "455a7bd1e89f4b00bd6b296949b41acd",
       "version_major": 2,
       "version_minor": 0
      },
      "text/plain": [
       "  0%|          | 0/1114 [00:00<?, ?it/s]"
      ]
     },
     "metadata": {},
     "output_type": "display_data"
    },
    {
     "name": "stderr",
     "output_type": "stream",
     "text": [
      "\u001b[32m[I 2021-11-15 17:09:59,274]\u001b[0m Trial 70 finished with value: 0.7245642959175278 and parameters: {'e048': 0.22891941594626916, 'e049': 0.028461774022082484, 'e051': 0.7335636767663875, 'e053': 0.30395334189422535, 'e054': 0.23430507287935537, 'e074': 0.8637880932887603}. Best is trial 54 with value: 0.7291224447306137.\u001b[0m\n",
      "2021-11-15 17:10:00,120 postprocessor.py     58   [INFO] [__call__] start postprocessing \n"
     ]
    },
    {
     "data": {
      "application/vnd.jupyter.widget-view+json": {
       "model_id": "7e22f5ef3e2b4bb5bfe847de0420f880",
       "version_major": 2,
       "version_minor": 0
      },
      "text/plain": [
       "  0%|          | 0/1114 [00:00<?, ?it/s]"
      ]
     },
     "metadata": {},
     "output_type": "display_data"
    },
    {
     "name": "stderr",
     "output_type": "stream",
     "text": [
      "\u001b[32m[I 2021-11-15 17:10:06,816]\u001b[0m Trial 71 finished with value: 0.7291224447306137 and parameters: {'e048': 0.12599911640148387, 'e049': 0.16024342848156023, 'e051': 0.7735608255334578, 'e053': 0.746910110939045, 'e054': 0.15840795512056535, 'e074': 0.9989761833016262}. Best is trial 54 with value: 0.7291224447306137.\u001b[0m\n",
      "2021-11-15 17:10:07,657 postprocessor.py     58   [INFO] [__call__] start postprocessing \n"
     ]
    },
    {
     "data": {
      "application/vnd.jupyter.widget-view+json": {
       "model_id": "03a3f92c1b304d1c8964da269af56a5b",
       "version_major": 2,
       "version_minor": 0
      },
      "text/plain": [
       "  0%|          | 0/1114 [00:00<?, ?it/s]"
      ]
     },
     "metadata": {},
     "output_type": "display_data"
    },
    {
     "name": "stderr",
     "output_type": "stream",
     "text": [
      "\u001b[32m[I 2021-11-15 17:10:14,347]\u001b[0m Trial 72 finished with value: 0.7275415550437996 and parameters: {'e048': 0.12155706697505693, 'e049': 0.1879344308153042, 'e051': 0.64162752631746, 'e053': 0.7950804509167337, 'e054': 0.27515721727430975, 'e074': 0.9986641879828625}. Best is trial 54 with value: 0.7291224447306137.\u001b[0m\n",
      "2021-11-15 17:10:15,186 postprocessor.py     58   [INFO] [__call__] start postprocessing \n"
     ]
    },
    {
     "data": {
      "application/vnd.jupyter.widget-view+json": {
       "model_id": "45f1f742f44443d784890fb63f6d5770",
       "version_major": 2,
       "version_minor": 0
      },
      "text/plain": [
       "  0%|          | 0/1114 [00:00<?, ?it/s]"
      ]
     },
     "metadata": {},
     "output_type": "display_data"
    },
    {
     "name": "stderr",
     "output_type": "stream",
     "text": [
      "\u001b[32m[I 2021-11-15 17:10:21,892]\u001b[0m Trial 73 finished with value: 0.7282995841680764 and parameters: {'e048': 0.07776498023639217, 'e049': 0.15551511830638956, 'e051': 0.7779159285649179, 'e053': 0.7443528620838809, 'e054': 0.15706752814041852, 'e074': 0.9411906038866309}. Best is trial 54 with value: 0.7291224447306137.\u001b[0m\n",
      "2021-11-15 17:10:22,741 postprocessor.py     58   [INFO] [__call__] start postprocessing \n"
     ]
    },
    {
     "data": {
      "application/vnd.jupyter.widget-view+json": {
       "model_id": "580305e76c2e4d41822b7593a4954e74",
       "version_major": 2,
       "version_minor": 0
      },
      "text/plain": [
       "  0%|          | 0/1114 [00:00<?, ?it/s]"
      ]
     },
     "metadata": {},
     "output_type": "display_data"
    },
    {
     "name": "stderr",
     "output_type": "stream",
     "text": [
      "\u001b[32m[I 2021-11-15 17:10:29,524]\u001b[0m Trial 74 finished with value: 0.7159178481103978 and parameters: {'e048': 0.15845427428863273, 'e049': 0.08763070526035692, 'e051': 0.8679603801391682, 'e053': 0.8698070854516988, 'e054': 0.07075747358488554, 'e074': 0.455595383131439}. Best is trial 54 with value: 0.7291224447306137.\u001b[0m\n",
      "2021-11-15 17:10:30,383 postprocessor.py     58   [INFO] [__call__] start postprocessing \n"
     ]
    },
    {
     "data": {
      "application/vnd.jupyter.widget-view+json": {
       "model_id": "f79df259a7d745949768062930a2766f",
       "version_major": 2,
       "version_minor": 0
      },
      "text/plain": [
       "  0%|          | 0/1114 [00:00<?, ?it/s]"
      ]
     },
     "metadata": {},
     "output_type": "display_data"
    },
    {
     "name": "stderr",
     "output_type": "stream",
     "text": [
      "\u001b[32m[I 2021-11-15 17:10:37,090]\u001b[0m Trial 75 finished with value: 0.7195972103400293 and parameters: {'e048': 0.9861940590417175, 'e049': 0.23052977504422215, 'e051': 0.731490892037685, 'e053': 0.7062458144196374, 'e054': 0.17913610640848887, 'e074': 0.901283678079307}. Best is trial 54 with value: 0.7291224447306137.\u001b[0m\n",
      "2021-11-15 17:10:37,928 postprocessor.py     58   [INFO] [__call__] start postprocessing \n"
     ]
    },
    {
     "data": {
      "application/vnd.jupyter.widget-view+json": {
       "model_id": "110162c25af04c6995863e9573e3b49b",
       "version_major": 2,
       "version_minor": 0
      },
      "text/plain": [
       "  0%|          | 0/1114 [00:00<?, ?it/s]"
      ]
     },
     "metadata": {},
     "output_type": "display_data"
    },
    {
     "name": "stderr",
     "output_type": "stream",
     "text": [
      "\u001b[32m[I 2021-11-15 17:10:44,641]\u001b[0m Trial 76 finished with value: 0.7259332366715673 and parameters: {'e048': 0.2732238327357589, 'e049': 0.28393064131436563, 'e051': 0.8373686927729553, 'e053': 0.654277221085795, 'e054': 0.3351010033296232, 'e074': 0.9758686879995382}. Best is trial 54 with value: 0.7291224447306137.\u001b[0m\n",
      "2021-11-15 17:10:45,482 postprocessor.py     58   [INFO] [__call__] start postprocessing \n"
     ]
    },
    {
     "data": {
      "application/vnd.jupyter.widget-view+json": {
       "model_id": "25667cf4593f4ee7a7891532f1f257eb",
       "version_major": 2,
       "version_minor": 0
      },
      "text/plain": [
       "  0%|          | 0/1114 [00:00<?, ?it/s]"
      ]
     },
     "metadata": {},
     "output_type": "display_data"
    },
    {
     "name": "stderr",
     "output_type": "stream",
     "text": [
      "\u001b[32m[I 2021-11-15 17:10:52,280]\u001b[0m Trial 77 finished with value: 0.7209960732963427 and parameters: {'e048': 0.13431284285339873, 'e049': 0.6764599123771178, 'e051': 0.5763339057226068, 'e053': 0.6749147621410881, 'e054': 0.224669276102418, 'e074': 0.9238013554778437}. Best is trial 54 with value: 0.7291224447306137.\u001b[0m\n",
      "2021-11-15 17:10:53,128 postprocessor.py     58   [INFO] [__call__] start postprocessing \n"
     ]
    },
    {
     "data": {
      "application/vnd.jupyter.widget-view+json": {
       "model_id": "6f12bad6782540e4945ded2016ad0b69",
       "version_major": 2,
       "version_minor": 0
      },
      "text/plain": [
       "  0%|          | 0/1114 [00:00<?, ?it/s]"
      ]
     },
     "metadata": {},
     "output_type": "display_data"
    },
    {
     "name": "stderr",
     "output_type": "stream",
     "text": [
      "\u001b[32m[I 2021-11-15 17:10:59,865]\u001b[0m Trial 78 finished with value: 0.7271304809792245 and parameters: {'e048': 0.00616524285590192, 'e049': 0.1470334536789314, 'e051': 0.6938573555699882, 'e053': 0.8290871171451932, 'e054': 0.09500959653856496, 'e074': 0.8349630192641005}. Best is trial 54 with value: 0.7291224447306137.\u001b[0m\n",
      "2021-11-15 17:11:00,689 postprocessor.py     58   [INFO] [__call__] start postprocessing \n"
     ]
    },
    {
     "data": {
      "application/vnd.jupyter.widget-view+json": {
       "model_id": "54ec50f45d0443db8cda896c4c772ed3",
       "version_major": 2,
       "version_minor": 0
      },
      "text/plain": [
       "  0%|          | 0/1114 [00:00<?, ?it/s]"
      ]
     },
     "metadata": {},
     "output_type": "display_data"
    },
    {
     "name": "stderr",
     "output_type": "stream",
     "text": [
      "\u001b[32m[I 2021-11-15 17:11:07,414]\u001b[0m Trial 79 finished with value: 0.7259656523906975 and parameters: {'e048': 0.0993944264296992, 'e049': 0.1003669438482399, 'e051': 0.6183026835070232, 'e053': 0.7685321037603532, 'e054': 0.023752251349615505, 'e074': 0.9718085072869345}. Best is trial 54 with value: 0.7291224447306137.\u001b[0m\n",
      "2021-11-15 17:11:08,258 postprocessor.py     58   [INFO] [__call__] start postprocessing \n"
     ]
    },
    {
     "data": {
      "application/vnd.jupyter.widget-view+json": {
       "model_id": "9bbbfe37558c4eb19f98d2a3ba92b611",
       "version_major": 2,
       "version_minor": 0
      },
      "text/plain": [
       "  0%|          | 0/1114 [00:00<?, ?it/s]"
      ]
     },
     "metadata": {},
     "output_type": "display_data"
    },
    {
     "name": "stderr",
     "output_type": "stream",
     "text": [
      "\u001b[32m[I 2021-11-15 17:11:14,980]\u001b[0m Trial 80 finished with value: 0.7271400988299553 and parameters: {'e048': 0.17858189036844185, 'e049': 0.3462628599568397, 'e051': 0.6522450869859034, 'e053': 0.72655998494855, 'e054': 0.12163232883689398, 'e074': 0.8601815649336534}. Best is trial 54 with value: 0.7291224447306137.\u001b[0m\n",
      "2021-11-15 17:11:15,825 postprocessor.py     58   [INFO] [__call__] start postprocessing \n"
     ]
    },
    {
     "data": {
      "application/vnd.jupyter.widget-view+json": {
       "model_id": "b085a0c20fae402ea59b70d7a0f26a02",
       "version_major": 2,
       "version_minor": 0
      },
      "text/plain": [
       "  0%|          | 0/1114 [00:00<?, ?it/s]"
      ]
     },
     "metadata": {},
     "output_type": "display_data"
    },
    {
     "name": "stderr",
     "output_type": "stream",
     "text": [
      "\u001b[32m[I 2021-11-15 17:11:22,533]\u001b[0m Trial 81 finished with value: 0.7235170188379348 and parameters: {'e048': 0.11967434807251105, 'e049': 0.12608283625348693, 'e051': 0.77394484091937, 'e053': 0.7562379607221129, 'e054': 0.6575536837479602, 'e074': 0.8847523484634128}. Best is trial 54 with value: 0.7291224447306137.\u001b[0m\n",
      "2021-11-15 17:11:23,410 postprocessor.py     58   [INFO] [__call__] start postprocessing \n"
     ]
    },
    {
     "data": {
      "application/vnd.jupyter.widget-view+json": {
       "model_id": "936a178d1b9e408797ea4e85add9d6a1",
       "version_major": 2,
       "version_minor": 0
      },
      "text/plain": [
       "  0%|          | 0/1114 [00:00<?, ?it/s]"
      ]
     },
     "metadata": {},
     "output_type": "display_data"
    },
    {
     "name": "stderr",
     "output_type": "stream",
     "text": [
      "\u001b[32m[I 2021-11-15 17:11:30,213]\u001b[0m Trial 82 finished with value: 0.7291224447306137 and parameters: {'e048': 0.14085040491570794, 'e049': 0.18368918489333055, 'e051': 0.7427918339949462, 'e053': 0.7483337545932963, 'e054': 0.13599275137435402, 'e074': 0.9403628126194226}. Best is trial 54 with value: 0.7291224447306137.\u001b[0m\n",
      "2021-11-15 17:11:31,054 postprocessor.py     58   [INFO] [__call__] start postprocessing \n"
     ]
    },
    {
     "data": {
      "application/vnd.jupyter.widget-view+json": {
       "model_id": "1a14c5112152423ea28996bd7c48e103",
       "version_major": 2,
       "version_minor": 0
      },
      "text/plain": [
       "  0%|          | 0/1114 [00:00<?, ?it/s]"
      ]
     },
     "metadata": {},
     "output_type": "display_data"
    },
    {
     "name": "stderr",
     "output_type": "stream",
     "text": [
      "\u001b[32m[I 2021-11-15 17:11:37,746]\u001b[0m Trial 83 finished with value: 0.7273271125941685 and parameters: {'e048': 0.21434093669630655, 'e049': 0.2346461988355276, 'e051': 0.7357216833507421, 'e053': 0.7924252412946395, 'e054': 0.1706156709793898, 'e074': 0.937333267626242}. Best is trial 54 with value: 0.7291224447306137.\u001b[0m\n",
      "2021-11-15 17:11:38,587 postprocessor.py     58   [INFO] [__call__] start postprocessing \n"
     ]
    },
    {
     "data": {
      "application/vnd.jupyter.widget-view+json": {
       "model_id": "3466114a3ef04fd29379b8bcc0f4402f",
       "version_major": 2,
       "version_minor": 0
      },
      "text/plain": [
       "  0%|          | 0/1114 [00:00<?, ?it/s]"
      ]
     },
     "metadata": {},
     "output_type": "display_data"
    },
    {
     "name": "stderr",
     "output_type": "stream",
     "text": [
      "\u001b[32m[I 2021-11-15 17:11:45,294]\u001b[0m Trial 84 finished with value: 0.7270952155265444 and parameters: {'e048': 0.07935385515871922, 'e049': 0.18389658153064498, 'e051': 0.8071691379856735, 'e053': 0.5820932800728249, 'e054': 0.20258323578168966, 'e074': 0.9103784984240457}. Best is trial 54 with value: 0.7291224447306137.\u001b[0m\n",
      "2021-11-15 17:11:46,147 postprocessor.py     58   [INFO] [__call__] start postprocessing \n"
     ]
    },
    {
     "data": {
      "application/vnd.jupyter.widget-view+json": {
       "model_id": "b81ffc84907049f99ad5d7a9da0d4e37",
       "version_major": 2,
       "version_minor": 0
      },
      "text/plain": [
       "  0%|          | 0/1114 [00:00<?, ?it/s]"
      ]
     },
     "metadata": {},
     "output_type": "display_data"
    },
    {
     "name": "stderr",
     "output_type": "stream",
     "text": [
      "\u001b[32m[I 2021-11-15 17:11:52,884]\u001b[0m Trial 85 finished with value: 0.7293319001465324 and parameters: {'e048': 0.15272836026919537, 'e049': 0.07567722481491598, 'e051': 0.6829564192090704, 'e053': 0.881319743328556, 'e054': 0.06701715539955792, 'e074': 0.9556401062002072}. Best is trial 85 with value: 0.7293319001465324.\u001b[0m\n",
      "2021-11-15 17:11:53,725 postprocessor.py     58   [INFO] [__call__] start postprocessing \n"
     ]
    },
    {
     "data": {
      "application/vnd.jupyter.widget-view+json": {
       "model_id": "19118c3383ae42a28d6543360583eda1",
       "version_major": 2,
       "version_minor": 0
      },
      "text/plain": [
       "  0%|          | 0/1114 [00:00<?, ?it/s]"
      ]
     },
     "metadata": {},
     "output_type": "display_data"
    },
    {
     "name": "stderr",
     "output_type": "stream",
     "text": [
      "\u001b[32m[I 2021-11-15 17:12:00,514]\u001b[0m Trial 86 finished with value: 0.7293319001465324 and parameters: {'e048': 0.15507085012105376, 'e049': 0.06573334740741578, 'e051': 0.6861423731076839, 'e053': 0.8832787335965158, 'e054': 0.06964119641577135, 'e074': 0.9965869937570866}. Best is trial 85 with value: 0.7293319001465324.\u001b[0m\n",
      "2021-11-15 17:12:01,372 postprocessor.py     58   [INFO] [__call__] start postprocessing \n"
     ]
    },
    {
     "data": {
      "application/vnd.jupyter.widget-view+json": {
       "model_id": "e156365c23b8459089ad986ad4ceb116",
       "version_major": 2,
       "version_minor": 0
      },
      "text/plain": [
       "  0%|          | 0/1114 [00:00<?, ?it/s]"
      ]
     },
     "metadata": {},
     "output_type": "display_data"
    },
    {
     "name": "stderr",
     "output_type": "stream",
     "text": [
      "\u001b[32m[I 2021-11-15 17:12:08,120]\u001b[0m Trial 87 finished with value: 0.7269530850657424 and parameters: {'e048': 0.19034332968595782, 'e049': 0.061075992657580847, 'e051': 0.5503671503017762, 'e053': 0.8879941961229602, 'e054': 0.13474282410159266, 'e074': 0.9950673616476398}. Best is trial 85 with value: 0.7293319001465324.\u001b[0m\n",
      "2021-11-15 17:12:08,973 postprocessor.py     58   [INFO] [__call__] start postprocessing \n"
     ]
    },
    {
     "data": {
      "application/vnd.jupyter.widget-view+json": {
       "model_id": "5cef288e181a4238b654257576f6635b",
       "version_major": 2,
       "version_minor": 0
      },
      "text/plain": [
       "  0%|          | 0/1114 [00:00<?, ?it/s]"
      ]
     },
     "metadata": {},
     "output_type": "display_data"
    },
    {
     "name": "stderr",
     "output_type": "stream",
     "text": [
      "\u001b[32m[I 2021-11-15 17:12:15,765]\u001b[0m Trial 88 finished with value: 0.7209214944740082 and parameters: {'e048': 0.23506244110021415, 'e049': 0.4132041113466938, 'e051': 0.043725839406252465, 'e053': 0.9289737302349053, 'e054': 0.0883555668645733, 'e074': 0.9597420326921372}. Best is trial 85 with value: 0.7293319001465324.\u001b[0m\n",
      "2021-11-15 17:12:16,618 postprocessor.py     58   [INFO] [__call__] start postprocessing \n"
     ]
    },
    {
     "data": {
      "application/vnd.jupyter.widget-view+json": {
       "model_id": "5b652b641c1d4b1d8a9803e92e9f7b26",
       "version_major": 2,
       "version_minor": 0
      },
      "text/plain": [
       "  0%|          | 0/1114 [00:00<?, ?it/s]"
      ]
     },
     "metadata": {},
     "output_type": "display_data"
    },
    {
     "name": "stderr",
     "output_type": "stream",
     "text": [
      "\u001b[32m[I 2021-11-15 17:12:23,328]\u001b[0m Trial 89 finished with value: 0.7218093160081495 and parameters: {'e048': 0.1596378186910018, 'e049': 0.011202569891873113, 'e051': 0.5052039998397977, 'e053': 0.9116047929262338, 'e054': 0.7989663964400315, 'e074': 0.9755546516390631}. Best is trial 85 with value: 0.7293319001465324.\u001b[0m\n",
      "2021-11-15 17:12:24,163 postprocessor.py     58   [INFO] [__call__] start postprocessing \n"
     ]
    },
    {
     "data": {
      "application/vnd.jupyter.widget-view+json": {
       "model_id": "4b773b71117b4dcba9c24abed0d08195",
       "version_major": 2,
       "version_minor": 0
      },
      "text/plain": [
       "  0%|          | 0/1114 [00:00<?, ?it/s]"
      ]
     },
     "metadata": {},
     "output_type": "display_data"
    },
    {
     "name": "stderr",
     "output_type": "stream",
     "text": [
      "\u001b[32m[I 2021-11-15 17:12:30,963]\u001b[0m Trial 90 finished with value: 0.7241703202542522 and parameters: {'e048': 0.10275621824343878, 'e049': 0.1975098365186475, 'e051': 0.6018291981940065, 'e053': 0.8415550496822475, 'e054': 0.0012804443769775034, 'e074': 0.9487653596109463}. Best is trial 85 with value: 0.7293319001465324.\u001b[0m\n",
      "2021-11-15 17:12:31,809 postprocessor.py     58   [INFO] [__call__] start postprocessing \n"
     ]
    },
    {
     "data": {
      "application/vnd.jupyter.widget-view+json": {
       "model_id": "d2fb21ec4dfd4c6b9e6e3cf7a2182088",
       "version_major": 2,
       "version_minor": 0
      },
      "text/plain": [
       "  0%|          | 0/1114 [00:00<?, ?it/s]"
      ]
     },
     "metadata": {},
     "output_type": "display_data"
    },
    {
     "name": "stderr",
     "output_type": "stream",
     "text": [
      "\u001b[32m[I 2021-11-15 17:12:38,536]\u001b[0m Trial 91 finished with value: 0.7280751676510206 and parameters: {'e048': 0.3445671558821335, 'e049': 0.0652899566589065, 'e051': 0.681601110991617, 'e053': 0.8116808952244946, 'e054': 0.0598908715351583, 'e074': 0.9085903976222016}. Best is trial 85 with value: 0.7293319001465324.\u001b[0m\n",
      "2021-11-15 17:12:39,395 postprocessor.py     58   [INFO] [__call__] start postprocessing \n"
     ]
    },
    {
     "data": {
      "application/vnd.jupyter.widget-view+json": {
       "model_id": "a9c57fab21a7440983ec49dff6905c12",
       "version_major": 2,
       "version_minor": 0
      },
      "text/plain": [
       "  0%|          | 0/1114 [00:00<?, ?it/s]"
      ]
     },
     "metadata": {},
     "output_type": "display_data"
    },
    {
     "name": "stderr",
     "output_type": "stream",
     "text": [
      "\u001b[32m[I 2021-11-15 17:12:46,111]\u001b[0m Trial 92 finished with value: 0.7291822891351618 and parameters: {'e048': 0.13848631165553213, 'e049': 0.10815788846814303, 'e051': 0.7097733487744693, 'e053': 0.8810106815471315, 'e054': 0.03780108662631696, 'e074': 0.940159182555608}. Best is trial 85 with value: 0.7293319001465324.\u001b[0m\n",
      "2021-11-15 17:12:46,947 postprocessor.py     58   [INFO] [__call__] start postprocessing \n"
     ]
    },
    {
     "data": {
      "application/vnd.jupyter.widget-view+json": {
       "model_id": "b3ad5b855d3a49d4bb9359bd4acd2dcc",
       "version_major": 2,
       "version_minor": 0
      },
      "text/plain": [
       "  0%|          | 0/1114 [00:00<?, ?it/s]"
      ]
     },
     "metadata": {},
     "output_type": "display_data"
    },
    {
     "name": "stderr",
     "output_type": "stream",
     "text": [
      "\u001b[32m[I 2021-11-15 17:12:53,634]\u001b[0m Trial 93 finished with value: 0.7259335928882611 and parameters: {'e048': 0.03791099681161411, 'e049': 0.16341430657870082, 'e051': 0.7118594425975057, 'e053': 0.9692883649183506, 'e054': 0.03411763346030755, 'e074': 0.979864314093585}. Best is trial 85 with value: 0.7293319001465324.\u001b[0m\n",
      "2021-11-15 17:12:54,492 postprocessor.py     58   [INFO] [__call__] start postprocessing \n"
     ]
    },
    {
     "data": {
      "application/vnd.jupyter.widget-view+json": {
       "model_id": "fe800301b7b9498c8bce89a123188d99",
       "version_major": 2,
       "version_minor": 0
      },
      "text/plain": [
       "  0%|          | 0/1114 [00:00<?, ?it/s]"
      ]
     },
     "metadata": {},
     "output_type": "display_data"
    },
    {
     "name": "stderr",
     "output_type": "stream",
     "text": [
      "\u001b[32m[I 2021-11-15 17:13:01,335]\u001b[0m Trial 94 finished with value: 0.7286586505953654 and parameters: {'e048': 0.1717220502234351, 'e049': 0.11854172151059207, 'e051': 0.6609261164925526, 'e053': 0.8811490304010592, 'e054': 0.10115896153581702, 'e074': 0.9988328245873439}. Best is trial 85 with value: 0.7293319001465324.\u001b[0m\n",
      "2021-11-15 17:13:02,224 postprocessor.py     58   [INFO] [__call__] start postprocessing \n"
     ]
    },
    {
     "data": {
      "application/vnd.jupyter.widget-view+json": {
       "model_id": "0ab03fd1d8504ca3912627876dbb52e3",
       "version_major": 2,
       "version_minor": 0
      },
      "text/plain": [
       "  0%|          | 0/1114 [00:00<?, ?it/s]"
      ]
     },
     "metadata": {},
     "output_type": "display_data"
    },
    {
     "name": "stderr",
     "output_type": "stream",
     "text": [
      "\u001b[32m[I 2021-11-15 17:13:09,068]\u001b[0m Trial 95 finished with value: 0.7211781000268436 and parameters: {'e048': 0.8464838449529118, 'e049': 0.046791373738543716, 'e051': 0.6921822965750025, 'e053': 0.8552813313745942, 'e054': 0.02772051270361994, 'e074': 0.9465652354103756}. Best is trial 85 with value: 0.7293319001465324.\u001b[0m\n",
      "2021-11-15 17:13:09,916 postprocessor.py     58   [INFO] [__call__] start postprocessing \n"
     ]
    },
    {
     "data": {
      "application/vnd.jupyter.widget-view+json": {
       "model_id": "d58d7bc251574d3cb6bea631d1fc2048",
       "version_major": 2,
       "version_minor": 0
      },
      "text/plain": [
       "  0%|          | 0/1114 [00:00<?, ?it/s]"
      ]
     },
     "metadata": {},
     "output_type": "display_data"
    },
    {
     "name": "stderr",
     "output_type": "stream",
     "text": [
      "\u001b[32m[I 2021-11-15 17:13:16,792]\u001b[0m Trial 96 finished with value: 0.7270877349759757 and parameters: {'e048': 0.14059129237008744, 'e049': 0.14317742854477755, 'e051': 0.619057150435343, 'e053': 0.9869300324505048, 'e054': 0.07040308300761869, 'e074': 0.8809048953902616}. Best is trial 85 with value: 0.7293319001465324.\u001b[0m\n",
      "2021-11-15 17:13:17,643 postprocessor.py     58   [INFO] [__call__] start postprocessing \n"
     ]
    },
    {
     "data": {
      "application/vnd.jupyter.widget-view+json": {
       "model_id": "c03034b0af2c423090a1b1b325a0e1bf",
       "version_major": 2,
       "version_minor": 0
      },
      "text/plain": [
       "  0%|          | 0/1114 [00:00<?, ?it/s]"
      ]
     },
     "metadata": {},
     "output_type": "display_data"
    },
    {
     "name": "stderr",
     "output_type": "stream",
     "text": [
      "\u001b[32m[I 2021-11-15 17:13:24,537]\u001b[0m Trial 97 finished with value: 0.7298106553829178 and parameters: {'e048': 0.19708211376245444, 'e049': 0.0008209099481518711, 'e051': 0.6470253082122985, 'e053': 0.9201805531317295, 'e054': 0.16842573621218168, 'e074': 0.957920712061726}. Best is trial 97 with value: 0.7298106553829178.\u001b[0m\n",
      "2021-11-15 17:13:25,406 postprocessor.py     58   [INFO] [__call__] start postprocessing \n"
     ]
    },
    {
     "data": {
      "application/vnd.jupyter.widget-view+json": {
       "model_id": "1c53a048f4814ddfbf7c686debecd693",
       "version_major": 2,
       "version_minor": 0
      },
      "text/plain": [
       "  0%|          | 0/1114 [00:00<?, ?it/s]"
      ]
     },
     "metadata": {},
     "output_type": "display_data"
    },
    {
     "name": "stderr",
     "output_type": "stream",
     "text": [
      "\u001b[32m[I 2021-11-15 17:13:32,211]\u001b[0m Trial 98 finished with value: 0.719622145508591 and parameters: {'e048': 0.20422788648628284, 'e049': 0.004877338703420858, 'e051': 0.6526447996519481, 'e053': 0.9185413397420044, 'e054': 0.16964683855475546, 'e074': 0.6019033906176845}. Best is trial 97 with value: 0.7298106553829178.\u001b[0m\n",
      "2021-11-15 17:13:33,071 postprocessor.py     58   [INFO] [__call__] start postprocessing \n"
     ]
    },
    {
     "data": {
      "application/vnd.jupyter.widget-view+json": {
       "model_id": "b671503c8cf9478584c3d13a7afcd2e7",
       "version_major": 2,
       "version_minor": 0
      },
      "text/plain": [
       "  0%|          | 0/1114 [00:00<?, ?it/s]"
      ]
     },
     "metadata": {},
     "output_type": "display_data"
    },
    {
     "name": "stderr",
     "output_type": "stream",
     "text": [
      "\u001b[32m[I 2021-11-15 17:13:39,903]\u001b[0m Trial 99 finished with value: 0.7286736116965024 and parameters: {'e048': 0.23200422298375428, 'e049': 0.039404220746285405, 'e051': 0.7180738643799847, 'e053': 0.9596028836014056, 'e054': 0.1263126651568041, 'e074': 0.9733007465605855}. Best is trial 97 with value: 0.7298106553829178.\u001b[0m\n"
     ]
    }
   ],
   "source": [
    "import optuna\n",
    "study = optuna.create_study(direction='maximize')\n",
    "study.optimize(objective, n_trials=100)"
   ]
  },
  {
   "cell_type": "code",
   "execution_count": 20,
   "id": "9f7dcd4b",
   "metadata": {},
   "outputs": [
    {
     "name": "stdout",
     "output_type": "stream",
     "text": [
      "0.7298106553829178 {'e048': 0.19708211376245444, 'e049': 0.0008209099481518711, 'e051': 0.6470253082122985, 'e053': 0.9201805531317295, 'e054': 0.16842573621218168, 'e074': 0.957920712061726}\n"
     ]
    }
   ],
   "source": [
    "d=study.best_params \n",
    "v=study.best_value\n",
    "print(v, d)"
   ]
  },
  {
   "cell_type": "code",
   "execution_count": null,
   "id": "1fd68830",
   "metadata": {},
   "outputs": [],
   "source": []
  },
  {
   "cell_type": "code",
   "execution_count": null,
   "id": "2271302f",
   "metadata": {},
   "outputs": [],
   "source": []
  }
 ],
 "metadata": {
  "kernelspec": {
   "display_name": "Python 3 (ipykernel)",
   "language": "python",
   "name": "python3"
  },
  "language_info": {
   "codemirror_mode": {
    "name": "ipython",
    "version": 3
   },
   "file_extension": ".py",
   "mimetype": "text/x-python",
   "name": "python",
   "nbconvert_exporter": "python",
   "pygments_lexer": "ipython3",
   "version": "3.7.10"
  }
 },
 "nbformat": 4,
 "nbformat_minor": 5
}
